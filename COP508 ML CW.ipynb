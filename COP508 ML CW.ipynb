{
  "cells": [
    {
      "cell_type": "markdown",
      "id": "da8dd0c8",
      "metadata": {
        "id": "da8dd0c8"
      },
      "source": [
        "# COP508 Machine Learning CW\n"
      ]
    },
    {
      "cell_type": "markdown",
      "id": "f2984791",
      "metadata": {},
      "source": [
        "<b>Name -> Neville Mathew</b>\n",
        "<br>\n",
        "<b>Student No. -> F120315</b>\n"
      ]
    },
    {
      "cell_type": "markdown",
      "id": "5207d0b3",
      "metadata": {
        "id": "5207d0b3"
      },
      "source": [
        "## Table of Contents\n",
        "\n",
        "1. [Data Ingestion](#data-ingestion)\n",
        "\n",
        "   1. [Importing the Libraries](#import_libraries)\n",
        "   2. [Importing the Dataset](#importing_dataset)\n",
        "   3. [Splitting Dataset into Train & Test set](#dataset_split)\n",
        "   4. [Visualising Five Images from the Dataset](#visualize_images)\n",
        "\n",
        "2. [Data Preprocessing](#data_preprocessing)\n",
        "\n",
        "   1. [Grayscale Conversion](#grayscale)\n",
        "   2. [Normalization](#normalization)\n",
        "   3. [Gaussian Blur](#blur)\n",
        "   4. [Image Rotation](#rotate)\n",
        "   5. [One-Hot Encoding](#encoding)\n",
        "\n",
        "3. [Model Learning](#model_learning)\n",
        "\n",
        "   1. [Convolutional Neural Network (CNN) Models](#cnn_models)\n",
        "      1. [Base CNN Model](#base_cnn_model)\n",
        "      2. [Base CNN Model -> Shuffle, 25 Epochs, Kernel Filters, Grayscale & Gaussian Blur](#base_cnn_model_changes)\n",
        "      3. [ResNet50 CNN Model](#resnet50_cnn_model)\n",
        "      4. [Best CNN Model](#best_cnn_model)\n",
        "\n",
        "4. [Model Evaluation](#model_evaluation)\n",
        "\n",
        "   1. [Visualization of Base CNN Model](#visualization_base_cnn_model)\n",
        "   2. [Visualization of Base CNN Model with Changes](#visualization_base_cnn_model_changes)\n",
        "   3. [Visualization of ResNet50 CNN Model](#visualization_resnet50_cnn_model)\n",
        "   4. [Visualization of Best CNN Model](#visualization_best_cnn_model)\n",
        "\n",
        "5. [Model Prediction](#model_prediction)\n",
        "   1. [Prediction of Best CNN Model](#prediction_best_cnn_model)\n"
      ]
    },
    {
      "cell_type": "markdown",
      "id": "33316fd1",
      "metadata": {
        "id": "33316fd1"
      },
      "source": [
        "## <a name=\"data-ingestion\">Data Ingestion</a>\n"
      ]
    },
    {
      "cell_type": "markdown",
      "id": "7975f6d2",
      "metadata": {
        "id": "7975f6d2"
      },
      "source": [
        "### <a name=\"import_libraries\">Importing the Libraries</a>\n"
      ]
    },
    {
      "cell_type": "code",
      "execution_count": 1,
      "id": "_f_StMjyUujE",
      "metadata": {
        "id": "_f_StMjyUujE"
      },
      "outputs": [
        {
          "name": "stderr",
          "output_type": "stream",
          "text": [
            "2022-01-13 14:25:28.725141: I tensorflow/stream_executor/platform/default/dso_loader.cc:49] Successfully opened dynamic library libcudart.so.10.1\n"
          ]
        }
      ],
      "source": [
        "import os\n",
        "import numpy as np\n",
        "import pickle\n",
        "import requests\n",
        "import matplotlib.pyplot as plt\n",
        "import cv2\n",
        "import wget\n",
        "import tensorflow as tf\n",
        "from tensorflow.keras.applications.resnet50 import ResNet50\n",
        "from sklearn.metrics import accuracy_score\n",
        "from matplotlib import image\n",
        "from scipy import ndimage\n",
        "from tensorflow import keras\n",
        "from tensorflow.keras import layers\n",
        "from tensorflow.keras.layers import Conv2D, MaxPool2D, Flatten, Dense, Dropout, Activation, BatchNormalization\n",
        "from keras.utils import np_utils\n",
        "from tensorflow.keras import optimizers\n",
        "from keras.models import Sequential\n"
      ]
    },
    {
      "cell_type": "markdown",
      "id": "fe6b960e",
      "metadata": {
        "id": "fe6b960e"
      },
      "source": [
        "### <a name=\"importing_dataset\">Importing the Dataset</a>\n"
      ]
    },
    {
      "cell_type": "code",
      "execution_count": 2,
      "id": "sVoI7_X6UujG",
      "metadata": {
        "id": "sVoI7_X6UujG"
      },
      "outputs": [],
      "source": [
        "path_to_check = os.path.join('', 'image_recognition_dataset.pth')\n",
        "data_path = path_to_check\n",
        "\n",
        "\n",
        "def load_dataset():\n",
        "    if not os.path.exists(path_to_check):\n",
        "        url = 'https://www.dropbox.com/s/j05hyf667ikzu4s/image_recognition_dataset.pth?dl=1'\n",
        "        filename = wget.download(url)\n",
        "        data_path = os.path.join('', filename)\n",
        "    else:\n",
        "        print(\"Data found on local {:s}\".format(path_to_check))\n",
        "        data_path = path_to_check\n",
        "\n",
        "    data = pickle.load(open(data_path, 'rb'))\n",
        "    train_imgs, train_labels, test_imgs, test_labels = data.values()\n",
        "    return train_imgs, train_labels, test_imgs, test_labels\n"
      ]
    },
    {
      "cell_type": "markdown",
      "id": "4334cbac",
      "metadata": {
        "id": "4334cbac"
      },
      "source": [
        "### <a name=\"dataset_split\">Splitting the Dataset into the Train & Test set</a>\n"
      ]
    },
    {
      "cell_type": "code",
      "execution_count": 3,
      "id": "xOE0QVfQUujI",
      "metadata": {
        "colab": {
          "base_uri": "https://localhost:8080/"
        },
        "id": "xOE0QVfQUujI",
        "outputId": "dc335af8-02f1-4eb0-a869-e0ad09daf12a"
      },
      "outputs": [
        {
          "name": "stdout",
          "output_type": "stream",
          "text": [
            "Data found on local image_recognition_dataset.pth\n"
          ]
        }
      ],
      "source": [
        "train_imgs, train_labels, test_imgs, test_labels = load_dataset()\n"
      ]
    },
    {
      "cell_type": "markdown",
      "id": "329c6710",
      "metadata": {
        "id": "329c6710"
      },
      "source": [
        "### <a name=\"display_dataset\">Displaying Dataset Information</a>\n"
      ]
    },
    {
      "cell_type": "code",
      "execution_count": 4,
      "id": "16Vd_aSQUujK",
      "metadata": {
        "colab": {
          "base_uri": "https://localhost:8080/"
        },
        "id": "16Vd_aSQUujK",
        "outputId": "9d8919c0-d19c-4531-904c-3ea7b4bfaa12"
      },
      "outputs": [
        {
          "name": "stdout",
          "output_type": "stream",
          "text": [
            "Total number of classes in dataset -> 8\n",
            "Shape of image training set ->  (40000, 32, 32, 3)\n",
            "Number of training images in dataset ->  40000\n",
            "Number of testing images in dataset ->  8000\n"
          ]
        }
      ],
      "source": [
        "dataset_classes = len(np.unique(train_labels))\n",
        "print(\"Total number of classes in dataset -> {:d}\".format(dataset_classes))\n",
        "print(\"Shape of image training set -> \", train_imgs.shape)\n",
        "print(\"Number of training images in dataset -> \", train_imgs.shape[0])\n",
        "print(\"Number of testing images in dataset -> \", test_imgs.shape[0])\n"
      ]
    },
    {
      "cell_type": "markdown",
      "id": "a383e471",
      "metadata": {
        "id": "a383e471"
      },
      "source": [
        "### <a name=\"visualize_images\">Visualising Five Images from the Dataset</a>\n"
      ]
    },
    {
      "cell_type": "code",
      "execution_count": 5,
      "id": "HDk6E9rvUujL",
      "metadata": {
        "colab": {
          "base_uri": "https://localhost:8080/",
          "height": 138
        },
        "id": "HDk6E9rvUujL",
        "outputId": "00bd2b11-52e5-4b7d-f196-5035aa8067ad"
      },
      "outputs": [
        {
          "name": "stderr",
          "output_type": "stream",
          "text": [
            "/home/lunet/conm/.conda/envs/cop508/lib/python3.9/site-packages/matplotlib/text.py:1223: FutureWarning: elementwise comparison failed; returning scalar instead, but in the future will perform elementwise comparison\n",
            "  if s != self._text:\n"
          ]
        },
        {
          "data": {
            "image/png": "[encoded data removed]",
            "text/plain": [
              "<Figure size 432x288 with 8 Axes>"
            ]
          },
          "metadata": {
            "needs_background": "light"
          },
          "output_type": "display_data"
        }
      ],
      "source": [
        "def plot_trained_images() -> None:\n",
        "    for i in range(8):\n",
        "        plt.subplot(1, 8, i+1)\n",
        "        imgData = np.array(train_imgs[i])\n",
        "        plt.title(train_labels[i])\n",
        "        plt.imshow(imgData)\n",
        "        plt.axis('off')\n",
        "\n",
        "\n",
        "plot_trained_images()\n"
      ]
    },
    {
      "cell_type": "code",
      "execution_count": 6,
      "id": "5e0bfed7",
      "metadata": {
        "colab": {
          "base_uri": "https://localhost:8080/",
          "height": 138
        },
        "id": "5e0bfed7",
        "outputId": "932de0f3-868f-4ba5-dfe7-83119ffa0ff4"
      },
      "outputs": [
        {
          "data": {
            "image/png": "[encoded data removed]",
            "text/plain": [
              "<Figure size 432x288 with 8 Axes>"
            ]
          },
          "metadata": {
            "needs_background": "light"
          },
          "output_type": "display_data"
        }
      ],
      "source": [
        "def plot_test_images() -> None:\n",
        "    for i in range(8):\n",
        "        plt.subplot(1, 8, i+1)\n",
        "        imgData = np.array(test_imgs[i])\n",
        "        plt.title(test_labels[i])\n",
        "        plt.imshow(imgData)\n",
        "        plt.axis('off')\n",
        "\n",
        "\n",
        "plot_test_images()\n"
      ]
    },
    {
      "cell_type": "markdown",
      "id": "e992911c",
      "metadata": {
        "id": "e992911c"
      },
      "source": [
        "## <a name=\"data_preprocessing\">Data Preprocessing</a>\n"
      ]
    },
    {
      "cell_type": "markdown",
      "id": "f7d56252",
      "metadata": {
        "id": "f7d56252"
      },
      "source": [
        "### <a name=\"grayscale\">Grayscale Conversion</a>\n"
      ]
    },
    {
      "cell_type": "code",
      "execution_count": 7,
      "id": "e6a22e92",
      "metadata": {
        "colab": {
          "base_uri": "https://localhost:8080/",
          "height": 283
        },
        "id": "e6a22e92",
        "outputId": "598b6b4a-eb1e-414d-95e9-69329e47f58d"
      },
      "outputs": [
        {
          "data": {
            "text/plain": [
              "<matplotlib.image.AxesImage at 0x7f7e346e8fd0>"
            ]
          },
          "execution_count": 7,
          "metadata": {},
          "output_type": "execute_result"
        },
        {
          "data": {
            "image/png": "[encoded data removed]",
            "text/plain": [
              "<Figure size 432x288 with 1 Axes>"
            ]
          },
          "metadata": {
            "needs_background": "light"
          },
          "output_type": "display_data"
        }
      ],
      "source": [
        "# Conversion of colour image to grayscale.\n",
        "grayscale_train_img = [cv2.cvtColor(\n",
        "    one_img, cv2.COLOR_BGR2GRAY) for one_img in train_imgs]\n",
        "grayscale_test_img = [cv2.cvtColor(\n",
        "    one_img, cv2.COLOR_BGR2GRAY) for one_img in test_imgs]\n",
        "plt.imshow(grayscale_train_img[0], cmap='gray')\n"
      ]
    },
    {
      "cell_type": "markdown",
      "id": "8810e2d9",
      "metadata": {
        "id": "8810e2d9"
      },
      "source": [
        "### <a name=\"normalization\">Normalization</a>\n"
      ]
    },
    {
      "cell_type": "code",
      "execution_count": 22,
      "id": "cd6ddd71",
      "metadata": {
        "colab": {
          "base_uri": "https://localhost:8080/",
          "height": 283
        },
        "id": "cd6ddd71",
        "outputId": "8d4e22b6-c05f-4155-b659-ca7440756ce1"
      },
      "outputs": [
        {
          "data": {
            "text/plain": [
              "<matplotlib.image.AxesImage at 0x7f7e34671e20>"
            ]
          },
          "execution_count": 22,
          "metadata": {},
          "output_type": "execute_result"
        },
        {
          "data": {
            "image/png": "[encoded data removed]",
            "text/plain": [
              "<Figure size 432x288 with 1 Axes>"
            ]
          },
          "metadata": {
            "needs_background": "light"
          },
          "output_type": "display_data"
        }
      ],
      "source": [
        "# Normalizing all images in the dataset in the range of 0 and 1.\n",
        "normalized_train_img = [one_img/255.0 for one_img in train_imgs]\n",
        "normalized_test_img = [one_img/255.0 for one_img in test_imgs]\n",
        "plt.imshow(normalized_train_img[0])\n"
      ]
    },
    {
      "cell_type": "markdown",
      "id": "f0e1d41c",
      "metadata": {
        "id": "f0e1d41c"
      },
      "source": [
        "### <a name=\"blur\">Gaussian Blur</a>\n"
      ]
    },
    {
      "cell_type": "code",
      "execution_count": 9,
      "id": "f33f73ba",
      "metadata": {
        "colab": {
          "base_uri": "https://localhost:8080/",
          "height": 283
        },
        "id": "f33f73ba",
        "outputId": "f4729122-0792-4850-c255-0bdd817c24ec"
      },
      "outputs": [
        {
          "data": {
            "text/plain": [
              "<matplotlib.image.AxesImage at 0x7f7e33cd7670>"
            ]
          },
          "execution_count": 9,
          "metadata": {},
          "output_type": "execute_result"
        },
        {
          "data": {
            "image/png": "[encoded data removed]",
            "text/plain": [
              "<Figure size 432x288 with 1 Axes>"
            ]
          },
          "metadata": {
            "needs_background": "light"
          },
          "output_type": "display_data"
        }
      ],
      "source": [
        "# Blurring images of sigma 1.\n",
        "blurred_train_img = [ndimage.gaussian_filter(\n",
        "    train_blur_imgs, sigma=0.5) for train_blur_imgs in normalized_train_img]\n",
        "blurred_test_img = [ndimage.gaussian_filter(\n",
        "    test_blur_imgs, sigma=0.5) for test_blur_imgs in normalized_test_img]\n",
        "plt.imshow(blurred_train_img[0])\n"
      ]
    },
    {
      "cell_type": "markdown",
      "id": "272cd6ff",
      "metadata": {
        "id": "272cd6ff"
      },
      "source": [
        "### <a name=\"rotation\">Image Rotation</a>\n"
      ]
    },
    {
      "cell_type": "code",
      "execution_count": 23,
      "id": "ae327bb7",
      "metadata": {
        "colab": {
          "base_uri": "https://localhost:8080/",
          "height": 301
        },
        "id": "ae327bb7",
        "outputId": "3d4d0ad9-a33c-4186-fbb2-384bff0f8b58"
      },
      "outputs": [
        {
          "name": "stderr",
          "output_type": "stream",
          "text": [
            "Clipping input data to the valid range for imshow with RGB data ([0..1] for floats or [0..255] for integers).\n"
          ]
        },
        {
          "data": {
            "text/plain": [
              "<matplotlib.image.AxesImage at 0x7f7dbb238130>"
            ]
          },
          "execution_count": 23,
          "metadata": {},
          "output_type": "execute_result"
        },
        {
          "data": {
            "image/png": "[encoded data removed]",
            "text/plain": [
              "<Figure size 432x288 with 1 Axes>"
            ]
          },
          "metadata": {
            "needs_background": "light"
          },
          "output_type": "display_data"
        }
      ],
      "source": [
        "# Rotation of images to 180 degrees through the use of a list comprehension.\n",
        "rotated_train_img = np.array([ndimage.rotate(\n",
        "    train_rotate_imgs, angle=180) for train_rotate_imgs in normalized_train_img])\n",
        "rotated_test_img = np.array([ndimage.rotate(\n",
        "    test_rotate_imgs, angle=180) for test_rotate_imgs in normalized_test_img])\n",
        "plt.imshow(rotated_train_img[0])\n"
      ]
    },
    {
      "cell_type": "markdown",
      "id": "cQmiaD1FaE9o",
      "metadata": {
        "id": "cQmiaD1FaE9o"
      },
      "source": [
        "### <a name=\"encoding\">One-Hot Encoding</a>\n"
      ]
    },
    {
      "cell_type": "code",
      "execution_count": 11,
      "id": "a84df959",
      "metadata": {
        "colab": {
          "base_uri": "https://localhost:8080/"
        },
        "id": "a84df959",
        "outputId": "4b34ab4b-0afe-4f2c-8274-6e1c1b4ebdbc"
      },
      "outputs": [
        {
          "name": "stdout",
          "output_type": "stream",
          "text": [
            "Shape of training split before one-hot encoding ->  (40000, 1)\n",
            "Shape of training split after one-hot encoding ->  (40000, 8)\n"
          ]
        }
      ],
      "source": [
        "# Reshaping of rotated_train_img and rotated_test_img which are numpy arrays.\n",
        "rotated_train_img = rotated_train_img.reshape(\n",
        "    rotated_train_img.shape[0], 32, 32, 3)\n",
        "rotated_test_img = rotated_test_img.reshape(\n",
        "    rotated_test_img.shape[0], 32, 32, 3)\n",
        "\n",
        "# one-hot encoding - Used to help in preprocessing categorical features of the images.\n",
        "no_of_classes = 8\n",
        "print(\"Shape of training split before one-hot encoding -> \", train_labels.shape)\n",
        "Y_train = np_utils.to_categorical(train_labels, no_of_classes)\n",
        "Y_test = np_utils.to_categorical(test_labels, no_of_classes)\n",
        "print(\"Shape of training split after one-hot encoding -> \", Y_train.shape)\n"
      ]
    },
    {
      "cell_type": "markdown",
      "id": "d877da98",
      "metadata": {
        "id": "d877da98"
      },
      "source": [
        "## <a name=\"model_learning\">Model Learning</a>\n"
      ]
    },
    {
      "cell_type": "markdown",
      "id": "b8abfeba",
      "metadata": {
        "id": "b8abfeba"
      },
      "source": [
        "### <a name=\"cnn_models\">Convolutional Neural Network (CNN) Models</a>\n"
      ]
    },
    {
      "cell_type": "markdown",
      "id": "7b7be011",
      "metadata": {
        "id": "7b7be011"
      },
      "source": [
        "#### <a name=\"base_cnn_model\">Base CNN Model</a>\n"
      ]
    },
    {
      "cell_type": "code",
      "execution_count": 24,
      "id": "9b8a60d0",
      "metadata": {
        "id": "9b8a60d0"
      },
      "outputs": [],
      "source": [
        "# Reference: https://www.analyticsvidhya.com/blog/2020/02/learn-image-classification-cnn-convolutional-neural-networks-3-datasets/\n",
        "\n",
        "# To prevent any memory build up from old models or layers.\n",
        "keras.backend.clear_session()\n",
        "np.random.seed(15)\n",
        "tf.random.set_seed(15)\n",
        "\n",
        "\n",
        "def base_cnn_model() -> Sequential:\n",
        "    \"\"\"\n",
        "    Function which returns the base model.\n",
        "    :rtype: Sequential\n",
        "    \"\"\"\n",
        "    # Creating an early stopping function to monitor loss while keeping the best results.\n",
        "    early_callback = tf.keras.callbacks.EarlyStopping(\n",
        "        monitor='loss', restore_best_weights=True, patience=0)\n",
        "\n",
        "    # Initializing Sequential model, creating linear stack of model layers.\n",
        "    base_cnn_model.model1 = Sequential()\n",
        "\n",
        "    # Adding 3 convolutional layers with max pooling and dropout functions.\n",
        "    base_cnn_model.model1.add(Conv2D(32, kernel_size=(3, 3), strides=(1, 1),\n",
        "                                     padding='same', input_shape=(32, 32, 3), activation='relu'))\n",
        "\n",
        "    base_cnn_model.model1.add(Conv2D(64, kernel_size=(3, 3), strides=(\n",
        "        1, 1), padding='same', activation='relu'))\n",
        "    base_cnn_model.model1.add(MaxPool2D(pool_size=(2, 2)))\n",
        "    base_cnn_model.model1.add(Dropout(0.25))\n",
        "\n",
        "    base_cnn_model.model1.add(Conv2D(128, kernel_size=(3, 3), strides=(\n",
        "        1, 1), padding='same', activation='relu'))\n",
        "    base_cnn_model.model1.add(MaxPool2D(pool_size=(2, 2)))\n",
        "    base_cnn_model.model1.add(Dropout(0.25))\n",
        "\n",
        "    # Flattening convolutional layer output.\n",
        "    base_cnn_model.model1.add(Flatten())\n",
        "\n",
        "    # Adding 2 hidden layers.\n",
        "    base_cnn_model.model1.add(Dense(500, activation='relu'))\n",
        "    base_cnn_model.model1.add(Dropout(0.75))\n",
        "    base_cnn_model.model1.add(Dense(250, activation='relu'))\n",
        "    base_cnn_model.model1.add(Dropout(0.55))\n",
        "\n",
        "    # Final output layer with 8 classes.\n",
        "    base_cnn_model.model1.add(Dense(8, activation='softmax'))\n",
        "\n",
        "    # Compilation of sequential model with suitable parameters.\n",
        "    base_cnn_model.model1.compile(loss='categorical_crossentropy',\n",
        "                                  metrics=['accuracy', 'AUC'], optimizer='adam')\n",
        "\n",
        "    # Training model for 20 epochs\n",
        "    base_cnn_model.base_final_model = base_cnn_model.model1.fit(rotated_train_img, Y_train, batch_size=128, epochs=20, callbacks=[\n",
        "        early_callback], validation_data=(rotated_test_img, Y_test))\n",
        "\n",
        "    return base_cnn_model.model1, base_cnn_model.base_final_model\n"
      ]
    },
    {
      "cell_type": "code",
      "execution_count": 27,
      "id": "eca4e98c",
      "metadata": {},
      "outputs": [
        {
          "name": "stdout",
          "output_type": "stream",
          "text": [
            "Model: \"sequential\"\n",
            "_________________________________________________________________\n",
            "Layer (type)                 Output Shape              Param #   \n",
            "=================================================================\n",
            "conv2d (Conv2D)              (None, 32, 32, 32)        896       \n",
            "_________________________________________________________________\n",
            "conv2d_1 (Conv2D)            (None, 32, 32, 64)        18496     \n",
            "_________________________________________________________________\n",
            "max_pooling2d (MaxPooling2D) (None, 16, 16, 64)        0         \n",
            "_________________________________________________________________\n",
            "dropout (Dropout)            (None, 16, 16, 64)        0         \n",
            "_________________________________________________________________\n",
            "conv2d_2 (Conv2D)            (None, 16, 16, 128)       73856     \n",
            "_________________________________________________________________\n",
            "max_pooling2d_1 (MaxPooling2 (None, 8, 8, 128)         0         \n",
            "_________________________________________________________________\n",
            "dropout_1 (Dropout)          (None, 8, 8, 128)         0         \n",
            "_________________________________________________________________\n",
            "flatten (Flatten)            (None, 8192)              0         \n",
            "_________________________________________________________________\n",
            "dense (Dense)                (None, 500)               4096500   \n",
            "_________________________________________________________________\n",
            "dropout_2 (Dropout)          (None, 500)               0         \n",
            "_________________________________________________________________\n",
            "dense_1 (Dense)              (None, 250)               125250    \n",
            "_________________________________________________________________\n",
            "dropout_3 (Dropout)          (None, 250)               0         \n",
            "_________________________________________________________________\n",
            "dense_2 (Dense)              (None, 8)                 2008      \n",
            "=================================================================\n",
            "Total params: 4,317,006\n",
            "Trainable params: 4,317,006\n",
            "Non-trainable params: 0\n",
            "_________________________________________________________________\n"
          ]
        }
      ],
      "source": [
        "base_cnn_model.model1.summary()\n"
      ]
    },
    {
      "cell_type": "code",
      "execution_count": 26,
      "id": "22769a0f",
      "metadata": {},
      "outputs": [
        {
          "name": "stdout",
          "output_type": "stream",
          "text": [
            "Epoch 1/20\n",
            "313/313 [==============================] - 4s 12ms/step - loss: 1.9149 - accuracy: 0.2348 - auc: 0.6491 - val_loss: 1.3164 - val_accuracy: 0.5253 - val_auc: 0.8829\n",
            "Epoch 2/20\n",
            "313/313 [==============================] - 4s 12ms/step - loss: 1.3659 - accuracy: 0.4997 - auc: 0.8620 - val_loss: 1.0954 - val_accuracy: 0.6133 - val_auc: 0.9192\n",
            "Epoch 3/20\n",
            "313/313 [==============================] - 3s 11ms/step - loss: 1.1715 - accuracy: 0.5716 - auc: 0.9004 - val_loss: 0.9940 - val_accuracy: 0.6404 - val_auc: 0.9294\n",
            "Epoch 4/20\n",
            "313/313 [==============================] - 4s 12ms/step - loss: 1.0745 - accuracy: 0.6138 - auc: 0.9167 - val_loss: 0.8941 - val_accuracy: 0.6886 - val_auc: 0.9441\n",
            "Epoch 5/20\n",
            "313/313 [==============================] - 3s 11ms/step - loss: 1.0052 - accuracy: 0.6420 - auc: 0.9271 - val_loss: 0.8490 - val_accuracy: 0.7035 - val_auc: 0.9488\n",
            "Epoch 6/20\n",
            "313/313 [==============================] - 3s 11ms/step - loss: 0.9345 - accuracy: 0.6684 - auc: 0.9370 - val_loss: 0.8037 - val_accuracy: 0.7138 - val_auc: 0.9534\n",
            "Epoch 7/20\n",
            "313/313 [==============================] - 3s 10ms/step - loss: 0.9026 - accuracy: 0.6784 - auc: 0.9410 - val_loss: 0.7819 - val_accuracy: 0.7304 - val_auc: 0.9574\n",
            "Epoch 8/20\n",
            "313/313 [==============================] - 3s 11ms/step - loss: 0.8504 - accuracy: 0.7002 - auc: 0.9474 - val_loss: 0.8539 - val_accuracy: 0.6974 - val_auc: 0.9466\n",
            "Epoch 9/20\n",
            "313/313 [==============================] - 4s 11ms/step - loss: 0.8393 - accuracy: 0.7043 - auc: 0.9488 - val_loss: 0.8021 - val_accuracy: 0.7168 - val_auc: 0.9528\n",
            "Epoch 10/20\n",
            "313/313 [==============================] - 4s 11ms/step - loss: 0.7920 - accuracy: 0.7205 - auc: 0.9542 - val_loss: 0.7112 - val_accuracy: 0.7548 - val_auc: 0.9636\n",
            "Epoch 11/20\n",
            "313/313 [==============================] - 3s 10ms/step - loss: 0.7571 - accuracy: 0.7313 - auc: 0.9583 - val_loss: 0.7336 - val_accuracy: 0.7409 - val_auc: 0.9613\n",
            "Epoch 12/20\n",
            "313/313 [==============================] - 4s 12ms/step - loss: 0.7465 - accuracy: 0.7397 - auc: 0.9590 - val_loss: 0.6991 - val_accuracy: 0.7519 - val_auc: 0.9642\n",
            "Epoch 13/20\n",
            "313/313 [==============================] - 4s 12ms/step - loss: 0.7249 - accuracy: 0.7464 - auc: 0.9613 - val_loss: 0.6960 - val_accuracy: 0.7596 - val_auc: 0.9644\n",
            "Epoch 14/20\n",
            "313/313 [==============================] - 4s 11ms/step - loss: 0.6865 - accuracy: 0.7582 - auc: 0.9652 - val_loss: 0.6859 - val_accuracy: 0.7611 - val_auc: 0.9651\n",
            "Epoch 15/20\n",
            "313/313 [==============================] - 4s 12ms/step - loss: 0.6794 - accuracy: 0.7607 - auc: 0.9658 - val_loss: 0.6973 - val_accuracy: 0.7552 - val_auc: 0.9638\n",
            "Epoch 16/20\n",
            "313/313 [==============================] - 3s 11ms/step - loss: 0.6717 - accuracy: 0.7619 - auc: 0.9667 - val_loss: 0.7136 - val_accuracy: 0.7500 - val_auc: 0.9622\n",
            "Epoch 17/20\n",
            "313/313 [==============================] - 3s 11ms/step - loss: 0.6539 - accuracy: 0.7728 - auc: 0.9681 - val_loss: 0.6717 - val_accuracy: 0.7667 - val_auc: 0.9669\n",
            "Epoch 18/20\n",
            "313/313 [==============================] - 3s 10ms/step - loss: 0.6226 - accuracy: 0.7817 - auc: 0.9711 - val_loss: 0.6951 - val_accuracy: 0.7600 - val_auc: 0.9644\n",
            "Epoch 19/20\n",
            "313/313 [==============================] - 3s 11ms/step - loss: 0.6190 - accuracy: 0.7814 - auc: 0.9713 - val_loss: 0.6643 - val_accuracy: 0.7679 - val_auc: 0.9673\n",
            "Epoch 20/20\n",
            "313/313 [==============================] - 4s 11ms/step - loss: 0.6152 - accuracy: 0.7835 - auc: 0.9716 - val_loss: 0.6599 - val_accuracy: 0.7736 - val_auc: 0.9674\n"
          ]
        },
        {
          "data": {
            "text/plain": [
              "(<tensorflow.python.keras.engine.sequential.Sequential at 0x7f7e345f7af0>,\n",
              " <tensorflow.python.keras.callbacks.History at 0x7f7e346414f0>)"
            ]
          },
          "execution_count": 26,
          "metadata": {},
          "output_type": "execute_result"
        }
      ],
      "source": [
        "base_cnn_model()\n"
      ]
    },
    {
      "cell_type": "markdown",
      "id": "98ddb242",
      "metadata": {},
      "source": [
        "#### <a name=\"base_cnn_model_changes\">Base CNN Model -> Shuffle, 25 Epochs, Kernel Filters, Grayscale & Gaussian Blur</a>\n"
      ]
    },
    {
      "cell_type": "code",
      "execution_count": 12,
      "id": "5ebf61e2",
      "metadata": {},
      "outputs": [],
      "source": [
        "# To prevent any memory build up from old models or layers.\n",
        "keras.backend.clear_session()\n",
        "np.random.seed(15)\n",
        "tf.random.set_seed(15)\n",
        "\n",
        "\n",
        "def base_cnn_model_changes() -> Sequential:\n",
        "    \"\"\"\n",
        "    Function which returns the base model.\n",
        "    :rtype: Sequential\n",
        "    \"\"\"\n",
        "    # Creating an early stopping function to monitor loss while keeping the best results.\n",
        "    early_callback = tf.keras.callbacks.EarlyStopping(\n",
        "        monitor='loss', restore_best_weights=True, patience=0)\n",
        "\n",
        "    # Initializing Sequential model, creating linear stack of model layers.\n",
        "    base_cnn_model_changes.changes_model = Sequential()\n",
        "\n",
        "    # Adding 3 convolutional layers with max pooling and dropout functions.\n",
        "    base_cnn_model_changes.changes_model.add(Conv2D(64, kernel_size=(3, 3), strides=(1, 1),\n",
        "                                                    padding='same', input_shape=(32, 32, 1), activation='relu'))\n",
        "\n",
        "    base_cnn_model_changes.changes_model.add(Conv2D(128, kernel_size=(3, 3), strides=(\n",
        "        1, 1), padding='same', activation='relu'))\n",
        "    base_cnn_model_changes.changes_model.add(MaxPool2D(pool_size=(2, 2)))\n",
        "    base_cnn_model_changes.changes_model.add(Dropout(0.25))\n",
        "\n",
        "    base_cnn_model_changes.changes_model.add(Conv2D(256, kernel_size=(3, 3), strides=(\n",
        "        1, 1), padding='same', activation='relu'))\n",
        "    base_cnn_model_changes.changes_model.add(MaxPool2D(pool_size=(2, 2)))\n",
        "    base_cnn_model_changes.changes_model.add(Dropout(0.25))\n",
        "\n",
        "    # Flattening convolutional layer output.\n",
        "    base_cnn_model_changes.changes_model.add(Flatten())\n",
        "\n",
        "    # Adding 2 hidden layers.\n",
        "    base_cnn_model_changes.changes_model.add(Dense(500, activation='relu'))\n",
        "    base_cnn_model_changes.changes_model.add(Dropout(0.75))\n",
        "    base_cnn_model_changes.changes_model.add(Dense(250, activation='relu'))\n",
        "    base_cnn_model_changes.changes_model.add(Dropout(0.55))\n",
        "\n",
        "    # Final output layer with 8 classes.\n",
        "    base_cnn_model_changes.changes_model.add(Dense(8, activation='softmax'))\n",
        "\n",
        "    # Compilation of sequential model with suitable parameters.\n",
        "    base_cnn_model_changes.changes_model.compile(loss='categorical_crossentropy',\n",
        "                                                 metrics=['accuracy', 'AUC'], optimizer='adam')\n",
        "\n",
        "    # Training model for 25 epochs with shuffling of data.\n",
        "    base_cnn_model_changes.base_final_model_changes = base_cnn_model_changes.changes_model.fit(rotated_train_img, Y_train, batch_size=128, epochs=25, callbacks=[\n",
        "        early_callback], validation_data=(rotated_test_img, Y_test), shuffle=True)\n",
        "\n",
        "    return base_cnn_model_changes.changes_model, base_cnn_model_changes.base_final_model_changes\n"
      ]
    },
    {
      "cell_type": "code",
      "execution_count": 20,
      "id": "dbeee39f",
      "metadata": {},
      "outputs": [
        {
          "name": "stdout",
          "output_type": "stream",
          "text": [
            "Model: \"sequential\"\n",
            "_________________________________________________________________\n",
            "Layer (type)                 Output Shape              Param #   \n",
            "=================================================================\n",
            "conv2d (Conv2D)              (None, 32, 32, 64)        640       \n",
            "_________________________________________________________________\n",
            "conv2d_1 (Conv2D)            (None, 32, 32, 128)       73856     \n",
            "_________________________________________________________________\n",
            "max_pooling2d (MaxPooling2D) (None, 16, 16, 128)       0         \n",
            "_________________________________________________________________\n",
            "dropout (Dropout)            (None, 16, 16, 128)       0         \n",
            "_________________________________________________________________\n",
            "conv2d_2 (Conv2D)            (None, 16, 16, 256)       295168    \n",
            "_________________________________________________________________\n",
            "max_pooling2d_1 (MaxPooling2 (None, 8, 8, 256)         0         \n",
            "_________________________________________________________________\n",
            "dropout_1 (Dropout)          (None, 8, 8, 256)         0         \n",
            "_________________________________________________________________\n",
            "flatten (Flatten)            (None, 16384)             0         \n",
            "_________________________________________________________________\n",
            "dense (Dense)                (None, 500)               8192500   \n",
            "_________________________________________________________________\n",
            "dropout_2 (Dropout)          (None, 500)               0         \n",
            "_________________________________________________________________\n",
            "dense_1 (Dense)              (None, 250)               125250    \n",
            "_________________________________________________________________\n",
            "dropout_3 (Dropout)          (None, 250)               0         \n",
            "_________________________________________________________________\n",
            "dense_2 (Dense)              (None, 8)                 2008      \n",
            "=================================================================\n",
            "Total params: 8,689,422\n",
            "Trainable params: 8,689,422\n",
            "Non-trainable params: 0\n",
            "_________________________________________________________________\n"
          ]
        }
      ],
      "source": [
        "base_cnn_model_changes.changes_model.summary()\n"
      ]
    },
    {
      "cell_type": "code",
      "execution_count": 19,
      "id": "5413e898",
      "metadata": {},
      "outputs": [
        {
          "name": "stderr",
          "output_type": "stream",
          "text": [
            "2022-01-13 14:26:56.659327: I tensorflow/compiler/jit/xla_cpu_device.cc:41] Not creating XLA devices, tf_xla_enable_xla_devices not set\n",
            "2022-01-13 14:26:56.659856: I tensorflow/stream_executor/platform/default/dso_loader.cc:49] Successfully opened dynamic library libcuda.so.1\n",
            "2022-01-13 14:26:56.691329: I tensorflow/stream_executor/cuda/cuda_gpu_executor.cc:941] successful NUMA node read from SysFS had negative value (-1), but there must be at least one NUMA node, so returning NUMA node zero\n",
            "2022-01-13 14:26:56.691624: I tensorflow/core/common_runtime/gpu/gpu_device.cc:1720] Found device 0 with properties: \n",
            "pciBusID: 0000:01:00.0 name: NVIDIA GeForce RTX 2080 Ti computeCapability: 7.5\n",
            "coreClock: 1.545GHz coreCount: 68 deviceMemorySize: 10.76GiB deviceMemoryBandwidth: 573.69GiB/s\n",
            "2022-01-13 14:26:56.691639: I tensorflow/stream_executor/platform/default/dso_loader.cc:49] Successfully opened dynamic library libcudart.so.10.1\n",
            "2022-01-13 14:26:56.692499: I tensorflow/stream_executor/platform/default/dso_loader.cc:49] Successfully opened dynamic library libcublas.so.10\n",
            "2022-01-13 14:26:56.692524: I tensorflow/stream_executor/platform/default/dso_loader.cc:49] Successfully opened dynamic library libcublasLt.so.10\n",
            "2022-01-13 14:26:56.693391: I tensorflow/stream_executor/platform/default/dso_loader.cc:49] Successfully opened dynamic library libcufft.so.10\n",
            "2022-01-13 14:26:56.693529: I tensorflow/stream_executor/platform/default/dso_loader.cc:49] Successfully opened dynamic library libcurand.so.10\n",
            "2022-01-13 14:26:56.694308: I tensorflow/stream_executor/platform/default/dso_loader.cc:49] Successfully opened dynamic library libcusolver.so.10\n",
            "2022-01-13 14:26:56.694700: I tensorflow/stream_executor/platform/default/dso_loader.cc:49] Successfully opened dynamic library libcusparse.so.10\n",
            "2022-01-13 14:26:56.696357: I tensorflow/stream_executor/platform/default/dso_loader.cc:49] Successfully opened dynamic library libcudnn.so.7\n",
            "2022-01-13 14:26:56.696429: I tensorflow/stream_executor/cuda/cuda_gpu_executor.cc:941] successful NUMA node read from SysFS had negative value (-1), but there must be at least one NUMA node, so returning NUMA node zero\n",
            "2022-01-13 14:26:56.696747: I tensorflow/stream_executor/cuda/cuda_gpu_executor.cc:941] successful NUMA node read from SysFS had negative value (-1), but there must be at least one NUMA node, so returning NUMA node zero\n",
            "2022-01-13 14:26:56.697011: I tensorflow/core/common_runtime/gpu/gpu_device.cc:1862] Adding visible gpu devices: 0\n",
            "2022-01-13 14:26:56.697465: I tensorflow/core/platform/cpu_feature_guard.cc:142] This TensorFlow binary is optimized with oneAPI Deep Neural Network Library (oneDNN) to use the following CPU instructions in performance-critical operations:  SSE4.1 SSE4.2 AVX AVX2 FMA\n",
            "To enable them in other operations, rebuild TensorFlow with the appropriate compiler flags.\n",
            "2022-01-13 14:26:56.697641: I tensorflow/stream_executor/cuda/cuda_gpu_executor.cc:941] successful NUMA node read from SysFS had negative value (-1), but there must be at least one NUMA node, so returning NUMA node zero\n",
            "2022-01-13 14:26:56.697915: I tensorflow/core/common_runtime/gpu/gpu_device.cc:1720] Found device 0 with properties: \n",
            "pciBusID: 0000:01:00.0 name: NVIDIA GeForce RTX 2080 Ti computeCapability: 7.5\n",
            "coreClock: 1.545GHz coreCount: 68 deviceMemorySize: 10.76GiB deviceMemoryBandwidth: 573.69GiB/s\n",
            "2022-01-13 14:26:56.697930: I tensorflow/stream_executor/platform/default/dso_loader.cc:49] Successfully opened dynamic library libcudart.so.10.1\n",
            "2022-01-13 14:26:56.697944: I tensorflow/stream_executor/platform/default/dso_loader.cc:49] Successfully opened dynamic library libcublas.so.10\n",
            "2022-01-13 14:26:56.697956: I tensorflow/stream_executor/platform/default/dso_loader.cc:49] Successfully opened dynamic library libcublasLt.so.10\n",
            "2022-01-13 14:26:56.697967: I tensorflow/stream_executor/platform/default/dso_loader.cc:49] Successfully opened dynamic library libcufft.so.10\n",
            "2022-01-13 14:26:56.697979: I tensorflow/stream_executor/platform/default/dso_loader.cc:49] Successfully opened dynamic library libcurand.so.10\n",
            "2022-01-13 14:26:56.697990: I tensorflow/stream_executor/platform/default/dso_loader.cc:49] Successfully opened dynamic library libcusolver.so.10\n",
            "2022-01-13 14:26:56.698002: I tensorflow/stream_executor/platform/default/dso_loader.cc:49] Successfully opened dynamic library libcusparse.so.10\n",
            "2022-01-13 14:26:56.698014: I tensorflow/stream_executor/platform/default/dso_loader.cc:49] Successfully opened dynamic library libcudnn.so.7\n",
            "2022-01-13 14:26:56.698050: I tensorflow/stream_executor/cuda/cuda_gpu_executor.cc:941] successful NUMA node read from SysFS had negative value (-1), but there must be at least one NUMA node, so returning NUMA node zero\n",
            "2022-01-13 14:26:56.698342: I tensorflow/stream_executor/cuda/cuda_gpu_executor.cc:941] successful NUMA node read from SysFS had negative value (-1), but there must be at least one NUMA node, so returning NUMA node zero\n",
            "2022-01-13 14:26:56.698604: I tensorflow/core/common_runtime/gpu/gpu_device.cc:1862] Adding visible gpu devices: 0\n",
            "2022-01-13 14:26:56.698624: I tensorflow/stream_executor/platform/default/dso_loader.cc:49] Successfully opened dynamic library libcudart.so.10.1\n",
            "2022-01-13 14:26:56.988322: I tensorflow/core/common_runtime/gpu/gpu_device.cc:1261] Device interconnect StreamExecutor with strength 1 edge matrix:\n",
            "2022-01-13 14:26:56.988344: I tensorflow/core/common_runtime/gpu/gpu_device.cc:1267]      0 \n",
            "2022-01-13 14:26:56.988348: I tensorflow/core/common_runtime/gpu/gpu_device.cc:1280] 0:   N \n",
            "2022-01-13 14:26:56.988493: I tensorflow/stream_executor/cuda/cuda_gpu_executor.cc:941] successful NUMA node read from SysFS had negative value (-1), but there must be at least one NUMA node, so returning NUMA node zero\n",
            "2022-01-13 14:26:56.988797: I tensorflow/stream_executor/cuda/cuda_gpu_executor.cc:941] successful NUMA node read from SysFS had negative value (-1), but there must be at least one NUMA node, so returning NUMA node zero\n",
            "2022-01-13 14:26:56.989117: I tensorflow/stream_executor/cuda/cuda_gpu_executor.cc:941] successful NUMA node read from SysFS had negative value (-1), but there must be at least one NUMA node, so returning NUMA node zero\n",
            "2022-01-13 14:26:56.989373: I tensorflow/core/common_runtime/gpu/gpu_device.cc:1406] Created TensorFlow device (/job:localhost/replica:0/task:0/device:GPU:0 with 10010 MB memory) -> physical GPU (device: 0, name: NVIDIA GeForce RTX 2080 Ti, pci bus id: 0000:01:00.0, compute capability: 7.5)\n",
            "2022-01-13 14:26:56.989547: I tensorflow/compiler/jit/xla_gpu_device.cc:99] Not creating XLA devices, tf_xla_enable_xla_devices not set\n",
            "2022-01-13 14:26:57.200902: I tensorflow/compiler/mlir/mlir_graph_optimization_pass.cc:116] None of the MLIR optimization passes are enabled (registered 2)\n",
            "2022-01-13 14:26:57.201361: I tensorflow/core/platform/profile_utils/cpu_utils.cc:112] CPU Frequency: 3000000000 Hz\n"
          ]
        },
        {
          "name": "stdout",
          "output_type": "stream",
          "text": [
            "Epoch 1/25\n"
          ]
        },
        {
          "name": "stderr",
          "output_type": "stream",
          "text": [
            "2022-01-13 14:26:57.715069: I tensorflow/stream_executor/platform/default/dso_loader.cc:49] Successfully opened dynamic library libcublas.so.10\n",
            "2022-01-13 14:26:57.834497: I tensorflow/stream_executor/platform/default/dso_loader.cc:49] Successfully opened dynamic library libcudnn.so.7\n"
          ]
        },
        {
          "name": "stdout",
          "output_type": "stream",
          "text": [
            "313/313 [==============================] - 7s 19ms/step - loss: 1.9921 - accuracy: 0.2033 - auc: 0.6032 - val_loss: 1.4988 - val_accuracy: 0.4618 - val_auc: 0.8371\n",
            "Epoch 2/25\n",
            "313/313 [==============================] - 6s 19ms/step - loss: 1.4799 - accuracy: 0.4572 - auc: 0.8334 - val_loss: 1.1825 - val_accuracy: 0.5831 - val_auc: 0.9028\n",
            "Epoch 3/25\n",
            "313/313 [==============================] - 6s 19ms/step - loss: 1.2515 - accuracy: 0.5477 - auc: 0.8851 - val_loss: 1.0290 - val_accuracy: 0.6309 - val_auc: 0.9235\n",
            "Epoch 4/25\n",
            "313/313 [==============================] - 6s 19ms/step - loss: 1.1311 - accuracy: 0.5935 - auc: 0.9067 - val_loss: 1.0011 - val_accuracy: 0.6461 - val_auc: 0.9292\n",
            "Epoch 5/25\n",
            "313/313 [==============================] - 6s 19ms/step - loss: 1.0793 - accuracy: 0.6141 - auc: 0.9156 - val_loss: 0.9373 - val_accuracy: 0.6685 - val_auc: 0.9384\n",
            "Epoch 6/25\n",
            "313/313 [==============================] - 5s 15ms/step - loss: 0.9964 - accuracy: 0.6481 - auc: 0.9281 - val_loss: 0.8892 - val_accuracy: 0.6820 - val_auc: 0.9431\n",
            "Epoch 7/25\n",
            "313/313 [==============================] - 4s 14ms/step - loss: 0.9618 - accuracy: 0.6558 - auc: 0.9331 - val_loss: 0.8642 - val_accuracy: 0.6990 - val_auc: 0.9469\n",
            "Epoch 8/25\n",
            "313/313 [==============================] - 4s 14ms/step - loss: 0.9205 - accuracy: 0.6773 - auc: 0.9386 - val_loss: 0.8460 - val_accuracy: 0.7032 - val_auc: 0.9486\n",
            "Epoch 9/25\n",
            "313/313 [==============================] - 5s 18ms/step - loss: 0.8955 - accuracy: 0.6859 - auc: 0.9418 - val_loss: 0.8393 - val_accuracy: 0.7013 - val_auc: 0.9499\n",
            "Epoch 10/25\n",
            "313/313 [==============================] - 6s 19ms/step - loss: 0.8609 - accuracy: 0.6950 - auc: 0.9462 - val_loss: 0.7917 - val_accuracy: 0.7219 - val_auc: 0.9551\n",
            "Epoch 11/25\n",
            "313/313 [==============================] - 6s 19ms/step - loss: 0.8329 - accuracy: 0.7065 - auc: 0.9494 - val_loss: 0.8178 - val_accuracy: 0.7143 - val_auc: 0.9514\n",
            "Epoch 12/25\n",
            "313/313 [==============================] - 6s 19ms/step - loss: 0.8173 - accuracy: 0.7118 - auc: 0.9514 - val_loss: 0.7800 - val_accuracy: 0.7231 - val_auc: 0.9554\n",
            "Epoch 13/25\n",
            "313/313 [==============================] - 6s 19ms/step - loss: 0.7956 - accuracy: 0.7242 - auc: 0.9535 - val_loss: 0.7702 - val_accuracy: 0.7283 - val_auc: 0.9573\n",
            "Epoch 14/25\n",
            "313/313 [==============================] - 6s 19ms/step - loss: 0.7673 - accuracy: 0.7287 - auc: 0.9569 - val_loss: 0.7748 - val_accuracy: 0.7268 - val_auc: 0.9561\n",
            "Epoch 15/25\n",
            "313/313 [==============================] - 6s 19ms/step - loss: 0.7561 - accuracy: 0.7353 - auc: 0.9582 - val_loss: 0.7447 - val_accuracy: 0.7394 - val_auc: 0.9593\n",
            "Epoch 16/25\n",
            "313/313 [==============================] - 6s 19ms/step - loss: 0.7313 - accuracy: 0.7423 - auc: 0.9608 - val_loss: 0.7516 - val_accuracy: 0.7344 - val_auc: 0.9585\n",
            "Epoch 17/25\n",
            "313/313 [==============================] - 6s 19ms/step - loss: 0.7179 - accuracy: 0.7474 - auc: 0.9622 - val_loss: 0.7516 - val_accuracy: 0.7383 - val_auc: 0.9587\n",
            "Epoch 18/25\n",
            "313/313 [==============================] - 6s 19ms/step - loss: 0.7078 - accuracy: 0.7552 - auc: 0.9632 - val_loss: 0.7401 - val_accuracy: 0.7398 - val_auc: 0.9598\n",
            "Epoch 19/25\n",
            "313/313 [==============================] - 6s 19ms/step - loss: 0.6788 - accuracy: 0.7619 - auc: 0.9659 - val_loss: 0.7432 - val_accuracy: 0.7426 - val_auc: 0.9590\n",
            "Epoch 20/25\n",
            "313/313 [==============================] - 6s 19ms/step - loss: 0.6735 - accuracy: 0.7650 - auc: 0.9664 - val_loss: 0.7326 - val_accuracy: 0.7458 - val_auc: 0.9601\n",
            "Epoch 21/25\n",
            "313/313 [==============================] - 6s 19ms/step - loss: 0.6571 - accuracy: 0.7724 - auc: 0.9679 - val_loss: 0.7266 - val_accuracy: 0.7449 - val_auc: 0.9609\n",
            "Epoch 22/25\n",
            "313/313 [==============================] - 6s 19ms/step - loss: 0.6354 - accuracy: 0.7769 - auc: 0.9699 - val_loss: 0.7268 - val_accuracy: 0.7426 - val_auc: 0.9609\n",
            "Epoch 23/25\n",
            "313/313 [==============================] - 6s 19ms/step - loss: 0.6420 - accuracy: 0.7734 - auc: 0.9693 - val_loss: 0.7497 - val_accuracy: 0.7409 - val_auc: 0.9586\n",
            "Epoch 24/25\n",
            "313/313 [==============================] - 6s 19ms/step - loss: 0.6333 - accuracy: 0.7775 - auc: 0.9698 - val_loss: 0.7143 - val_accuracy: 0.7526 - val_auc: 0.9622\n",
            "Epoch 25/25\n",
            "313/313 [==============================] - 6s 19ms/step - loss: 0.6147 - accuracy: 0.7839 - auc: 0.9717 - val_loss: 0.7073 - val_accuracy: 0.7538 - val_auc: 0.9627\n"
          ]
        },
        {
          "data": {
            "text/plain": [
              "(<tensorflow.python.keras.engine.sequential.Sequential at 0x7f7e34188100>,\n",
              " <tensorflow.python.keras.callbacks.History at 0x7f7e337ec700>)"
            ]
          },
          "execution_count": 19,
          "metadata": {},
          "output_type": "execute_result"
        }
      ],
      "source": [
        "base_cnn_model_changes()\n"
      ]
    },
    {
      "cell_type": "markdown",
      "id": "926d0beb",
      "metadata": {
        "id": "926d0beb"
      },
      "source": [
        "#### <a name=\"resnet50_cnn_model\">ResNet-50 CNN Model</a>\n"
      ]
    },
    {
      "cell_type": "code",
      "execution_count": 30,
      "id": "a778b88f",
      "metadata": {},
      "outputs": [],
      "source": [
        "# Reference: https://github.com/y33-j3T/Coursera-Deep-Learning/blob/master/Advanced%20Computer%20Vision%20with%20TensorFlow/Week%201%20-%20Introduction%20to%20Computer%20Vision/Copy%20of%20C3_W1_Lab_2_Transfer_Learning_CIFAR_10.ipynb\n",
        "def preprocess_image_resnet50(data_images: None) -> None:\n",
        "    \"\"\"\n",
        "    Function to preprocess the images for ResNet50 model.\n",
        "    :param data_images: Images to be preprocessed.\n",
        "    :return: Preprocessed images.\n",
        "    :rtype: None\n",
        "    \"\"\"\n",
        "    data_images = data_images.astype('float32')\n",
        "    output_images = tf.keras.applications.resnet50.preprocess_input(\n",
        "        data_images)\n",
        "    return output_images\n",
        "\n",
        "\n",
        "# Using function to preprocess the images.\n",
        "train_X = preprocess_image_resnet50(train_imgs)\n",
        "valid_X = preprocess_image_resnet50(test_imgs)\n"
      ]
    },
    {
      "cell_type": "code",
      "execution_count": 35,
      "id": "14b7f218",
      "metadata": {
        "id": "14b7f218",
        "outputId": "d5b29c3c-0ecd-4ea0-f7d2-a8b26202e898"
      },
      "outputs": [],
      "source": [
        "# Reference: https://github.com/y33-j3T/Coursera-Deep-Learning/blob/master/Advanced%20Computer%20Vision%20with%20TensorFlow/Week%201%20-%20Introduction%20to%20Computer%20Vision/Copy%20of%20C3_W1_Lab_2_Transfer_Learning_CIFAR_10.ipynb\n",
        "\n",
        "keras.backend.clear_session()\n",
        "np.random.seed(15)\n",
        "tf.random.set_seed(15)\n",
        "\n",
        "\n",
        "def resnet50_model(image_inputs: None) -> None:\n",
        "    \"\"\"\n",
        "    Pretrained model on imagenet weights with respective input shape.\n",
        "    :param inputs: Inputs to the model.\n",
        "    :return: Outputs of the model.\n",
        "    :rtype: None\n",
        "    \"\"\"\n",
        "    resnet50_model.resnet50_model_features = tf.keras.applications.ResNet50(input_shape=(224, 224, 3),\n",
        "                                                                            include_top=False,\n",
        "                                                                            weights='imagenet')(image_inputs)\n",
        "\n",
        "    return resnet50_model.resnet50_model_features\n",
        "\n",
        "\n",
        "def resnet50_classifier(image_inputs: None) -> None:\n",
        "    \"\"\"\n",
        "    Initialize hidden layer and output layer with softmax activation function.\n",
        "    :param image_inputs: Image inputs to the model.\n",
        "    :return: Outputs of the model.\n",
        "    :rtype: None\n",
        "    \"\"\"\n",
        "    classify = tf.keras.layers.GlobalAveragePooling2D()(image_inputs)\n",
        "    classify = tf.keras.layers.Flatten()(classify)\n",
        "    classify = tf.keras.layers.Dense(1024, activation=\"relu\")(classify)\n",
        "    classify = tf.keras.layers.Dense(512, activation=\"relu\")(classify)\n",
        "    classify = tf.keras.layers.Dense(8, activation=\"softmax\",\n",
        "                                     name=\"classification\")(classify)\n",
        "\n",
        "    return classify\n",
        "\n",
        "\n",
        "def complete_resnet50_model(image_inputs: None) -> None:\n",
        "    \"\"\"\n",
        "    Upsampling in order to transform the images with the input size as (224, 224).\n",
        "    :param image_inputs: Image inputs to the model.\n",
        "    :return: Classification layer of the model.\n",
        "    :rtype: None\n",
        "    \"\"\"\n",
        "\n",
        "    upsample = tf.keras.layers.UpSampling2D(size=(7, 7))(image_inputs)\n",
        "\n",
        "    resnet_extractor = resnet50_model(upsample)\n",
        "    final_classification = resnet50_classifier(resnet_extractor)\n",
        "\n",
        "    return final_classification\n",
        "\n",
        "\n",
        "def compile_resnet50_model() -> None:\n",
        "    \"\"\"\n",
        "    Compile the model with the optimizer, loss function and metrics.\n",
        "    :param model: Model to be compiled.\n",
        "    :return: Compiled model.\n",
        "    :rtype: None\n",
        "    \"\"\"\n",
        "    image_inputs = tf.keras.layers.Input(shape=(32, 32, 3))\n",
        "\n",
        "    final_classification = complete_resnet50_model(image_inputs)\n",
        "    model = tf.keras.Model(inputs=image_inputs, outputs=final_classification)\n",
        "\n",
        "    model.compile(optimizer='SGD',\n",
        "                  loss='sparse_categorical_crossentropy',\n",
        "                  metrics=['accuracy'])\n",
        "\n",
        "    return model\n",
        "\n",
        "\n",
        "model = compile_resnet50_model()\n"
      ]
    },
    {
      "cell_type": "code",
      "execution_count": 36,
      "id": "005596d6",
      "metadata": {},
      "outputs": [
        {
          "name": "stdout",
          "output_type": "stream",
          "text": [
            "Model: \"model\"\n",
            "_________________________________________________________________\n",
            "Layer (type)                 Output Shape              Param #   \n",
            "=================================================================\n",
            "input_1 (InputLayer)         [(None, 32, 32, 3)]       0         \n",
            "_________________________________________________________________\n",
            "up_sampling2d (UpSampling2D) (None, 224, 224, 3)       0         \n",
            "_________________________________________________________________\n",
            "resnet50 (Functional)        (None, 7, 7, 2048)        23587712  \n",
            "_________________________________________________________________\n",
            "global_average_pooling2d (Gl (None, 2048)              0         \n",
            "_________________________________________________________________\n",
            "flatten (Flatten)            (None, 2048)              0         \n",
            "_________________________________________________________________\n",
            "dense (Dense)                (None, 1024)              2098176   \n",
            "_________________________________________________________________\n",
            "dense_1 (Dense)              (None, 512)               524800    \n",
            "_________________________________________________________________\n",
            "classification (Dense)       (None, 8)                 4104      \n",
            "=================================================================\n",
            "Total params: 26,214,792\n",
            "Trainable params: 26,161,672\n",
            "Non-trainable params: 53,120\n",
            "_________________________________________________________________\n"
          ]
        }
      ],
      "source": [
        "model.summary()\n"
      ]
    },
    {
      "cell_type": "code",
      "execution_count": 37,
      "id": "a43fd993",
      "metadata": {
        "id": "a43fd993",
        "outputId": "18ec42dc-408f-436b-b842-d17f06b0e39d"
      },
      "outputs": [
        {
          "name": "stdout",
          "output_type": "stream",
          "text": [
            "Epoch 1/4\n",
            "625/625 [==============================] - 160s 252ms/step - loss: 0.7727 - accuracy: 0.7373 - val_loss: 0.2148 - val_accuracy: 0.9274\n",
            "Epoch 2/4\n",
            "625/625 [==============================] - 159s 254ms/step - loss: 0.1176 - accuracy: 0.9633 - val_loss: 0.1616 - val_accuracy: 0.9463\n",
            "Epoch 3/4\n",
            "625/625 [==============================] - 159s 255ms/step - loss: 0.0397 - accuracy: 0.9881 - val_loss: 0.1654 - val_accuracy: 0.9500\n",
            "Epoch 4/4\n",
            "625/625 [==============================] - 159s 255ms/step - loss: 0.0157 - accuracy: 0.9961 - val_loss: 0.1704 - val_accuracy: 0.9521\n"
          ]
        }
      ],
      "source": [
        "# Training ResNet50 model for 4 epochs.\n",
        "resnet_model = model.fit(train_X, train_labels, epochs=4,\n",
        "                         validation_data=(valid_X, test_labels), batch_size=64)\n"
      ]
    },
    {
      "cell_type": "markdown",
      "id": "944356ab",
      "metadata": {
        "id": "944356ab"
      },
      "source": [
        "#### <a name=\"best_cnn_model\">Best CNN Model</a>\n"
      ]
    },
    {
      "cell_type": "code",
      "execution_count": 57,
      "id": "cd6e24b8",
      "metadata": {
        "id": "cd6e24b8",
        "outputId": "e3183da7-c4ac-4ef2-8fea-c9013b8e112e"
      },
      "outputs": [],
      "source": [
        "# To prevent any memory build up from old models or layers.\n",
        "keras.backend.clear_session()\n",
        "np.random.seed(15)\n",
        "tf.random.set_seed(15)\n",
        "\n",
        "\n",
        "def best_cnn_model() -> Sequential:\n",
        "    \"\"\"\n",
        "    Function which returns the best model.\n",
        "    :rtype: Sequential\n",
        "    \"\"\"\n",
        "    # Creating an early stopping function to monitor loss while keeping the best results.\n",
        "    early_callback = tf.keras.callbacks.EarlyStopping(\n",
        "        monitor='loss', restore_best_weights=True, patience=10)\n",
        "\n",
        "    # Initializing Sequential model, creating linear stack of model layers.\n",
        "    best_cnn_model.model2 = Sequential()\n",
        "\n",
        "    # Adding 6 convolutional layers with max pooling and dropout functions.\n",
        "    best_cnn_model.model2.add(Conv2D(32, input_shape=(32, 32, 3), kernel_size=(\n",
        "        3, 3), strides=(1, 1), padding=\"same\", activation=\"relu\"))\n",
        "\n",
        "    best_cnn_model.model2.add(Conv2D(64, kernel_size=(3, 3), strides=(\n",
        "        1, 1), padding=\"same\", activation=\"relu\"))\n",
        "    best_cnn_model.model2.add(MaxPool2D(pool_size=(2, 2)))\n",
        "    best_cnn_model.model2.add(Dropout(0.25))\n",
        "\n",
        "    best_cnn_model.model2.add(Conv2D(128, kernel_size=(3, 3), strides=(\n",
        "        1, 1), padding=\"same\", activation=\"relu\"))\n",
        "    best_cnn_model.model2.add(MaxPool2D(pool_size=(2, 2)))\n",
        "    best_cnn_model.model2.add(Dropout(0.25))\n",
        "\n",
        "    best_cnn_model.model2.add(Conv2D(256, kernel_size=(3, 3), strides=(\n",
        "        1, 1), padding=\"same\", activation=\"relu\"))\n",
        "    best_cnn_model.model2.add(MaxPool2D(pool_size=(2, 2)))\n",
        "    best_cnn_model.model2.add(Dropout(0.25))\n",
        "\n",
        "    best_cnn_model.model2.add(Conv2D(512, kernel_size=(3, 3), strides=(\n",
        "        1, 1), padding=\"same\", activation=\"relu\"))\n",
        "    best_cnn_model.model2.add(MaxPool2D(pool_size=(2, 2)))\n",
        "    best_cnn_model.model2.add(Dropout(0.25))\n",
        "\n",
        "    best_cnn_model.model2.add(Conv2D(512, kernel_size=(3, 3), strides=(\n",
        "        1, 1), padding=\"same\", activation=\"relu\"))\n",
        "    best_cnn_model.model2.add(MaxPool2D(pool_size=(2, 2)))\n",
        "    best_cnn_model.model2.add(Dropout(0.25))\n",
        "\n",
        "    # Flattening convolutional layer output.\n",
        "    best_cnn_model.model2.add(Flatten())\n",
        "\n",
        "    # Adding 2 hidden layers.\n",
        "    best_cnn_model.model2.add(Dense(500, activation=\"relu\"))\n",
        "    best_cnn_model.model2.add(Dropout(0.75))\n",
        "    best_cnn_model.model2.add(Dense(200, activation=\"relu\"))\n",
        "    best_cnn_model.model2.add(Dropout(0.3))\n",
        "\n",
        "    # Final output layer with 8 classes.\n",
        "    best_cnn_model.model2.add(Dense(8, activation=\"softmax\"))\n",
        "\n",
        "    # Compilation of sequential model with suitable parameters.\n",
        "    best_cnn_model.model2.compile(optimizer='adam', loss='categorical_crossentropy',\n",
        "                                  metrics=['accuracy'])\n",
        "\n",
        "    # Training model for 25 epochs\n",
        "    best_cnn_model.best_model = best_cnn_model.model2.fit(rotated_train_img, Y_train, batch_size=128, callbacks=[\n",
        "        early_callback], epochs=20, validation_data=(rotated_test_img, Y_test))\n",
        "\n",
        "    return best_cnn_model.model2, best_cnn_model.best_model\n"
      ]
    },
    {
      "cell_type": "code",
      "execution_count": 50,
      "id": "1977c5df",
      "metadata": {},
      "outputs": [
        {
          "name": "stdout",
          "output_type": "stream",
          "text": [
            "Model: \"sequential\"\n",
            "_________________________________________________________________\n",
            "Layer (type)                 Output Shape              Param #   \n",
            "=================================================================\n",
            "conv2d (Conv2D)              (None, 32, 32, 32)        896       \n",
            "_________________________________________________________________\n",
            "conv2d_1 (Conv2D)            (None, 32, 32, 64)        18496     \n",
            "_________________________________________________________________\n",
            "max_pooling2d (MaxPooling2D) (None, 16, 16, 64)        0         \n",
            "_________________________________________________________________\n",
            "dropout (Dropout)            (None, 16, 16, 64)        0         \n",
            "_________________________________________________________________\n",
            "conv2d_2 (Conv2D)            (None, 16, 16, 128)       73856     \n",
            "_________________________________________________________________\n",
            "max_pooling2d_1 (MaxPooling2 (None, 8, 8, 128)         0         \n",
            "_________________________________________________________________\n",
            "dropout_1 (Dropout)          (None, 8, 8, 128)         0         \n",
            "_________________________________________________________________\n",
            "conv2d_3 (Conv2D)            (None, 8, 8, 256)         295168    \n",
            "_________________________________________________________________\n",
            "max_pooling2d_2 (MaxPooling2 (None, 4, 4, 256)         0         \n",
            "_________________________________________________________________\n",
            "dropout_2 (Dropout)          (None, 4, 4, 256)         0         \n",
            "_________________________________________________________________\n",
            "conv2d_4 (Conv2D)            (None, 4, 4, 512)         1180160   \n",
            "_________________________________________________________________\n",
            "max_pooling2d_3 (MaxPooling2 (None, 2, 2, 512)         0         \n",
            "_________________________________________________________________\n",
            "dropout_3 (Dropout)          (None, 2, 2, 512)         0         \n",
            "_________________________________________________________________\n",
            "conv2d_5 (Conv2D)            (None, 2, 2, 512)         2359808   \n",
            "_________________________________________________________________\n",
            "max_pooling2d_4 (MaxPooling2 (None, 1, 1, 512)         0         \n",
            "_________________________________________________________________\n",
            "dropout_4 (Dropout)          (None, 1, 1, 512)         0         \n",
            "_________________________________________________________________\n",
            "flatten (Flatten)            (None, 512)               0         \n",
            "_________________________________________________________________\n",
            "dense (Dense)                (None, 500)               256500    \n",
            "_________________________________________________________________\n",
            "dropout_5 (Dropout)          (None, 500)               0         \n",
            "_________________________________________________________________\n",
            "dense_1 (Dense)              (None, 200)               100200    \n",
            "_________________________________________________________________\n",
            "dropout_6 (Dropout)          (None, 200)               0         \n",
            "_________________________________________________________________\n",
            "dense_2 (Dense)              (None, 8)                 1608      \n",
            "=================================================================\n",
            "Total params: 4,286,692\n",
            "Trainable params: 4,286,692\n",
            "Non-trainable params: 0\n",
            "_________________________________________________________________\n"
          ]
        }
      ],
      "source": [
        "best_cnn_model.model2.summary()\n"
      ]
    },
    {
      "cell_type": "code",
      "execution_count": 58,
      "id": "38e0431f",
      "metadata": {},
      "outputs": [
        {
          "name": "stdout",
          "output_type": "stream",
          "text": [
            "Epoch 1/20\n",
            "313/313 [==============================] - 5s 14ms/step - loss: 1.9594 - accuracy: 0.1898 - val_loss: 1.5746 - val_accuracy: 0.3964\n",
            "Epoch 2/20\n",
            "313/313 [==============================] - 5s 15ms/step - loss: 1.5124 - accuracy: 0.4245 - val_loss: 1.2065 - val_accuracy: 0.5579\n",
            "Epoch 3/20\n",
            "313/313 [==============================] - 5s 14ms/step - loss: 1.2378 - accuracy: 0.5405 - val_loss: 1.1165 - val_accuracy: 0.5974\n",
            "Epoch 4/20\n",
            "313/313 [==============================] - 5s 15ms/step - loss: 1.0780 - accuracy: 0.6058 - val_loss: 0.9227 - val_accuracy: 0.6614\n",
            "Epoch 5/20\n",
            "313/313 [==============================] - 5s 15ms/step - loss: 0.9709 - accuracy: 0.6503 - val_loss: 0.8696 - val_accuracy: 0.6900\n",
            "Epoch 6/20\n",
            "313/313 [==============================] - 5s 15ms/step - loss: 0.9040 - accuracy: 0.6811 - val_loss: 0.9158 - val_accuracy: 0.6764\n",
            "Epoch 7/20\n",
            "313/313 [==============================] - 5s 15ms/step - loss: 0.8738 - accuracy: 0.6932 - val_loss: 0.7948 - val_accuracy: 0.7272\n",
            "Epoch 8/20\n",
            "313/313 [==============================] - 5s 15ms/step - loss: 0.8207 - accuracy: 0.7159 - val_loss: 0.8147 - val_accuracy: 0.7165\n",
            "Epoch 9/20\n",
            "313/313 [==============================] - 5s 15ms/step - loss: 0.8007 - accuracy: 0.7235 - val_loss: 0.7042 - val_accuracy: 0.7536\n",
            "Epoch 10/20\n",
            "313/313 [==============================] - 5s 15ms/step - loss: 0.7311 - accuracy: 0.7472 - val_loss: 0.6767 - val_accuracy: 0.7679\n",
            "Epoch 11/20\n",
            "313/313 [==============================] - 5s 15ms/step - loss: 0.7059 - accuracy: 0.7596 - val_loss: 0.6884 - val_accuracy: 0.7613\n",
            "Epoch 12/20\n",
            "313/313 [==============================] - 5s 15ms/step - loss: 0.6960 - accuracy: 0.7613 - val_loss: 0.6557 - val_accuracy: 0.7656\n",
            "Epoch 13/20\n",
            "313/313 [==============================] - 5s 15ms/step - loss: 0.6831 - accuracy: 0.7690 - val_loss: 0.6328 - val_accuracy: 0.7799\n",
            "Epoch 14/20\n",
            "313/313 [==============================] - 5s 15ms/step - loss: 0.6544 - accuracy: 0.7754 - val_loss: 0.6453 - val_accuracy: 0.7812\n",
            "Epoch 15/20\n",
            "313/313 [==============================] - 5s 15ms/step - loss: 0.6375 - accuracy: 0.7816 - val_loss: 0.6492 - val_accuracy: 0.7770\n",
            "Epoch 16/20\n",
            "313/313 [==============================] - 4s 14ms/step - loss: 0.6123 - accuracy: 0.7904 - val_loss: 0.6196 - val_accuracy: 0.7836\n",
            "Epoch 17/20\n",
            "313/313 [==============================] - 5s 15ms/step - loss: 0.6001 - accuracy: 0.7968 - val_loss: 0.6111 - val_accuracy: 0.7922\n",
            "Epoch 18/20\n",
            "313/313 [==============================] - 4s 14ms/step - loss: 0.5908 - accuracy: 0.7963 - val_loss: 0.5734 - val_accuracy: 0.8014\n",
            "Epoch 19/20\n",
            "313/313 [==============================] - 5s 15ms/step - loss: 0.5820 - accuracy: 0.8019 - val_loss: 0.5891 - val_accuracy: 0.7972\n",
            "Epoch 20/20\n",
            "313/313 [==============================] - 5s 15ms/step - loss: 0.5803 - accuracy: 0.8030 - val_loss: 0.5634 - val_accuracy: 0.8074\n"
          ]
        },
        {
          "data": {
            "text/plain": [
              "(<tensorflow.python.keras.engine.sequential.Sequential at 0x7f7e325f8ca0>,\n",
              " <tensorflow.python.keras.callbacks.History at 0x7f7e31f622e0>)"
            ]
          },
          "execution_count": 58,
          "metadata": {},
          "output_type": "execute_result"
        }
      ],
      "source": [
        "best_cnn_model()\n"
      ]
    },
    {
      "cell_type": "markdown",
      "id": "75e92936",
      "metadata": {
        "id": "75e92936"
      },
      "source": [
        "## <a name=\"model_evaluation\">Model Evaluation</a>\n"
      ]
    },
    {
      "cell_type": "markdown",
      "id": "494300df",
      "metadata": {
        "id": "494300df"
      },
      "source": [
        "### <a name=\"visualization_base_cnn_model\">Visualization of Base CNN Model</a>\n"
      ]
    },
    {
      "cell_type": "code",
      "execution_count": 29,
      "id": "384c5987",
      "metadata": {
        "id": "384c5987",
        "outputId": "f014e519-29c6-48fb-90e0-fdbaf372b83c"
      },
      "outputs": [
        {
          "name": "stdout",
          "output_type": "stream",
          "text": [
            "250/250 - 1s - loss: 0.6599 - accuracy: 0.7736 - auc: 0.9674\n",
            "Test accuracy on test data split ->  0.7736250162124634\n"
          ]
        },
        {
          "data": {
            "image/png": "[encoded data removed]",
            "text/plain": [
              "<Figure size 432x288 with 1 Axes>"
            ]
          },
          "metadata": {
            "needs_background": "light"
          },
          "output_type": "display_data"
        }
      ],
      "source": [
        "# Create line graph for displaying test and train accuracy.\n",
        "plt.plot(\n",
        "    base_cnn_model.base_final_model.history['accuracy'], label='Train Accuracy')\n",
        "plt.plot(\n",
        "    base_cnn_model.base_final_model.history['val_accuracy'], label='Test Accuracy')\n",
        "plt.xlabel('Epochs')\n",
        "plt.ylabel('Accuracy')\n",
        "plt.ylim([0.5, 1])\n",
        "plt.legend(loc='best')\n",
        "\n",
        "# Calculate the test accuracy.\n",
        "test_loss, test_acc, * \\\n",
        "    _ = base_cnn_model.model1.evaluate(rotated_test_img, Y_test, verbose=2)\n",
        "print('Test accuracy on test data split -> ', test_acc)\n"
      ]
    },
    {
      "cell_type": "markdown",
      "id": "43004e8f",
      "metadata": {},
      "source": [
        "### <a name=\"visualization_base_cnn_model_changes\">Visualization of Base CNN Model with Changes</a>\n"
      ]
    },
    {
      "cell_type": "code",
      "execution_count": 21,
      "id": "d51a4d9a",
      "metadata": {},
      "outputs": [
        {
          "name": "stdout",
          "output_type": "stream",
          "text": [
            "250/250 - 1s - loss: 0.7073 - accuracy: 0.7538 - auc: 0.9627\n",
            "Test accuracy on test data split ->  0.7537500262260437\n"
          ]
        },
        {
          "data": {
            "image/png": "[encoded data removed]",
            "text/plain": [
              "<Figure size 432x288 with 1 Axes>"
            ]
          },
          "metadata": {
            "needs_background": "light"
          },
          "output_type": "display_data"
        }
      ],
      "source": [
        "# Plot line graph for displaying test and train accuracy.\n",
        "plt.plot(\n",
        "    base_cnn_model_changes.base_final_model_changes.history['accuracy'], label='Train Accuracy')\n",
        "plt.plot(\n",
        "    base_cnn_model_changes.base_final_model_changes.history['val_accuracy'], label='Test Accuracy')\n",
        "plt.xlabel('Epochs')\n",
        "plt.ylabel('Accuracy')\n",
        "plt.ylim([0.5, 1])\n",
        "plt.legend(loc='best')\n",
        "\n",
        "# Calculate the test accuracy.\n",
        "test_loss, test_acc, * \\\n",
        "    _ = base_cnn_model_changes.changes_model.evaluate(\n",
        "        rotated_test_img, Y_test, verbose=2)\n",
        "print('Test accuracy on test data split -> ', test_acc)\n"
      ]
    },
    {
      "cell_type": "markdown",
      "id": "ef1617cc",
      "metadata": {},
      "source": [
        "### <a name=\"visualization_resnet50_cnn_model\">Visualization of ResNet50 CNN Model</a>\n"
      ]
    },
    {
      "cell_type": "code",
      "execution_count": 42,
      "id": "6d908fed",
      "metadata": {},
      "outputs": [
        {
          "name": "stdout",
          "output_type": "stream",
          "text": [
            "250/250 [==============================] - 9s 34ms/step - loss: 0.8188 - accuracy: 0.7845\n"
          ]
        },
        {
          "data": {
            "image/png": "[encoded data removed]",
            "text/plain": [
              "<Figure size 432x288 with 1 Axes>"
            ]
          },
          "metadata": {
            "needs_background": "light"
          },
          "output_type": "display_data"
        }
      ],
      "source": [
        "# Create line graph for displaying test and train accuracy.\n",
        "plt.plot(resnet_model.history['accuracy'], label='Train Accuracy')\n",
        "plt.plot(resnet_model.history['val_accuracy'], label='Test Accuracy')\n",
        "plt.xlabel('Epochs')\n",
        "plt.ylabel('Accuracy')\n",
        "plt.ylim([0.5, 1])\n",
        "plt.legend(loc='best')\n",
        "\n",
        "test_loss, test_acc, *_ = model.evaluate(test_imgs, test_labels)\n"
      ]
    },
    {
      "cell_type": "markdown",
      "id": "f3f54aff",
      "metadata": {
        "id": "f3f54aff"
      },
      "source": [
        "### <a name=\"visualization_best_cnn_model\">Visualization of Best Model</a>\n"
      ]
    },
    {
      "cell_type": "code",
      "execution_count": 59,
      "id": "32c00bc1",
      "metadata": {
        "id": "32c00bc1",
        "outputId": "d11f284b-54c9-4325-e4ca-009fe65d5c97"
      },
      "outputs": [
        {
          "name": "stdout",
          "output_type": "stream",
          "text": [
            "250/250 [==============================] - 1s 5ms/step - loss: 0.5634 - accuracy: 0.8074\n",
            "Test accuracy on test data split ->  0.8073750138282776\n"
          ]
        },
        {
          "data": {
            "image/png": "[encoded data removed]",
            "text/plain": [
              "<Figure size 432x288 with 1 Axes>"
            ]
          },
          "metadata": {
            "needs_background": "light"
          },
          "output_type": "display_data"
        }
      ],
      "source": [
        "# Create line graph for displaying test and train accuracy.\n",
        "plt.plot(best_cnn_model.best_model.history['accuracy'], label='Train Accuracy')\n",
        "plt.plot(\n",
        "    best_cnn_model.best_model.history['val_accuracy'], label='Test Accuracy')\n",
        "plt.xlabel('Epoch')\n",
        "plt.ylabel('Accuracy')\n",
        "plt.ylim([0.5, 1])\n",
        "plt.legend(loc='best')\n",
        "\n",
        "# Calculate the test accuracy.\n",
        "test_loss, test_acc, * \\\n",
        "    _ = best_cnn_model.model2.evaluate(rotated_test_img, Y_test)\n",
        "print('Test accuracy on test data split -> ', test_acc)\n"
      ]
    },
    {
      "cell_type": "markdown",
      "id": "8c80f460",
      "metadata": {
        "id": "8c80f460"
      },
      "source": [
        "## <a name=\"model_prediction\">Model Prediction</a>\n"
      ]
    },
    {
      "cell_type": "markdown",
      "id": "7bcf022f",
      "metadata": {
        "id": "7bcf022f"
      },
      "source": [
        "### <a name=\"prediction_best_cnn_model\">Prediction of Best CNN Model</a>\n"
      ]
    },
    {
      "cell_type": "code",
      "execution_count": 60,
      "id": "4e464158",
      "metadata": {
        "id": "4e464158"
      },
      "outputs": [],
      "source": [
        "# Reference: https://github.com/y33-j3T/Coursera-Deep-Learning/blob/master/Advanced%20Computer%20Vision%20with%20TensorFlow/Week%201%20-%20Introduction%20to%20Computer%20Vision/Copy%20of%20C3_W1_Lab_2_Transfer_Learning_CIFAR_10.ipynb\n",
        "\n",
        "# Define classes/objects.\n",
        "classes = ['airplane', 'automobile', 'bird',\n",
        "           'cat', 'deer', 'dog', 'frog', 'horse']\n",
        "\n",
        "\n",
        "def display_predictions(predict_test_imgs: None, preds: str, labels: str, title: str) -> str:\n",
        "    \"\"\"\n",
        "    Define function to plot images.\n",
        "    Displays images with actual and predicted labels.\n",
        "    :param None predict_test_imgs: Image to be displayed.\n",
        "    :param str preds: Predicted labels.\n",
        "    :param str labels: Actual labels.\n",
        "    :param str title: Title of figure.\n",
        "    :rtype: str\n",
        "    \"\"\"\n",
        "\n",
        "    n_of_classes = 8\n",
        "\n",
        "    indexes = np.random.choice(len(preds), size=n_of_classes)\n",
        "    n_predict_test_imgs = predict_test_imgs[indexes]\n",
        "    n_preds = preds[indexes]\n",
        "    n_preds = n_preds.reshape((n_of_classes))\n",
        "    n_labels = labels[indexes]\n",
        "\n",
        "    fig = plt.figure(figsize=(20, 3))\n",
        "    plt.title(title)\n",
        "    plt.yticks([])\n",
        "    plt.xticks([])\n",
        "\n",
        "# Display 8 random test images along with their actual and predicted labels.\n",
        "    for z in range(8):\n",
        "        ax = fig.add_subplot(1, 8, z+1)\n",
        "        class_index = n_preds[z]\n",
        "        actual_pred_labels = 'Predicted -> ' + classes[class_index]\n",
        "        plt.xlabel(actual_pred_labels)\n",
        "        plt.xticks([])\n",
        "        plt.yticks([])\n",
        "        plt.imshow(n_predict_test_imgs[z])\n"
      ]
    },
    {
      "cell_type": "code",
      "execution_count": 62,
      "id": "3V6fxzz7UujW",
      "metadata": {
        "id": "3V6fxzz7UujW",
        "outputId": "e5a5c18c-9ac9-4662-a660-86b0bf18cef9"
      },
      "outputs": [
        {
          "name": "stderr",
          "output_type": "stream",
          "text": [
            "Clipping input data to the valid range for imshow with RGB data ([0..1] for floats or [0..255] for integers).\n"
          ]
        },
        {
          "data": {
            "image/png": "[encoded data removed]",
            "text/plain": [
              "<Figure size 1440x216 with 9 Axes>"
            ]
          },
          "metadata": {},
          "output_type": "display_data"
        }
      ],
      "source": [
        "# Using the trained model to predict the test images.\n",
        "pred_chance = best_cnn_model.model2.predict(rotated_test_img, batch_size=128)\n",
        "pred_chance = np.argmax(pred_chance, axis=1)\n",
        "\n",
        "# Utilizing display_predictions function to display images.\n",
        "display_predictions(\n",
        "    rotated_test_img, pred_chance, Y_test, 'Predictions on test data')\n"
      ]
    }
  ],
  "metadata": {
    "colab": {
      "collapsed_sections": [],
      "name": "Copy of image_recognition_dataset.ipynb",
      "provenance": []
    },
    "kernelspec": {
      "display_name": "Python 3",
      "language": "python",
      "name": "python3"
    },
    "language_info": {
      "codemirror_mode": {
        "name": "ipython",
        "version": 3
      },
      "file_extension": ".py",
      "mimetype": "text/x-python",
      "name": "python",
      "nbconvert_exporter": "python",
      "pygments_lexer": "ipython3",
      "version": "3.9.7"
    }
  },
  "nbformat": 4,
  "nbformat_minor": 5
}
