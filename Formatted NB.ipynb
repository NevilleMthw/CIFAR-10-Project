{
  "cells": [
    {
      "cell_type": "markdown",
      "id": "da8dd0c8",
      "metadata": {
        "id": "da8dd0c8"
      },
      "source": [
        "# COP508 Machine Learning CW\n"
      ]
    },
    {
      "cell_type": "markdown",
      "id": "f2984791",
      "metadata": {},
      "source": [
        "<b>Name -> Neville Mathew</b>\n",
        "<br>\n",
        "<b>Student No. -> F120315</b>"
      ]
    },
    {
      "cell_type": "markdown",
      "id": "5207d0b3",
      "metadata": {
        "id": "5207d0b3"
      },
      "source": [
        "## Table of Contents\n",
        "1. [Data Ingestion](#data-ingestion)\n",
        "    1. [Importing the Libraries](#import_libraries)\n",
        "    2. [Importing the Dataset](#importing_dataset)\n",
        "    3. [Splitting Dataset into Train & Test set](#dataset_split)\n",
        "    4. [Visualising Five Images from the Dataset](#visualize_images)\n",
        "\n",
        "2. [Data Preprocessing](#data_preprocessing)\n",
        "    1. [Grayscale Conversion](#grayscale)\n",
        "    2. [Normalization](#normalization)\n",
        "    3. [Gaussian Blur](#blur)\n",
        "    4. [Image Rotation](#rotate)\n",
        "    5. [One-Hot Encoding](#encoding)\n",
        "\n",
        "3. [Model Learning](#model_learning)\n",
        "    1. [Convolutional Neural Network (CNN) Models](#cnn_models)\n",
        "        1. [Base CNN Model](#base_cnn_model)\n",
        "            1. [Base CNN Model -> Shuffle, 25 Epochs, Kernel Size, Grayscale & Gaussian Blur](#base_cnn_model_changes)\n",
        "        2. [ResNet50 CNN Model](#resnet50_cnn_model)\n",
        "        3. [Best CNN Model](#best_cnn_model)\n",
        "\n",
        "\n",
        "4. [Model Evaluation](#model_evaluation)\n",
        "    1. [Visualization of Base CNN Model](#visualization_base_cnn_model)\n",
        "    3. [Visualization of ResNet50 CNN Model](#visualization_resnet50_cnn_model)\n",
        "    4. [Visualization of Best CNN Model](#visualization_best_cnn_model)\n",
        "\n",
        "5. [Model Prediction](#model_prediction)\n",
        "    1. [Prediction of Best CNN Model](#prediction_best_cnn_model)\n",
        "    \n",
        "    \n"
      ]
    },
    {
      "cell_type": "markdown",
      "id": "33316fd1",
      "metadata": {
        "id": "33316fd1"
      },
      "source": [
        "## <a name=\"data-ingestion\">Data Ingestion</a>\n"
      ]
    },
    {
      "cell_type": "markdown",
      "id": "7975f6d2",
      "metadata": {
        "id": "7975f6d2"
      },
      "source": [
        "### <a name=\"import_libraries\">Importing the Libraries</a>\n"
      ]
    },
    {
      "cell_type": "code",
      "execution_count": 1,
      "id": "_f_StMjyUujE",
      "metadata": {
        "id": "_f_StMjyUujE"
      },
      "outputs": [
        {
          "name": "stderr",
          "output_type": "stream",
          "text": [
            "2022-01-13 12:29:29.872508: I tensorflow/stream_executor/platform/default/dso_loader.cc:49] Successfully opened dynamic library libcudart.so.10.1\n"
          ]
        }
      ],
      "source": [
        "import os\n",
        "import numpy as np\n",
        "import pickle\n",
        "import requests\n",
        "import matplotlib.pyplot as plt\n",
        "import cv2\n",
        "import wget\n",
        "import tensorflow as tf\n",
        "from tensorflow.keras.applications.resnet50 import ResNet50\n",
        "from sklearn.metrics import accuracy_score\n",
        "from matplotlib import image\n",
        "from scipy import ndimage\n",
        "from tensorflow import keras\n",
        "from tensorflow.keras import layers\n",
        "from tensorflow.keras.layers import Conv2D, MaxPool2D, Flatten, Dense, Dropout, Activation, BatchNormalization\n",
        "from keras.utils import np_utils\n",
        "from tensorflow.keras import optimizers\n",
        "from keras.models import Sequential\n"
      ]
    },
    {
      "cell_type": "markdown",
      "id": "fe6b960e",
      "metadata": {
        "id": "fe6b960e"
      },
      "source": [
        "### <a name=\"importing_dataset\">Importing the Dataset</a>\n"
      ]
    },
    {
      "cell_type": "code",
      "execution_count": 2,
      "id": "sVoI7_X6UujG",
      "metadata": {
        "id": "sVoI7_X6UujG"
      },
      "outputs": [],
      "source": [
        "path_to_check = os.path.join('', 'image_recognition_dataset.pth')\n",
        "data_path = path_to_check\n",
        "\n",
        "\n",
        "def load_dataset():\n",
        "    if not os.path.exists(path_to_check):\n",
        "        url = 'https://www.dropbox.com/s/j05hyf667ikzu4s/image_recognition_dataset.pth?dl=1'\n",
        "        filename = wget.download(url)\n",
        "        data_path = os.path.join('', filename)\n",
        "    else:\n",
        "        print(\"Data found on local {:s}\".format(path_to_check))\n",
        "        data_path = path_to_check\n",
        "\n",
        "    data = pickle.load(open(data_path, 'rb'))\n",
        "    train_imgs, train_labels, test_imgs, test_labels = data.values()\n",
        "    return train_imgs, train_labels, test_imgs, test_labels\n"
      ]
    },
    {
      "cell_type": "markdown",
      "id": "4334cbac",
      "metadata": {
        "id": "4334cbac"
      },
      "source": [
        "### <a name=\"dataset_split\">Splitting the Dataset into the Train & Test set</a>\n"
      ]
    },
    {
      "cell_type": "code",
      "execution_count": 3,
      "id": "xOE0QVfQUujI",
      "metadata": {
        "colab": {
          "base_uri": "https://localhost:8080/"
        },
        "id": "xOE0QVfQUujI",
        "outputId": "dc335af8-02f1-4eb0-a869-e0ad09daf12a"
      },
      "outputs": [
        {
          "name": "stdout",
          "output_type": "stream",
          "text": [
            "Data found on local image_recognition_dataset.pth\n"
          ]
        }
      ],
      "source": [
        "train_imgs, train_labels, test_imgs, test_labels = load_dataset()\n"
      ]
    },
    {
      "cell_type": "markdown",
      "id": "329c6710",
      "metadata": {
        "id": "329c6710"
      },
      "source": [
        "### <a name=\"display_dataset\">Displaying Dataset Information</a>\n"
      ]
    },
    {
      "cell_type": "code",
      "execution_count": 4,
      "id": "16Vd_aSQUujK",
      "metadata": {
        "colab": {
          "base_uri": "https://localhost:8080/"
        },
        "id": "16Vd_aSQUujK",
        "outputId": "9d8919c0-d19c-4531-904c-3ea7b4bfaa12"
      },
      "outputs": [
        {
          "name": "stdout",
          "output_type": "stream",
          "text": [
            "Total number of classes in dataset -> 8\n",
            "Shape of image training set ->  (40000, 32, 32, 3)\n",
            "Number of training images in dataset ->  40000\n",
            "Number of testing images in dataset ->  8000\n"
          ]
        }
      ],
      "source": [
        "dataset_classes = len(np.unique(train_labels))\n",
        "print(\"Total number of classes in dataset -> {:d}\".format(dataset_classes))\n",
        "print(\"Shape of image training set -> \", train_imgs.shape)\n",
        "print(\"Number of training images in dataset -> \", train_imgs.shape[0])\n",
        "print(\"Number of testing images in dataset -> \", test_imgs.shape[0])\n"
      ]
    },
    {
      "cell_type": "markdown",
      "id": "a383e471",
      "metadata": {
        "id": "a383e471"
      },
      "source": [
        "### <a name=\"visualize_images\">Visualising Five Images from the Dataset</a>\n"
      ]
    },
    {
      "cell_type": "code",
      "execution_count": 5,
      "id": "HDk6E9rvUujL",
      "metadata": {
        "colab": {
          "base_uri": "https://localhost:8080/",
          "height": 138
        },
        "id": "HDk6E9rvUujL",
        "outputId": "00bd2b11-52e5-4b7d-f196-5035aa8067ad"
      },
      "outputs": [
        {
          "name": "stderr",
          "output_type": "stream",
          "text": [
            "/home/lunet/conm/.conda/envs/cop508/lib/python3.9/site-packages/matplotlib/text.py:1223: FutureWarning: elementwise comparison failed; returning scalar instead, but in the future will perform elementwise comparison\n",
            "  if s != self._text:\n"
          ]
        },
        {
          "data": {
            "image/png": "[encoded data removed]",
            "text/plain": [
              "<Figure size 432x288 with 8 Axes>"
            ]
          },
          "metadata": {
            "needs_background": "light"
          },
          "output_type": "display_data"
        }
      ],
      "source": [
        "def plot_trained_images() -> None:\n",
        "    for i in range(8):\n",
        "        plt.subplot(1, 8, i+1)\n",
        "        imgData = np.array(train_imgs[i])\n",
        "        plt.title(train_labels[i])\n",
        "        plt.imshow(imgData)\n",
        "        plt.axis('off')\n",
        "\n",
        "\n",
        "plot_trained_images()\n"
      ]
    },
    {
      "cell_type": "code",
      "execution_count": 6,
      "id": "5e0bfed7",
      "metadata": {
        "colab": {
          "base_uri": "https://localhost:8080/",
          "height": 138
        },
        "id": "5e0bfed7",
        "outputId": "932de0f3-868f-4ba5-dfe7-83119ffa0ff4"
      },
      "outputs": [
        {
          "data": {
            "image/png": "[encoded data removed]",
            "text/plain": [
              "<Figure size 432x288 with 8 Axes>"
            ]
          },
          "metadata": {
            "needs_background": "light"
          },
          "output_type": "display_data"
        }
      ],
      "source": [
        "def plot_test_images() -> None:\n",
        "    for i in range(8):\n",
        "        plt.subplot(1, 8, i+1)\n",
        "        imgData = np.array(test_imgs[i])\n",
        "        plt.title(test_labels[i])\n",
        "        plt.imshow(imgData)\n",
        "        plt.axis('off')\n",
        "\n",
        "\n",
        "plot_test_images()\n"
      ]
    },
    {
      "cell_type": "markdown",
      "id": "e992911c",
      "metadata": {
        "id": "e992911c"
      },
      "source": [
        "## <a name=\"data_preprocessing\">Data Preprocessing</a>\n"
      ]
    },
    {
      "cell_type": "markdown",
      "id": "f7d56252",
      "metadata": {
        "id": "f7d56252"
      },
      "source": [
        "### <a name=\"grayscale\">Grayscale Conversion</a>\n"
      ]
    },
    {
      "cell_type": "code",
      "execution_count": 7,
      "id": "e6a22e92",
      "metadata": {
        "colab": {
          "base_uri": "https://localhost:8080/",
          "height": 283
        },
        "id": "e6a22e92",
        "outputId": "598b6b4a-eb1e-414d-95e9-69329e47f58d"
      },
      "outputs": [
        {
          "data": {
            "text/plain": [
              "<matplotlib.image.AxesImage at 0x7f4a6b36f3a0>"
            ]
          },
          "execution_count": 7,
          "metadata": {},
          "output_type": "execute_result"
        },
        {
          "data": {
            "image/png": "[encoded data removed]",
            "text/plain": [
              "<Figure size 432x288 with 1 Axes>"
            ]
          },
          "metadata": {
            "needs_background": "light"
          },
          "output_type": "display_data"
        }
      ],
      "source": [
        "# Conversion of colour image to grayscale.\n",
        "grayscale_train_img = [cv2.cvtColor(\n",
        "    one_img, cv2.COLOR_BGR2GRAY) for one_img in train_imgs]\n",
        "grayscale_test_img = [cv2.cvtColor(\n",
        "    one_img, cv2.COLOR_BGR2GRAY) for one_img in test_imgs]\n",
        "plt.imshow(grayscale_train_img[0], cmap='gray')\n"
      ]
    },
    {
      "cell_type": "markdown",
      "id": "8810e2d9",
      "metadata": {
        "id": "8810e2d9"
      },
      "source": [
        "### <a name=\"normalization\">Normalization</a>\n"
      ]
    },
    {
      "cell_type": "code",
      "execution_count": 31,
      "id": "cd6ddd71",
      "metadata": {
        "colab": {
          "base_uri": "https://localhost:8080/",
          "height": 283
        },
        "id": "cd6ddd71",
        "outputId": "8d4e22b6-c05f-4155-b659-ca7440756ce1"
      },
      "outputs": [
        {
          "data": {
            "text/plain": [
              "<matplotlib.image.AxesImage at 0x7f4a6b2f7ac0>"
            ]
          },
          "execution_count": 31,
          "metadata": {},
          "output_type": "execute_result"
        },
        {
          "data": {
            "image/png": "[encoded data removed]",
            "text/plain": [
              "<Figure size 432x288 with 1 Axes>"
            ]
          },
          "metadata": {
            "needs_background": "light"
          },
          "output_type": "display_data"
        }
      ],
      "source": [
        "# Normalizing all images in the dataset in the range of 0 and 1.\n",
        "normalized_train_img = [one_img/255.0 for one_img in grayscale_train_img]\n",
        "normalized_test_img = [one_img/255.0 for one_img in grayscale_test_img]\n",
        "plt.imshow(normalized_train_img[0])\n"
      ]
    },
    {
      "cell_type": "markdown",
      "id": "f0e1d41c",
      "metadata": {
        "id": "f0e1d41c"
      },
      "source": [
        "### <a name=\"blur\">Gaussian Blur</a>\n"
      ]
    },
    {
      "cell_type": "code",
      "execution_count": 47,
      "id": "f33f73ba",
      "metadata": {
        "colab": {
          "base_uri": "https://localhost:8080/",
          "height": 283
        },
        "id": "f33f73ba",
        "outputId": "f4729122-0792-4850-c255-0bdd817c24ec"
      },
      "outputs": [
        {
          "data": {
            "text/plain": [
              "<matplotlib.image.AxesImage at 0x7f4a0c21d4c0>"
            ]
          },
          "execution_count": 47,
          "metadata": {},
          "output_type": "execute_result"
        },
        {
          "data": {
            "image/png": "[encoded data removed]",
            "text/plain": [
              "<Figure size 432x288 with 1 Axes>"
            ]
          },
          "metadata": {
            "needs_background": "light"
          },
          "output_type": "display_data"
        }
      ],
      "source": [
        "# Blurring images of sigma 1.\n",
        "blurred_train_img = [ndimage.gaussian_filter(\n",
        "    train_blur_imgs, sigma=0.5) for train_blur_imgs in normalized_train_img]\n",
        "blurred_test_img = [ndimage.gaussian_filter(\n",
        "    test_blur_imgs, sigma=0.5) for test_blur_imgs in normalized_test_img]\n",
        "plt.imshow(blurred_train_img[0])\n"
      ]
    },
    {
      "cell_type": "markdown",
      "id": "272cd6ff",
      "metadata": {
        "id": "272cd6ff"
      },
      "source": [
        "### <a name=\"rotation\">Image Rotation</a>\n"
      ]
    },
    {
      "cell_type": "code",
      "execution_count": 48,
      "id": "ae327bb7",
      "metadata": {
        "colab": {
          "base_uri": "https://localhost:8080/",
          "height": 301
        },
        "id": "ae327bb7",
        "outputId": "3d4d0ad9-a33c-4186-fbb2-384bff0f8b58"
      },
      "outputs": [
        {
          "data": {
            "text/plain": [
              "<matplotlib.image.AxesImage at 0x7f49798cd5b0>"
            ]
          },
          "execution_count": 48,
          "metadata": {},
          "output_type": "execute_result"
        },
        {
          "data": {
            "image/png": "[encoded data removed]",
            "text/plain": [
              "<Figure size 432x288 with 1 Axes>"
            ]
          },
          "metadata": {
            "needs_background": "light"
          },
          "output_type": "display_data"
        }
      ],
      "source": [
        "# Rotation of images to 180 degrees through the use of a list comprehension.\n",
        "rotated_train_img = np.array([ndimage.rotate(\n",
        "    train_rotate_imgs, angle=180) for train_rotate_imgs in blurred_train_img])\n",
        "rotated_test_img = np.array([ndimage.rotate(\n",
        "    test_rotate_imgs, angle=180) for test_rotate_imgs in blurred_test_img])\n",
        "plt.imshow(rotated_train_img[0])\n"
      ]
    },
    {
      "cell_type": "markdown",
      "id": "cQmiaD1FaE9o",
      "metadata": {
        "id": "cQmiaD1FaE9o"
      },
      "source": [
        "### <a name=\"encoding\">One-Hot Encoding</a>\n"
      ]
    },
    {
      "cell_type": "code",
      "execution_count": 51,
      "id": "a84df959",
      "metadata": {
        "colab": {
          "base_uri": "https://localhost:8080/"
        },
        "id": "a84df959",
        "outputId": "4b34ab4b-0afe-4f2c-8274-6e1c1b4ebdbc"
      },
      "outputs": [
        {
          "name": "stdout",
          "output_type": "stream",
          "text": [
            "Shape of training split before one-hot encoding ->  (40000, 1)\n",
            "Shape of training split after one-hot encoding ->  (40000, 8)\n"
          ]
        }
      ],
      "source": [
        "# Reshaping of rotated_train_img and rotated_test_img which are numpy arrays.\n",
        "rotated_train_img = rotated_train_img.reshape(\n",
        "    rotated_train_img.shape[0], 32, 32, 1)\n",
        "rotated_test_img = rotated_test_img.reshape(\n",
        "    rotated_test_img.shape[0], 32, 32, 1)\n",
        "\n",
        "# one-hot encoding - Used to help in preprocessing categorical features of the images.\n",
        "no_of_classes = 8\n",
        "print(\"Shape of training split before one-hot encoding -> \", train_labels.shape)\n",
        "Y_train = np_utils.to_categorical(train_labels, no_of_classes)\n",
        "Y_test = np_utils.to_categorical(test_labels, no_of_classes)\n",
        "print(\"Shape of training split after one-hot encoding -> \", Y_train.shape)\n",
        "\n"
      ]
    },
    {
      "cell_type": "markdown",
      "id": "d877da98",
      "metadata": {
        "id": "d877da98"
      },
      "source": [
        "## <a name=\"model_learning\">Model Learning</a>\n"
      ]
    },
    {
      "cell_type": "markdown",
      "id": "b8abfeba",
      "metadata": {
        "id": "b8abfeba"
      },
      "source": [
        "### <a name=\"cnn_models\">Convolutional Neural Network (CNN) Models</a>\n"
      ]
    },
    {
      "cell_type": "markdown",
      "id": "7b7be011",
      "metadata": {
        "id": "7b7be011"
      },
      "source": [
        "#### <a name=\"base_cnn_model\">Base CNN Model</a>\n"
      ]
    },
    {
      "cell_type": "code",
      "execution_count": 12,
      "id": "9b8a60d0",
      "metadata": {
        "id": "9b8a60d0"
      },
      "outputs": [],
      "source": [
        "# Reference: https://www.analyticsvidhya.com/blog/2020/02/learn-image-classification-cnn-convolutional-neural-networks-3-datasets/\n",
        "\n",
        "# To prevent any memory build up from old models or layers.\n",
        "keras.backend.clear_session()\n",
        "np.random.seed(15)\n",
        "tf.random.set_seed(15)\n",
        "\n",
        "\n",
        "def base_cnn_model() -> Sequential:\n",
        "    \"\"\"\n",
        "    Function which returns the base model.\n",
        "    :rtype: Sequential\n",
        "    \"\"\"\n",
        "    # Creating an early stopping function to monitor loss while keeping the best results.\n",
        "    early_callback = tf.keras.callbacks.EarlyStopping(\n",
        "        monitor='loss', restore_best_weights=True, patience=0)\n",
        "\n",
        "    # Initializing Sequential model, creating linear stack of model layers.\n",
        "    base_cnn_model.model1 = Sequential()\n",
        "\n",
        "    # Adding 3 convolutional layers with max pooling and dropout functions.\n",
        "    base_cnn_model.model1.add(Conv2D(32, kernel_size=(3, 3), strides=(1, 1),\n",
        "                    padding='same', input_shape=(32, 32, 3), activation='relu'))\n",
        "\n",
        "    base_cnn_model.model1.add(Conv2D(64, kernel_size=(3, 3), strides=(\n",
        "        1, 1), padding='same', activation='relu'))\n",
        "    base_cnn_model.model1.add(MaxPool2D(pool_size=(2, 2)))\n",
        "    base_cnn_model.model1.add(Dropout(0.25))\n",
        "\n",
        "    base_cnn_model.model1.add(Conv2D(128, kernel_size=(3, 3), strides=(\n",
        "        1, 1), padding='same', activation='relu'))\n",
        "    base_cnn_model.model1.add(MaxPool2D(pool_size=(2, 2)))\n",
        "    base_cnn_model.model1.add(Dropout(0.25))\n",
        "\n",
        "    # Flattening convolutional layer output.\n",
        "    base_cnn_model.model1.add(Flatten())\n",
        "\n",
        "    # Adding 2 hidden layers.\n",
        "    base_cnn_model.model1.add(Dense(500, activation='relu'))\n",
        "    base_cnn_model.model1.add(Dropout(0.75))\n",
        "    base_cnn_model.model1.add(Dense(250, activation='relu'))\n",
        "    base_cnn_model.model1.add(Dropout(0.55))\n",
        "\n",
        "    # Final output layer with 8 classes.\n",
        "    base_cnn_model.model1.add(Dense(8, activation='softmax'))\n",
        "\n",
        "    # Compilation of sequential model with suitable parameters.\n",
        "    base_cnn_model.model1.compile(loss='categorical_crossentropy',\n",
        "                metrics=['accuracy', 'AUC'], optimizer='adam')\n",
        "\n",
        "    # Training model for 20 epochs\n",
        "    base_cnn_model.base_final_model = base_cnn_model.model1.fit(rotated_train_img, Y_train, batch_size=128, epochs=20, callbacks=[\n",
        "                            early_callback], validation_data=(rotated_test_img, Y_test))\n",
        "    \n",
        "    return base_cnn_model.model1, base_cnn_model.base_final_model"
      ]
    },
    {
      "cell_type": "code",
      "execution_count": 30,
      "id": "eca4e98c",
      "metadata": {},
      "outputs": [
        {
          "name": "stdout",
          "output_type": "stream",
          "text": [
            "Model: \"sequential\"\n",
            "_________________________________________________________________\n",
            "Layer (type)                 Output Shape              Param #   \n",
            "=================================================================\n",
            "conv2d (Conv2D)              (None, 32, 32, 32)        896       \n",
            "_________________________________________________________________\n",
            "conv2d_1 (Conv2D)            (None, 32, 32, 64)        18496     \n",
            "_________________________________________________________________\n",
            "max_pooling2d (MaxPooling2D) (None, 16, 16, 64)        0         \n",
            "_________________________________________________________________\n",
            "dropout (Dropout)            (None, 16, 16, 64)        0         \n",
            "_________________________________________________________________\n",
            "conv2d_2 (Conv2D)            (None, 16, 16, 128)       73856     \n",
            "_________________________________________________________________\n",
            "max_pooling2d_1 (MaxPooling2 (None, 8, 8, 128)         0         \n",
            "_________________________________________________________________\n",
            "dropout_1 (Dropout)          (None, 8, 8, 128)         0         \n",
            "_________________________________________________________________\n",
            "flatten (Flatten)            (None, 8192)              0         \n",
            "_________________________________________________________________\n",
            "dense (Dense)                (None, 500)               4096500   \n",
            "_________________________________________________________________\n",
            "dropout_2 (Dropout)          (None, 500)               0         \n",
            "_________________________________________________________________\n",
            "dense_1 (Dense)              (None, 250)               125250    \n",
            "_________________________________________________________________\n",
            "dropout_3 (Dropout)          (None, 250)               0         \n",
            "_________________________________________________________________\n",
            "dense_2 (Dense)              (None, 8)                 2008      \n",
            "=================================================================\n",
            "Total params: 4,317,006\n",
            "Trainable params: 4,317,006\n",
            "Non-trainable params: 0\n",
            "_________________________________________________________________\n"
          ]
        }
      ],
      "source": [
        "base_cnn_model.model1.summary()"
      ]
    },
    {
      "cell_type": "code",
      "execution_count": 13,
      "id": "22769a0f",
      "metadata": {},
      "outputs": [
        {
          "name": "stderr",
          "output_type": "stream",
          "text": [
            "2022-01-13 12:30:00.792655: I tensorflow/compiler/jit/xla_cpu_device.cc:41] Not creating XLA devices, tf_xla_enable_xla_devices not set\n",
            "2022-01-13 12:30:00.794863: I tensorflow/stream_executor/platform/default/dso_loader.cc:49] Successfully opened dynamic library libcuda.so.1\n",
            "2022-01-13 12:30:00.855145: I tensorflow/stream_executor/cuda/cuda_gpu_executor.cc:941] successful NUMA node read from SysFS had negative value (-1), but there must be at least one NUMA node, so returning NUMA node zero\n",
            "2022-01-13 12:30:00.855760: I tensorflow/core/common_runtime/gpu/gpu_device.cc:1720] Found device 0 with properties: \n",
            "pciBusID: 0000:01:00.0 name: NVIDIA GeForce RTX 2080 Ti computeCapability: 7.5\n",
            "coreClock: 1.545GHz coreCount: 68 deviceMemorySize: 10.76GiB deviceMemoryBandwidth: 573.69GiB/s\n",
            "2022-01-13 12:30:00.855792: I tensorflow/stream_executor/platform/default/dso_loader.cc:49] Successfully opened dynamic library libcudart.so.10.1\n",
            "2022-01-13 12:30:00.857534: I tensorflow/stream_executor/platform/default/dso_loader.cc:49] Successfully opened dynamic library libcublas.so.10\n",
            "2022-01-13 12:30:00.857591: I tensorflow/stream_executor/platform/default/dso_loader.cc:49] Successfully opened dynamic library libcublasLt.so.10\n",
            "2022-01-13 12:30:00.858989: I tensorflow/stream_executor/platform/default/dso_loader.cc:49] Successfully opened dynamic library libcufft.so.10\n",
            "2022-01-13 12:30:00.859246: I tensorflow/stream_executor/platform/default/dso_loader.cc:49] Successfully opened dynamic library libcurand.so.10\n",
            "2022-01-13 12:30:00.860618: I tensorflow/stream_executor/platform/default/dso_loader.cc:49] Successfully opened dynamic library libcusolver.so.10\n",
            "2022-01-13 12:30:00.861334: I tensorflow/stream_executor/platform/default/dso_loader.cc:49] Successfully opened dynamic library libcusparse.so.10\n",
            "2022-01-13 12:30:00.864132: I tensorflow/stream_executor/platform/default/dso_loader.cc:49] Successfully opened dynamic library libcudnn.so.7\n",
            "2022-01-13 12:30:00.864233: I tensorflow/stream_executor/cuda/cuda_gpu_executor.cc:941] successful NUMA node read from SysFS had negative value (-1), but there must be at least one NUMA node, so returning NUMA node zero\n",
            "2022-01-13 12:30:00.864723: I tensorflow/stream_executor/cuda/cuda_gpu_executor.cc:941] successful NUMA node read from SysFS had negative value (-1), but there must be at least one NUMA node, so returning NUMA node zero\n",
            "2022-01-13 12:30:00.865138: I tensorflow/core/common_runtime/gpu/gpu_device.cc:1862] Adding visible gpu devices: 0\n",
            "2022-01-13 12:30:00.865417: I tensorflow/core/platform/cpu_feature_guard.cc:142] This TensorFlow binary is optimized with oneAPI Deep Neural Network Library (oneDNN) to use the following CPU instructions in performance-critical operations:  SSE4.1 SSE4.2 AVX AVX2 FMA\n",
            "To enable them in other operations, rebuild TensorFlow with the appropriate compiler flags.\n",
            "2022-01-13 12:30:00.865700: I tensorflow/stream_executor/cuda/cuda_gpu_executor.cc:941] successful NUMA node read from SysFS had negative value (-1), but there must be at least one NUMA node, so returning NUMA node zero\n",
            "2022-01-13 12:30:00.866120: I tensorflow/core/common_runtime/gpu/gpu_device.cc:1720] Found device 0 with properties: \n",
            "pciBusID: 0000:01:00.0 name: NVIDIA GeForce RTX 2080 Ti computeCapability: 7.5\n",
            "coreClock: 1.545GHz coreCount: 68 deviceMemorySize: 10.76GiB deviceMemoryBandwidth: 573.69GiB/s\n",
            "2022-01-13 12:30:00.866141: I tensorflow/stream_executor/platform/default/dso_loader.cc:49] Successfully opened dynamic library libcudart.so.10.1\n",
            "2022-01-13 12:30:00.866162: I tensorflow/stream_executor/platform/default/dso_loader.cc:49] Successfully opened dynamic library libcublas.so.10\n",
            "2022-01-13 12:30:00.866182: I tensorflow/stream_executor/platform/default/dso_loader.cc:49] Successfully opened dynamic library libcublasLt.so.10\n",
            "2022-01-13 12:30:00.866201: I tensorflow/stream_executor/platform/default/dso_loader.cc:49] Successfully opened dynamic library libcufft.so.10\n",
            "2022-01-13 12:30:00.866220: I tensorflow/stream_executor/platform/default/dso_loader.cc:49] Successfully opened dynamic library libcurand.so.10\n",
            "2022-01-13 12:30:00.866240: I tensorflow/stream_executor/platform/default/dso_loader.cc:49] Successfully opened dynamic library libcusolver.so.10\n",
            "2022-01-13 12:30:00.866261: I tensorflow/stream_executor/platform/default/dso_loader.cc:49] Successfully opened dynamic library libcusparse.so.10\n",
            "2022-01-13 12:30:00.866281: I tensorflow/stream_executor/platform/default/dso_loader.cc:49] Successfully opened dynamic library libcudnn.so.7\n",
            "2022-01-13 12:30:00.866341: I tensorflow/stream_executor/cuda/cuda_gpu_executor.cc:941] successful NUMA node read from SysFS had negative value (-1), but there must be at least one NUMA node, so returning NUMA node zero\n",
            "2022-01-13 12:30:00.866794: I tensorflow/stream_executor/cuda/cuda_gpu_executor.cc:941] successful NUMA node read from SysFS had negative value (-1), but there must be at least one NUMA node, so returning NUMA node zero\n",
            "2022-01-13 12:30:00.867197: I tensorflow/core/common_runtime/gpu/gpu_device.cc:1862] Adding visible gpu devices: 0\n",
            "2022-01-13 12:30:00.867229: I tensorflow/stream_executor/platform/default/dso_loader.cc:49] Successfully opened dynamic library libcudart.so.10.1\n",
            "2022-01-13 12:30:01.131299: I tensorflow/core/common_runtime/gpu/gpu_device.cc:1261] Device interconnect StreamExecutor with strength 1 edge matrix:\n",
            "2022-01-13 12:30:01.131321: I tensorflow/core/common_runtime/gpu/gpu_device.cc:1267]      0 \n",
            "2022-01-13 12:30:01.131325: I tensorflow/core/common_runtime/gpu/gpu_device.cc:1280] 0:   N \n",
            "2022-01-13 12:30:01.131464: I tensorflow/stream_executor/cuda/cuda_gpu_executor.cc:941] successful NUMA node read from SysFS had negative value (-1), but there must be at least one NUMA node, so returning NUMA node zero\n",
            "2022-01-13 12:30:01.131785: I tensorflow/stream_executor/cuda/cuda_gpu_executor.cc:941] successful NUMA node read from SysFS had negative value (-1), but there must be at least one NUMA node, so returning NUMA node zero\n",
            "2022-01-13 12:30:01.132077: I tensorflow/stream_executor/cuda/cuda_gpu_executor.cc:941] successful NUMA node read from SysFS had negative value (-1), but there must be at least one NUMA node, so returning NUMA node zero\n",
            "2022-01-13 12:30:01.132337: I tensorflow/core/common_runtime/gpu/gpu_device.cc:1406] Created TensorFlow device (/job:localhost/replica:0/task:0/device:GPU:0 with 10010 MB memory) -> physical GPU (device: 0, name: NVIDIA GeForce RTX 2080 Ti, pci bus id: 0000:01:00.0, compute capability: 7.5)\n",
            "2022-01-13 12:30:01.132515: I tensorflow/compiler/jit/xla_gpu_device.cc:99] Not creating XLA devices, tf_xla_enable_xla_devices not set\n",
            "2022-01-13 12:30:01.501906: I tensorflow/compiler/mlir/mlir_graph_optimization_pass.cc:116] None of the MLIR optimization passes are enabled (registered 2)\n",
            "2022-01-13 12:30:01.502290: I tensorflow/core/platform/profile_utils/cpu_utils.cc:112] CPU Frequency: 3000000000 Hz\n"
          ]
        },
        {
          "name": "stdout",
          "output_type": "stream",
          "text": [
            "Epoch 1/20\n"
          ]
        },
        {
          "name": "stderr",
          "output_type": "stream",
          "text": [
            "2022-01-13 12:30:02.039123: I tensorflow/stream_executor/platform/default/dso_loader.cc:49] Successfully opened dynamic library libcublas.so.10\n",
            "2022-01-13 12:30:02.171402: I tensorflow/stream_executor/platform/default/dso_loader.cc:49] Successfully opened dynamic library libcudnn.so.7\n"
          ]
        },
        {
          "name": "stdout",
          "output_type": "stream",
          "text": [
            "313/313 [==============================] - 6s 13ms/step - loss: 1.9144 - accuracy: 0.2364 - auc: 0.6505 - val_loss: 1.3307 - val_accuracy: 0.5100 - val_auc: 0.8781\n",
            "Epoch 2/20\n",
            "313/313 [==============================] - 3s 11ms/step - loss: 1.3676 - accuracy: 0.4945 - auc: 0.8614 - val_loss: 1.0987 - val_accuracy: 0.6129 - val_auc: 0.9172\n",
            "Epoch 3/20\n",
            "313/313 [==============================] - 3s 11ms/step - loss: 1.1669 - accuracy: 0.5754 - auc: 0.9009 - val_loss: 0.9517 - val_accuracy: 0.6571 - val_auc: 0.9348\n",
            "Epoch 4/20\n",
            "313/313 [==============================] - 4s 12ms/step - loss: 1.0746 - accuracy: 0.6139 - auc: 0.9166 - val_loss: 0.8975 - val_accuracy: 0.6876 - val_auc: 0.9437\n",
            "Epoch 5/20\n",
            "313/313 [==============================] - 4s 12ms/step - loss: 1.0106 - accuracy: 0.6403 - auc: 0.9266 - val_loss: 0.8584 - val_accuracy: 0.6970 - val_auc: 0.9482\n",
            "Epoch 6/20\n",
            "313/313 [==============================] - 3s 11ms/step - loss: 0.9356 - accuracy: 0.6700 - auc: 0.9370 - val_loss: 0.8199 - val_accuracy: 0.7129 - val_auc: 0.9521\n",
            "Epoch 7/20\n",
            "313/313 [==============================] - 3s 11ms/step - loss: 0.9042 - accuracy: 0.6774 - auc: 0.9407 - val_loss: 0.7789 - val_accuracy: 0.7280 - val_auc: 0.9564\n",
            "Epoch 8/20\n",
            "313/313 [==============================] - 3s 11ms/step - loss: 0.8533 - accuracy: 0.6982 - auc: 0.9472 - val_loss: 0.7891 - val_accuracy: 0.7209 - val_auc: 0.9548\n",
            "Epoch 9/20\n",
            "313/313 [==============================] - 4s 12ms/step - loss: 0.8341 - accuracy: 0.7054 - auc: 0.9495 - val_loss: 0.7520 - val_accuracy: 0.7330 - val_auc: 0.9590\n",
            "Epoch 10/20\n",
            "313/313 [==============================] - 3s 11ms/step - loss: 0.7909 - accuracy: 0.7197 - auc: 0.9545 - val_loss: 0.7538 - val_accuracy: 0.7374 - val_auc: 0.9586\n",
            "Epoch 11/20\n",
            "313/313 [==============================] - 3s 11ms/step - loss: 0.7675 - accuracy: 0.7315 - auc: 0.9571 - val_loss: 0.7388 - val_accuracy: 0.7360 - val_auc: 0.9603\n",
            "Epoch 12/20\n",
            "313/313 [==============================] - 4s 12ms/step - loss: 0.7604 - accuracy: 0.7344 - auc: 0.9576 - val_loss: 0.7094 - val_accuracy: 0.7501 - val_auc: 0.9631\n",
            "Epoch 13/20\n",
            "313/313 [==============================] - 4s 12ms/step - loss: 0.7347 - accuracy: 0.7401 - auc: 0.9602 - val_loss: 0.6983 - val_accuracy: 0.7575 - val_auc: 0.9642\n",
            "Epoch 14/20\n",
            "313/313 [==============================] - 4s 12ms/step - loss: 0.7050 - accuracy: 0.7506 - auc: 0.9634 - val_loss: 0.6880 - val_accuracy: 0.7602 - val_auc: 0.9650\n",
            "Epoch 15/20\n",
            "313/313 [==============================] - 4s 12ms/step - loss: 0.6962 - accuracy: 0.7558 - auc: 0.9641 - val_loss: 0.6723 - val_accuracy: 0.7626 - val_auc: 0.9665\n",
            "Epoch 16/20\n",
            "313/313 [==============================] - 3s 11ms/step - loss: 0.6774 - accuracy: 0.7603 - auc: 0.9659 - val_loss: 0.7210 - val_accuracy: 0.7437 - val_auc: 0.9616\n",
            "Epoch 17/20\n",
            "313/313 [==============================] - 3s 11ms/step - loss: 0.6610 - accuracy: 0.7698 - auc: 0.9677 - val_loss: 0.6855 - val_accuracy: 0.7596 - val_auc: 0.9651\n",
            "Epoch 18/20\n",
            "313/313 [==============================] - 3s 11ms/step - loss: 0.6538 - accuracy: 0.7734 - auc: 0.9681 - val_loss: 0.6605 - val_accuracy: 0.7692 - val_auc: 0.9676\n",
            "Epoch 19/20\n",
            "313/313 [==============================] - 4s 12ms/step - loss: 0.6239 - accuracy: 0.7777 - auc: 0.9710 - val_loss: 0.6575 - val_accuracy: 0.7766 - val_auc: 0.9678\n",
            "Epoch 20/20\n",
            "313/313 [==============================] - 4s 11ms/step - loss: 0.6166 - accuracy: 0.7824 - auc: 0.9716 - val_loss: 0.6641 - val_accuracy: 0.7680 - val_auc: 0.9671\n"
          ]
        },
        {
          "data": {
            "text/plain": [
              "(<tensorflow.python.keras.engine.sequential.Sequential at 0x7f4a6a89f520>,\n",
              " <tensorflow.python.keras.callbacks.History at 0x7f4a6a598430>)"
            ]
          },
          "execution_count": 13,
          "metadata": {},
          "output_type": "execute_result"
        }
      ],
      "source": [
        "base_cnn_model()"
      ]
    },
    {
      "cell_type": "markdown",
      "id": "98ddb242",
      "metadata": {},
      "source": [
        "##### <a name=\"base_cnn_model_changes\">Base CNN Model -> Shuffle, 25 Epochs, Kernel Size, Grayscale & Gaussian Blur</a> "
      ]
    },
    {
      "cell_type": "code",
      "execution_count": 78,
      "id": "5ebf61e2",
      "metadata": {},
      "outputs": [],
      "source": [
        "# To prevent any memory build up from old models or layers.\n",
        "keras.backend.clear_session()\n",
        "np.random.seed(15)\n",
        "tf.random.set_seed(15)\n",
        "\n",
        "\n",
        "def base_cnn_model_changes() -> Sequential:\n",
        "    \"\"\"\n",
        "    Function which returns the base model.\n",
        "    :rtype: Sequential\n",
        "    \"\"\"\n",
        "    # Creating an early stopping function to monitor loss while keeping the best results.\n",
        "    early_callback = tf.keras.callbacks.EarlyStopping(\n",
        "        monitor='loss', restore_best_weights=True, patience=0)\n",
        "\n",
        "    # Initializing Sequential model, creating linear stack of model layers.\n",
        "    base_cnn_model_changes.changes_model = Sequential()\n",
        "\n",
        "    # Adding 3 convolutional layers with max pooling and dropout functions.\n",
        "    base_cnn_model_changes.changes_model.add(Conv2D(64, kernel_size=(3, 3), strides=(1, 1),\n",
        "                    padding='same', input_shape=(32, 32, 1), activation='relu'))\n",
        "\n",
        "    base_cnn_model_changes.changes_model.add(Conv2D(128, kernel_size=(3, 3), strides=(\n",
        "        1, 1), padding='same', activation='relu'))\n",
        "    base_cnn_model_changes.changes_model.add(MaxPool2D(pool_size=(2, 2)))\n",
        "    base_cnn_model_changes.changes_model.add(Dropout(0.25))\n",
        "\n",
        "    base_cnn_model_changes.changes_model.add(Conv2D(256, kernel_size=(3, 3), strides=(\n",
        "        1, 1), padding='same', activation='relu'))\n",
        "    base_cnn_model_changes.changes_model.add(MaxPool2D(pool_size=(2, 2)))\n",
        "    base_cnn_model_changes.changes_model.add(Dropout(0.25))\n",
        "\n",
        "    # Flattening convolutional layer output.\n",
        "    base_cnn_model_changes.changes_model.add(Flatten())\n",
        "\n",
        "    # Adding 2 hidden layers.\n",
        "    base_cnn_model_changes.changes_model.add(Dense(500, activation='relu'))\n",
        "    base_cnn_model_changes.changes_model.add(Dropout(0.75))\n",
        "    base_cnn_model_changes.changes_model.add(Dense(250, activation='relu'))\n",
        "    base_cnn_model_changes.changes_model.add(Dropout(0.55))\n",
        "\n",
        "    # Final output layer with 8 classes.\n",
        "    base_cnn_model_changes.changes_model.add(Dense(8, activation='softmax'))\n",
        "\n",
        "    # Compilation of sequential model with suitable parameters.\n",
        "    base_cnn_model_changes.changes_model.compile(loss='categorical_crossentropy',\n",
        "                metrics=['accuracy', 'AUC'], optimizer='adam')\n",
        "\n",
        "    # Training model for 25 epochs with shuffling of data.\n",
        "    base_cnn_model_changes.base_final_model_changes = base_cnn_model_changes.changes_model.fit(rotated_train_img, Y_train, batch_size=128, epochs=25, callbacks=[\n",
        "                            early_callback], validation_data=(rotated_test_img, Y_test), shuffle=True)\n",
        "    \n",
        "    return base_cnn_model_changes.changes_model, base_cnn_model_changes.base_final_model_changes"
      ]
    },
    {
      "cell_type": "code",
      "execution_count": 80,
      "id": "f8cdf011",
      "metadata": {},
      "outputs": [
        {
          "name": "stdout",
          "output_type": "stream",
          "text": [
            "Model: \"sequential\"\n",
            "_________________________________________________________________\n",
            "Layer (type)                 Output Shape              Param #   \n",
            "=================================================================\n",
            "conv2d (Conv2D)              (None, 32, 32, 64)        640       \n",
            "_________________________________________________________________\n",
            "conv2d_1 (Conv2D)            (None, 32, 32, 128)       73856     \n",
            "_________________________________________________________________\n",
            "max_pooling2d (MaxPooling2D) (None, 16, 16, 128)       0         \n",
            "_________________________________________________________________\n",
            "dropout (Dropout)            (None, 16, 16, 128)       0         \n",
            "_________________________________________________________________\n",
            "conv2d_2 (Conv2D)            (None, 16, 16, 256)       295168    \n",
            "_________________________________________________________________\n",
            "max_pooling2d_1 (MaxPooling2 (None, 8, 8, 256)         0         \n",
            "_________________________________________________________________\n",
            "dropout_1 (Dropout)          (None, 8, 8, 256)         0         \n",
            "_________________________________________________________________\n",
            "flatten (Flatten)            (None, 16384)             0         \n",
            "_________________________________________________________________\n",
            "dense (Dense)                (None, 500)               8192500   \n",
            "_________________________________________________________________\n",
            "dropout_2 (Dropout)          (None, 500)               0         \n",
            "_________________________________________________________________\n",
            "dense_1 (Dense)              (None, 250)               125250    \n",
            "_________________________________________________________________\n",
            "dropout_3 (Dropout)          (None, 250)               0         \n",
            "_________________________________________________________________\n",
            "dense_2 (Dense)              (None, 8)                 2008      \n",
            "=================================================================\n",
            "Total params: 8,689,422\n",
            "Trainable params: 8,689,422\n",
            "Non-trainable params: 0\n",
            "_________________________________________________________________\n"
          ]
        }
      ],
      "source": [
        "# Model summary\n",
        "base_cnn_model_changes.changes_model.summary()"
      ]
    },
    {
      "cell_type": "code",
      "execution_count": 79,
      "id": "5413e898",
      "metadata": {},
      "outputs": [
        {
          "name": "stdout",
          "output_type": "stream",
          "text": [
            "Epoch 1/25\n",
            "313/313 [==============================] - 6s 19ms/step - loss: 1.9875 - accuracy: 0.2045 - auc: 0.6060 - val_loss: 1.4666 - val_accuracy: 0.4816 - val_auc: 0.8462\n",
            "Epoch 2/25\n",
            "313/313 [==============================] - 6s 19ms/step - loss: 1.4737 - accuracy: 0.4592 - auc: 0.8354 - val_loss: 1.1934 - val_accuracy: 0.5820 - val_auc: 0.9038\n",
            "Epoch 3/25\n",
            "313/313 [==============================] - 6s 19ms/step - loss: 1.2495 - accuracy: 0.5486 - auc: 0.8856 - val_loss: 1.0687 - val_accuracy: 0.6158 - val_auc: 0.9174\n",
            "Epoch 4/25\n",
            "313/313 [==============================] - 6s 19ms/step - loss: 1.1524 - accuracy: 0.5866 - auc: 0.9031 - val_loss: 0.9877 - val_accuracy: 0.6489 - val_auc: 0.9299\n",
            "Epoch 5/25\n",
            "313/313 [==============================] - 6s 19ms/step - loss: 1.0762 - accuracy: 0.6164 - auc: 0.9161 - val_loss: 0.9317 - val_accuracy: 0.6702 - val_auc: 0.9386\n",
            "Epoch 6/25\n",
            "313/313 [==============================] - 6s 19ms/step - loss: 1.0097 - accuracy: 0.6433 - auc: 0.9261 - val_loss: 0.9172 - val_accuracy: 0.6745 - val_auc: 0.9394\n",
            "Epoch 7/25\n",
            "313/313 [==============================] - 6s 19ms/step - loss: 0.9717 - accuracy: 0.6532 - auc: 0.9316 - val_loss: 0.8663 - val_accuracy: 0.6941 - val_auc: 0.9465\n",
            "Epoch 8/25\n",
            "313/313 [==============================] - 6s 18ms/step - loss: 0.9105 - accuracy: 0.6786 - auc: 0.9400 - val_loss: 0.8844 - val_accuracy: 0.6900 - val_auc: 0.9433\n",
            "Epoch 9/25\n",
            "313/313 [==============================] - 6s 19ms/step - loss: 0.9087 - accuracy: 0.6798 - auc: 0.9403 - val_loss: 0.8265 - val_accuracy: 0.7092 - val_auc: 0.9510\n",
            "Epoch 10/25\n",
            "313/313 [==============================] - 6s 19ms/step - loss: 0.8643 - accuracy: 0.6960 - auc: 0.9457 - val_loss: 0.8219 - val_accuracy: 0.7114 - val_auc: 0.9514\n",
            "Epoch 11/25\n",
            "313/313 [==============================] - 6s 19ms/step - loss: 0.8335 - accuracy: 0.7059 - auc: 0.9497 - val_loss: 0.8330 - val_accuracy: 0.7061 - val_auc: 0.9499\n",
            "Epoch 12/25\n",
            "313/313 [==============================] - 6s 19ms/step - loss: 0.7976 - accuracy: 0.7237 - auc: 0.9537 - val_loss: 0.7832 - val_accuracy: 0.7260 - val_auc: 0.9554\n",
            "Epoch 13/25\n",
            "313/313 [==============================] - 6s 19ms/step - loss: 0.7983 - accuracy: 0.7193 - auc: 0.9534 - val_loss: 0.7660 - val_accuracy: 0.7306 - val_auc: 0.9573\n",
            "Epoch 14/25\n",
            "313/313 [==============================] - 6s 19ms/step - loss: 0.7782 - accuracy: 0.7261 - auc: 0.9557 - val_loss: 0.7771 - val_accuracy: 0.7291 - val_auc: 0.9560\n",
            "Epoch 15/25\n",
            "313/313 [==============================] - 6s 18ms/step - loss: 0.7448 - accuracy: 0.7396 - auc: 0.9592 - val_loss: 0.7617 - val_accuracy: 0.7364 - val_auc: 0.9573\n",
            "Epoch 16/25\n",
            "313/313 [==============================] - 6s 19ms/step - loss: 0.7390 - accuracy: 0.7407 - auc: 0.9598 - val_loss: 0.7884 - val_accuracy: 0.7285 - val_auc: 0.9542\n",
            "Epoch 17/25\n",
            "313/313 [==============================] - 6s 19ms/step - loss: 0.7095 - accuracy: 0.7518 - auc: 0.9630 - val_loss: 0.7479 - val_accuracy: 0.7346 - val_auc: 0.9591\n",
            "Epoch 18/25\n",
            "313/313 [==============================] - 6s 19ms/step - loss: 0.6988 - accuracy: 0.7546 - auc: 0.9638 - val_loss: 0.7492 - val_accuracy: 0.7391 - val_auc: 0.9591\n",
            "Epoch 19/25\n",
            "313/313 [==============================] - 6s 19ms/step - loss: 0.6897 - accuracy: 0.7563 - auc: 0.9649 - val_loss: 0.7483 - val_accuracy: 0.7393 - val_auc: 0.9587\n",
            "Epoch 20/25\n",
            "313/313 [==============================] - 6s 19ms/step - loss: 0.6657 - accuracy: 0.7639 - auc: 0.9674 - val_loss: 0.7536 - val_accuracy: 0.7384 - val_auc: 0.9582\n",
            "Epoch 21/25\n",
            "313/313 [==============================] - 6s 19ms/step - loss: 0.6640 - accuracy: 0.7667 - auc: 0.9673 - val_loss: 0.7430 - val_accuracy: 0.7424 - val_auc: 0.9595\n",
            "Epoch 22/25\n",
            "313/313 [==============================] - 6s 19ms/step - loss: 0.6519 - accuracy: 0.7693 - auc: 0.9684 - val_loss: 0.7346 - val_accuracy: 0.7464 - val_auc: 0.9602\n",
            "Epoch 23/25\n",
            "313/313 [==============================] - 6s 19ms/step - loss: 0.6365 - accuracy: 0.7750 - auc: 0.9700 - val_loss: 0.7357 - val_accuracy: 0.7454 - val_auc: 0.9601\n",
            "Epoch 24/25\n",
            "313/313 [==============================] - 6s 19ms/step - loss: 0.6361 - accuracy: 0.7728 - auc: 0.9699 - val_loss: 0.7506 - val_accuracy: 0.7390 - val_auc: 0.9583\n",
            "Epoch 25/25\n",
            "313/313 [==============================] - 6s 19ms/step - loss: 0.6145 - accuracy: 0.7838 - auc: 0.9717 - val_loss: 0.7301 - val_accuracy: 0.7470 - val_auc: 0.9608\n"
          ]
        },
        {
          "data": {
            "text/plain": [
              "(<tensorflow.python.keras.engine.sequential.Sequential at 0x7f4a6aa36070>,\n",
              " <tensorflow.python.keras.callbacks.History at 0x7f4a6a35d730>)"
            ]
          },
          "execution_count": 79,
          "metadata": {},
          "output_type": "execute_result"
        }
      ],
      "source": [
        "base_cnn_model_changes()"
      ]
    },
    {
      "cell_type": "markdown",
      "id": "926d0beb",
      "metadata": {
        "id": "926d0beb"
      },
      "source": [
        "#### <a name=\"resnet50_cnn_model\">ResNet-50 CNN Model</a>\n"
      ]
    },
    {
      "cell_type": "code",
      "execution_count": 14,
      "id": "a778b88f",
      "metadata": {},
      "outputs": [],
      "source": [
        "def preprocess_image_resnet50(data_images: None) -> None:\n",
        "  \"\"\"\n",
        "  Function to preprocess the images for ResNet50 model.\n",
        "  :param data_images: Images to be preprocessed.\n",
        "  :return: Preprocessed images.\n",
        "  :rtype: None\n",
        "  \"\"\"\n",
        "  data_images = data_images.astype('float32')\n",
        "  output_images = tf.keras.applications.resnet50.preprocess_input(data_images)\n",
        "  return output_images\n",
        "\n",
        "# Using function to preprocess the images.\n",
        "train_X = preprocess_image_resnet50(train_imgs)\n",
        "valid_X = preprocess_image_resnet50(test_imgs)"
      ]
    },
    {
      "cell_type": "code",
      "execution_count": 15,
      "id": "14b7f218",
      "metadata": {
        "id": "14b7f218",
        "outputId": "d5b29c3c-0ecd-4ea0-f7d2-a8b26202e898"
      },
      "outputs": [],
      "source": [
        "# Reference: https://github.com/y33-j3T/Coursera-Deep-Learning/blob/master/Advanced%20Computer%20Vision%20with%20TensorFlow/Week%201%20-%20Introduction%20to%20Computer%20Vision/Copy%20of%20C3_W1_Lab_2_Transfer_Learning_CIFAR_10.ipynb\n",
        "\n",
        "keras.backend.clear_session()\n",
        "np.random.seed(15)\n",
        "tf.random.set_seed(15)\n",
        "\n",
        "\n",
        "def resnet50_model(image_inputs: None) -> None:\n",
        "    \"\"\"\n",
        "    Pretrained model on imagenet weights with respective input shape.\n",
        "    :param inputs: Inputs to the model.\n",
        "    :return: Outputs of the model.\n",
        "    :rtype: None\n",
        "    \"\"\"\n",
        "    resnet50_model_features = tf.keras.applications.ResNet50(input_shape=(224, 224, 3),\n",
        "                                                             include_top=False,\n",
        "                                                             weights='imagenet')(image_inputs)\n",
        "\n",
        "    return resnet50_model_features\n",
        "\n",
        "\n",
        "def resnet50_classifier(image_inputs: None) -> None:\n",
        "    \"\"\"\n",
        "    Initialize hidden layer and output layer with softmax activation function.\n",
        "    :param image_inputs: Image inputs to the model.\n",
        "    :return: Outputs of the model.\n",
        "    :rtype: None\n",
        "    \"\"\"\n",
        "    classify = tf.keras.layers.GlobalAveragePooling2D()(image_inputs)\n",
        "    classify = tf.keras.layers.Flatten()(classify)\n",
        "    classify = tf.keras.layers.Dense(1024, activation=\"relu\")(classify)\n",
        "    classify = tf.keras.layers.Dense(512, activation=\"relu\")(classify)\n",
        "    classify = tf.keras.layers.Dense(8, activation=\"softmax\",\n",
        "                                     name=\"classification\")(classify)\n",
        "\n",
        "    return classify\n",
        "\n",
        "\n",
        "def complete_resnet50_model(image_inputs: None) -> None:\n",
        "    \"\"\"\n",
        "    Upsampling in order to transform the images with the input size as (224, 224).\n",
        "    :param image_inputs: Image inputs to the model.\n",
        "    :return: Classification layer of the model.\n",
        "    :rtype: None\n",
        "    \"\"\"\n",
        "\n",
        "    upsample = tf.keras.layers.UpSampling2D(size=(7, 7))(image_inputs)\n",
        "\n",
        "    resnet_extractor = resnet50_model(upsample)\n",
        "    final_classification = resnet50_classifier(resnet_extractor)\n",
        "\n",
        "    return final_classification\n",
        "\n",
        "\n",
        "def compile_resnet50_model() -> None:\n",
        "    \"\"\"\n",
        "    Compile the model with the optimizer, loss function and metrics.\n",
        "    :param model: Model to be compiled.\n",
        "    :return: Compiled model.\n",
        "    :rtype: None\n",
        "    \"\"\"\n",
        "    image_inputs = tf.keras.layers.Input(shape=(32, 32, 3))\n",
        "\n",
        "    final_classification = complete_resnet50_model(image_inputs)\n",
        "    model = tf.keras.Model(inputs=image_inputs, outputs=final_classification)\n",
        "\n",
        "    model.compile(optimizer='SGD',\n",
        "                  loss='sparse_categorical_crossentropy',\n",
        "                  metrics=['accuracy'])\n",
        "\n",
        "    return model\n",
        "\n",
        "\n",
        "model = compile_resnet50_model()\n"
      ]
    },
    {
      "cell_type": "code",
      "execution_count": 16,
      "id": "005596d6",
      "metadata": {},
      "outputs": [
        {
          "name": "stdout",
          "output_type": "stream",
          "text": [
            "Model: \"model\"\n",
            "_________________________________________________________________\n",
            "Layer (type)                 Output Shape              Param #   \n",
            "=================================================================\n",
            "input_1 (InputLayer)         [(None, 32, 32, 3)]       0         \n",
            "_________________________________________________________________\n",
            "up_sampling2d (UpSampling2D) (None, 224, 224, 3)       0         \n",
            "_________________________________________________________________\n",
            "resnet50 (Functional)        (None, 7, 7, 2048)        23587712  \n",
            "_________________________________________________________________\n",
            "global_average_pooling2d (Gl (None, 2048)              0         \n",
            "_________________________________________________________________\n",
            "flatten (Flatten)            (None, 2048)              0         \n",
            "_________________________________________________________________\n",
            "dense (Dense)                (None, 1024)              2098176   \n",
            "_________________________________________________________________\n",
            "dense_1 (Dense)              (None, 512)               524800    \n",
            "_________________________________________________________________\n",
            "classification (Dense)       (None, 8)                 4104      \n",
            "=================================================================\n",
            "Total params: 26,214,792\n",
            "Trainable params: 26,161,672\n",
            "Non-trainable params: 53,120\n",
            "_________________________________________________________________\n"
          ]
        }
      ],
      "source": [
        "model.summary()"
      ]
    },
    {
      "cell_type": "code",
      "execution_count": 17,
      "id": "a43fd993",
      "metadata": {
        "id": "a43fd993",
        "outputId": "18ec42dc-408f-436b-b842-d17f06b0e39d"
      },
      "outputs": [
        {
          "name": "stdout",
          "output_type": "stream",
          "text": [
            "Epoch 1/4\n",
            "625/625 [==============================] - 161s 254ms/step - loss: 0.7654 - accuracy: 0.7421 - val_loss: 0.2166 - val_accuracy: 0.9261\n",
            "Epoch 2/4\n",
            "625/625 [==============================] - 159s 255ms/step - loss: 0.1136 - accuracy: 0.9636 - val_loss: 0.1708 - val_accuracy: 0.9442\n",
            "Epoch 3/4\n",
            "625/625 [==============================] - 159s 255ms/step - loss: 0.0372 - accuracy: 0.9897 - val_loss: 0.1670 - val_accuracy: 0.9474\n",
            "Epoch 4/4\n",
            "625/625 [==============================] - 159s 255ms/step - loss: 0.0133 - accuracy: 0.9977 - val_loss: 0.1732 - val_accuracy: 0.9513\n"
          ]
        }
      ],
      "source": [
        "# Training ResNet50 model for 4 epochs.\n",
        "resnet_model = model.fit(train_X, train_labels, epochs=4,\n",
        "                         validation_data=(valid_X, test_labels), batch_size=64)\n"
      ]
    },
    {
      "cell_type": "markdown",
      "id": "944356ab",
      "metadata": {
        "id": "944356ab"
      },
      "source": [
        "#### <a name=\"best_cnn_model\">Best CNN Model</a>\n"
      ]
    },
    {
      "cell_type": "code",
      "execution_count": 18,
      "id": "cd6e24b8",
      "metadata": {
        "id": "cd6e24b8",
        "outputId": "e3183da7-c4ac-4ef2-8fea-c9013b8e112e"
      },
      "outputs": [],
      "source": [
        "# To prevent any memory build up from old models or layers.\n",
        "keras.backend.clear_session()\n",
        "np.random.seed(15)\n",
        "tf.random.set_seed(15)\n",
        "\n",
        "def best_cnn_model() -> Sequential:\n",
        "    \"\"\"\n",
        "    Function which returns the best model.\n",
        "    :rtype: Sequential\n",
        "    \"\"\"\n",
        "    # Creating an early stopping function to monitor loss while keeping the best results.\n",
        "    early_callback = tf.keras.callbacks.EarlyStopping(\n",
        "        monitor='loss', restore_best_weights=True, patience=10)\n",
        "\n",
        "    # Initializing Sequential model, creating linear stack of model layers.\n",
        "    best_cnn_model.model2 = Sequential()\n",
        "\n",
        "    # Adding 6 convolutional layers with max pooling and dropout functions.\n",
        "    best_cnn_model.model2.add(Conv2D(32, input_shape=(32, 32, 3), kernel_size=(\n",
        "        3, 3), strides=(1, 1), padding=\"same\", activation=\"relu\"))\n",
        "\n",
        "    best_cnn_model.model2.add(Conv2D(64, kernel_size=(3, 3), strides=(\n",
        "        1, 1), padding=\"same\", activation=\"relu\"))\n",
        "    best_cnn_model.model2.add(MaxPool2D(pool_size=(2, 2)))\n",
        "    best_cnn_model.model2.add(Dropout(0.25))\n",
        "\n",
        "    best_cnn_model.model2.add(Conv2D(128, kernel_size=(3, 3), strides=(\n",
        "        1, 1), padding=\"same\", activation=\"relu\"))\n",
        "    best_cnn_model.model2.add(MaxPool2D(pool_size=(2, 2)))\n",
        "    best_cnn_model.model2.add(Dropout(0.25))\n",
        "\n",
        "    best_cnn_model.model2.add(Conv2D(256, kernel_size=(3, 3), strides=(\n",
        "        1, 1), padding=\"same\", activation=\"relu\"))\n",
        "    best_cnn_model.model2.add(MaxPool2D(pool_size=(2, 2)))\n",
        "    best_cnn_model.model2.add(Dropout(0.25))\n",
        "\n",
        "    best_cnn_model.model2.add(Conv2D(512, kernel_size=(3, 3), strides=(\n",
        "        1, 1), padding=\"same\", activation=\"relu\"))\n",
        "    best_cnn_model.model2.add(MaxPool2D(pool_size=(2, 2)))\n",
        "    best_cnn_model.model2.add(Dropout(0.25))\n",
        "\n",
        "    best_cnn_model.model2.add(Conv2D(512, kernel_size=(3, 3), strides=(\n",
        "        1, 1), padding=\"same\", activation=\"relu\"))\n",
        "    best_cnn_model.model2.add(MaxPool2D(pool_size=(2, 2)))\n",
        "    best_cnn_model.model2.add(Dropout(0.25))\n",
        "\n",
        "    # Flattening convolutional layer output.\n",
        "    best_cnn_model.model2.add(Flatten())\n",
        "\n",
        "    # Adding 2 hidden layers.\n",
        "    best_cnn_model.model2.add(Dense(500, activation=\"relu\"))\n",
        "    best_cnn_model.model2.add(Dropout(0.75))\n",
        "    best_cnn_model.model2.add(Dense(200, activation=\"relu\"))\n",
        "    best_cnn_model.model2.add(Dropout(0.3))\n",
        "\n",
        "    # Final output layer with 8 classes.\n",
        "    best_cnn_model.model2.add(Dense(8, activation=\"softmax\"))\n",
        "\n",
        "    # Compilation of sequential model with suitable parameters.\n",
        "    best_cnn_model.model2.compile(optimizer='adam', loss='categorical_crossentropy',\n",
        "                metrics=['accuracy'])\n",
        "\n",
        "    # Training model for 25 epochs\n",
        "    best_cnn_model.best_model = best_cnn_model.model2.fit(rotated_train_img, Y_train, batch_size=128, callbacks=[\n",
        "                    early_callback], epochs=25, validation_data=(rotated_test_img, Y_test))\n",
        "    \n",
        "    return best_cnn_model.model2, best_cnn_model.best_model\n"
      ]
    },
    {
      "cell_type": "code",
      "execution_count": 29,
      "id": "1977c5df",
      "metadata": {},
      "outputs": [
        {
          "name": "stdout",
          "output_type": "stream",
          "text": [
            "Model: \"sequential\"\n",
            "_________________________________________________________________\n",
            "Layer (type)                 Output Shape              Param #   \n",
            "=================================================================\n",
            "conv2d (Conv2D)              (None, 32, 32, 32)        896       \n",
            "_________________________________________________________________\n",
            "conv2d_1 (Conv2D)            (None, 32, 32, 64)        18496     \n",
            "_________________________________________________________________\n",
            "max_pooling2d (MaxPooling2D) (None, 16, 16, 64)        0         \n",
            "_________________________________________________________________\n",
            "dropout (Dropout)            (None, 16, 16, 64)        0         \n",
            "_________________________________________________________________\n",
            "conv2d_2 (Conv2D)            (None, 16, 16, 128)       73856     \n",
            "_________________________________________________________________\n",
            "max_pooling2d_1 (MaxPooling2 (None, 8, 8, 128)         0         \n",
            "_________________________________________________________________\n",
            "dropout_1 (Dropout)          (None, 8, 8, 128)         0         \n",
            "_________________________________________________________________\n",
            "conv2d_3 (Conv2D)            (None, 8, 8, 256)         295168    \n",
            "_________________________________________________________________\n",
            "max_pooling2d_2 (MaxPooling2 (None, 4, 4, 256)         0         \n",
            "_________________________________________________________________\n",
            "dropout_2 (Dropout)          (None, 4, 4, 256)         0         \n",
            "_________________________________________________________________\n",
            "conv2d_4 (Conv2D)            (None, 4, 4, 512)         1180160   \n",
            "_________________________________________________________________\n",
            "max_pooling2d_3 (MaxPooling2 (None, 2, 2, 512)         0         \n",
            "_________________________________________________________________\n",
            "dropout_3 (Dropout)          (None, 2, 2, 512)         0         \n",
            "_________________________________________________________________\n",
            "conv2d_5 (Conv2D)            (None, 2, 2, 512)         2359808   \n",
            "_________________________________________________________________\n",
            "max_pooling2d_4 (MaxPooling2 (None, 1, 1, 512)         0         \n",
            "_________________________________________________________________\n",
            "dropout_4 (Dropout)          (None, 1, 1, 512)         0         \n",
            "_________________________________________________________________\n",
            "flatten (Flatten)            (None, 512)               0         \n",
            "_________________________________________________________________\n",
            "dense (Dense)                (None, 500)               256500    \n",
            "_________________________________________________________________\n",
            "dropout_5 (Dropout)          (None, 500)               0         \n",
            "_________________________________________________________________\n",
            "dense_1 (Dense)              (None, 200)               100200    \n",
            "_________________________________________________________________\n",
            "dropout_6 (Dropout)          (None, 200)               0         \n",
            "_________________________________________________________________\n",
            "dense_2 (Dense)              (None, 8)                 1608      \n",
            "=================================================================\n",
            "Total params: 4,286,692\n",
            "Trainable params: 4,286,692\n",
            "Non-trainable params: 0\n",
            "_________________________________________________________________\n"
          ]
        }
      ],
      "source": [
        "best_cnn_model.model2.summary()"
      ]
    },
    {
      "cell_type": "code",
      "execution_count": 19,
      "id": "38e0431f",
      "metadata": {},
      "outputs": [
        {
          "name": "stdout",
          "output_type": "stream",
          "text": [
            "Epoch 1/25\n",
            "313/313 [==============================] - 5s 14ms/step - loss: 1.9986 - accuracy: 0.1792 - val_loss: 1.5832 - val_accuracy: 0.4174\n",
            "Epoch 2/25\n",
            "313/313 [==============================] - 5s 15ms/step - loss: 1.4886 - accuracy: 0.4418 - val_loss: 1.1612 - val_accuracy: 0.5748\n",
            "Epoch 3/25\n",
            "313/313 [==============================] - 5s 15ms/step - loss: 1.2153 - accuracy: 0.5490 - val_loss: 1.1148 - val_accuracy: 0.5947\n",
            "Epoch 4/25\n",
            "313/313 [==============================] - 5s 15ms/step - loss: 1.0839 - accuracy: 0.6051 - val_loss: 0.9494 - val_accuracy: 0.6586\n",
            "Epoch 5/25\n",
            "313/313 [==============================] - 5s 15ms/step - loss: 0.9925 - accuracy: 0.6462 - val_loss: 0.8811 - val_accuracy: 0.6762\n",
            "Epoch 6/25\n",
            "313/313 [==============================] - 5s 15ms/step - loss: 0.8955 - accuracy: 0.6825 - val_loss: 0.8992 - val_accuracy: 0.6840\n",
            "Epoch 7/25\n",
            "313/313 [==============================] - 5s 15ms/step - loss: 0.8774 - accuracy: 0.6931 - val_loss: 0.7994 - val_accuracy: 0.7221\n",
            "Epoch 8/25\n",
            "313/313 [==============================] - 4s 14ms/step - loss: 0.8245 - accuracy: 0.7135 - val_loss: 0.7936 - val_accuracy: 0.7235\n",
            "Epoch 9/25\n",
            "313/313 [==============================] - 5s 15ms/step - loss: 0.7746 - accuracy: 0.7284 - val_loss: 0.7265 - val_accuracy: 0.7452\n",
            "Epoch 10/25\n",
            "313/313 [==============================] - 5s 15ms/step - loss: 0.7486 - accuracy: 0.7413 - val_loss: 0.7307 - val_accuracy: 0.7474\n",
            "Epoch 11/25\n",
            "313/313 [==============================] - 5s 15ms/step - loss: 0.7015 - accuracy: 0.7578 - val_loss: 0.6717 - val_accuracy: 0.7640\n",
            "Epoch 12/25\n",
            "313/313 [==============================] - 5s 15ms/step - loss: 0.6889 - accuracy: 0.7670 - val_loss: 0.6495 - val_accuracy: 0.7744\n",
            "Epoch 13/25\n",
            "313/313 [==============================] - 5s 15ms/step - loss: 0.6799 - accuracy: 0.7676 - val_loss: 0.6448 - val_accuracy: 0.7790\n",
            "Epoch 14/25\n",
            "313/313 [==============================] - 5s 15ms/step - loss: 0.6507 - accuracy: 0.7735 - val_loss: 0.6621 - val_accuracy: 0.7709\n",
            "Epoch 15/25\n",
            "313/313 [==============================] - 5s 14ms/step - loss: 0.6346 - accuracy: 0.7846 - val_loss: 0.6516 - val_accuracy: 0.7753\n",
            "Epoch 16/25\n",
            "313/313 [==============================] - 4s 13ms/step - loss: 0.6224 - accuracy: 0.7854 - val_loss: 0.6451 - val_accuracy: 0.7793\n",
            "Epoch 17/25\n",
            "313/313 [==============================] - 4s 12ms/step - loss: 0.6041 - accuracy: 0.7919 - val_loss: 0.6168 - val_accuracy: 0.7912\n",
            "Epoch 18/25\n",
            "313/313 [==============================] - 4s 14ms/step - loss: 0.5836 - accuracy: 0.8015 - val_loss: 0.6327 - val_accuracy: 0.7814\n",
            "Epoch 19/25\n",
            "313/313 [==============================] - 4s 14ms/step - loss: 0.5767 - accuracy: 0.8018 - val_loss: 0.5734 - val_accuracy: 0.8014\n",
            "Epoch 20/25\n",
            "313/313 [==============================] - 4s 11ms/step - loss: 0.5736 - accuracy: 0.8077 - val_loss: 0.6065 - val_accuracy: 0.7894\n",
            "Epoch 21/25\n",
            "313/313 [==============================] - 3s 11ms/step - loss: 0.5533 - accuracy: 0.8137 - val_loss: 0.6313 - val_accuracy: 0.7834\n",
            "Epoch 22/25\n",
            "313/313 [==============================] - 3s 11ms/step - loss: 0.5489 - accuracy: 0.8147 - val_loss: 0.6187 - val_accuracy: 0.7861\n",
            "Epoch 23/25\n",
            "313/313 [==============================] - 4s 13ms/step - loss: 0.5317 - accuracy: 0.8196 - val_loss: 0.6174 - val_accuracy: 0.7839\n",
            "Epoch 24/25\n",
            "313/313 [==============================] - 4s 12ms/step - loss: 0.5328 - accuracy: 0.8197 - val_loss: 0.5884 - val_accuracy: 0.7962\n",
            "Epoch 25/25\n",
            "313/313 [==============================] - 4s 11ms/step - loss: 0.5208 - accuracy: 0.8221 - val_loss: 0.5548 - val_accuracy: 0.8123\n"
          ]
        },
        {
          "data": {
            "text/plain": [
              "(<tensorflow.python.keras.engine.sequential.Sequential at 0x7f4a6bd1d4f0>,\n",
              " <tensorflow.python.keras.callbacks.History at 0x7f499013b550>)"
            ]
          },
          "execution_count": 19,
          "metadata": {},
          "output_type": "execute_result"
        }
      ],
      "source": [
        "best_cnn_model()"
      ]
    },
    {
      "cell_type": "markdown",
      "id": "75e92936",
      "metadata": {
        "id": "75e92936"
      },
      "source": [
        "## <a name=\"model_evaluation\">Model Evaluation</a>\n"
      ]
    },
    {
      "cell_type": "markdown",
      "id": "494300df",
      "metadata": {
        "id": "494300df"
      },
      "source": [
        "### <a name=\"visualization_base_cnn_model\">Visualization of Base CNN Model</a>\n"
      ]
    },
    {
      "cell_type": "code",
      "execution_count": 20,
      "id": "384c5987",
      "metadata": {
        "id": "384c5987",
        "outputId": "f014e519-29c6-48fb-90e0-fdbaf372b83c"
      },
      "outputs": [
        {
          "name": "stdout",
          "output_type": "stream",
          "text": [
            "250/250 - 1s - loss: 0.6641 - accuracy: 0.7680 - auc: 0.9671\n",
            "Test accuracy on test data split ->  0.6641378998756409\n"
          ]
        },
        {
          "data": {
            "image/png": "[encoded data removed]",
            "text/plain": [
              "<Figure size 432x288 with 1 Axes>"
            ]
          },
          "metadata": {
            "needs_background": "light"
          },
          "output_type": "display_data"
        }
      ],
      "source": [
        "# Create line graph for displaying test and train accuracy.\n",
        "plt.plot(base_cnn_model.base_final_model.history['accuracy'], label='Train Accuracy')\n",
        "plt.plot(base_cnn_model.base_final_model.history['val_accuracy'], label='Test Accuracy')\n",
        "plt.xlabel('Epochs')\n",
        "plt.ylabel('Accuracy')\n",
        "plt.ylim([0.5, 1])\n",
        "plt.legend(loc='best')\n",
        "\n",
        "# Calculate the test accuracy.\n",
        "test_acc, test_loss, *_= base_cnn_model.model1.evaluate(rotated_test_img, Y_test, verbose=2)\n",
        "print('Test accuracy on test data split -> ', test_acc)\n"
      ]
    },
    {
      "cell_type": "markdown",
      "id": "43004e8f",
      "metadata": {},
      "source": [
        "### <a name=\"visualization_base_cnn_model_changes\">Base CNN Model -> Shuffle, 25 Epochs, Kernel Size, Grayscale & Gaussian Blur</a>"
      ]
    },
    {
      "cell_type": "code",
      "execution_count": 81,
      "id": "d51a4d9a",
      "metadata": {},
      "outputs": [
        {
          "name": "stdout",
          "output_type": "stream",
          "text": [
            "250/250 - 1s - loss: 0.7301 - accuracy: 0.7470 - auc: 0.9608\n",
            "Test accuracy on test data split ->  0.7300958037376404\n"
          ]
        },
        {
          "data": {
            "image/png": "[encoded data removed]",
            "text/plain": [
              "<Figure size 432x288 with 1 Axes>"
            ]
          },
          "metadata": {
            "needs_background": "light"
          },
          "output_type": "display_data"
        }
      ],
      "source": [
        "# Plot line graph for displaying test and train accuracy.\n",
        "plt.plot(base_cnn_model_changes.base_final_model_changes.history['accuracy'], label='Train Accuracy')\n",
        "plt.plot(base_cnn_model_changes.base_final_model_changes.history['val_accuracy'], label='Test Accuracy')\n",
        "plt.xlabel('Epochs')\n",
        "plt.ylabel('Accuracy')\n",
        "plt.ylim([0.5, 1])\n",
        "plt.legend(loc='best')\n",
        "\n",
        "# Calculate the test accuracy.\n",
        "test_acc, test_loss, *_= base_cnn_model_changes.changes_model.evaluate(rotated_test_img, Y_test, verbose=2)\n",
        "print('Test accuracy on test data split -> ', test_acc)"
      ]
    },
    {
      "cell_type": "markdown",
      "id": "ef1617cc",
      "metadata": {},
      "source": [
        "###  <a name=\"visualization_resnet50_cnn_model\">Visualization of ResNet50 CNN Model</a>"
      ]
    },
    {
      "cell_type": "code",
      "execution_count": 25,
      "id": "6d908fed",
      "metadata": {},
      "outputs": [
        {
          "name": "stdout",
          "output_type": "stream",
          "text": [
            "250/250 [==============================] - 9s 34ms/step - loss: 0.7570 - accuracy: 0.7980\n",
            "Test accuracy on test data split ->  0.7569841742515564\n"
          ]
        },
        {
          "data": {
            "image/png": "[encoded data removed]",
            "text/plain": [
              "<Figure size 432x288 with 1 Axes>"
            ]
          },
          "metadata": {
            "needs_background": "light"
          },
          "output_type": "display_data"
        }
      ],
      "source": [
        "# Create line graph for displaying test and train accuracy.\n",
        "plt.plot(resnet_model.history['accuracy'], label='Train Accuracy')\n",
        "plt.plot(resnet_model.history['val_accuracy'], label='Test Accuracy')\n",
        "plt.xlabel('Epochs')\n",
        "plt.ylabel('Accuracy')\n",
        "plt.ylim([0.5, 1])\n",
        "plt.legend(loc='best')\n",
        "\n",
        "test_acc, test_loss, *_ = model.evaluate(test_imgs, test_labels)\n",
        "print('Test accuracy on test data split -> ', test_acc)"
      ]
    },
    {
      "cell_type": "markdown",
      "id": "f3f54aff",
      "metadata": {
        "id": "f3f54aff"
      },
      "source": [
        "### <a name=\"visualization_best_cnn_model\">Visualization of Best Model</a>\n"
      ]
    },
    {
      "cell_type": "code",
      "execution_count": 23,
      "id": "32c00bc1",
      "metadata": {
        "id": "32c00bc1",
        "outputId": "d11f284b-54c9-4325-e4ca-009fe65d5c97"
      },
      "outputs": [
        {
          "name": "stdout",
          "output_type": "stream",
          "text": [
            "250/250 [==============================] - 1s 4ms/step - loss: 0.5548 - accuracy: 0.8123\n",
            "Test accuracy on test data split ->  0.5548332929611206\n"
          ]
        },
        {
          "data": {
            "image/png": "[encoded data removed]",
            "text/plain": [
              "<Figure size 432x288 with 1 Axes>"
            ]
          },
          "metadata": {
            "needs_background": "light"
          },
          "output_type": "display_data"
        }
      ],
      "source": [
        "# Create line graph for displaying test and train accuracy.\n",
        "plt.plot(best_cnn_model.best_model.history['accuracy'], label='Train Accuracy')\n",
        "plt.plot(best_cnn_model.best_model.history['val_accuracy'], label='Test Accuracy')\n",
        "plt.xlabel('Epoch')\n",
        "plt.ylabel('Accuracy')\n",
        "plt.ylim([0.5, 1])\n",
        "plt.legend(loc='best')\n",
        "\n",
        "# Calculate the test accuracy.\n",
        "test_acc, test_loss, *_ = best_cnn_model.model2.evaluate(rotated_test_img, Y_test)\n",
        "print('Test accuracy on test data split -> ', test_acc)\n"
      ]
    },
    {
      "cell_type": "markdown",
      "id": "670eaeab",
      "metadata": {},
      "source": [
        "###"
      ]
    },
    {
      "cell_type": "markdown",
      "id": "8c80f460",
      "metadata": {
        "id": "8c80f460"
      },
      "source": [
        "## <a name=\"model_prediction\">Model Prediction</a>\n"
      ]
    },
    {
      "cell_type": "markdown",
      "id": "7bcf022f",
      "metadata": {
        "id": "7bcf022f"
      },
      "source": [
        "### <a name=\"prediction_best_cnn_model\">Prediction of Best CNN Model</a>\n"
      ]
    },
    {
      "cell_type": "code",
      "execution_count": 26,
      "id": "4e464158",
      "metadata": {
        "id": "4e464158"
      },
      "outputs": [],
      "source": [
        "# Refernce: https://github.com/y33-j3T/Coursera-Deep-Learning/blob/master/Advanced%20Computer%20Vision%20with%20TensorFlow/Week%201%20-%20Introduction%20to%20Computer%20Vision/Copy%20of%20C3_W1_Lab_2_Transfer_Learning_CIFAR_10.ipynb\n",
        "\n",
        "# Define classes/objects.\n",
        "classes = ['airplane', 'automobile', 'bird',\n",
        "           'cat', 'deer', 'dog', 'frog', 'horse']\n",
        "\n",
        "\n",
        "def display_predictions(predict_test_imgs: None, preds: str, labels: str, title: str) -> str:\n",
        "    \"\"\"\n",
        "    Define function to plot images.\n",
        "    Displays images with actual and predicted labels.\n",
        "    :param None predict_test_imgs: Image to be displayed.\n",
        "    :param str preds: Predicted labels.\n",
        "    :param str labels: Actual labels.\n",
        "    :param str title: Title of figure.\n",
        "    :rtype: str\n",
        "    \"\"\"\n",
        "\n",
        "    n_of_classes = 8\n",
        "\n",
        "    indexes = np.random.choice(len(preds), size=n_of_classes)\n",
        "    n_predict_test_imgs = predict_test_imgs[indexes]\n",
        "    n_preds = preds[indexes]\n",
        "    n_preds = n_preds.reshape((n_of_classes))\n",
        "    n_labels = labels[indexes]\n",
        "\n",
        "    fig = plt.figure(figsize=(20, 3))\n",
        "    plt.title(title)\n",
        "    plt.yticks([])\n",
        "    plt.xticks([])\n",
        "\n",
        "# Display 8 random test images along with their actual and predicted labels.\n",
        "    for z in range(8):\n",
        "        ax = fig.add_subplot(1, 8, z+1)\n",
        "        class_index = n_preds[z]\n",
        "        actual_pred_labels = 'Predicted -> ' + classes[class_index]\n",
        "        plt.xlabel(actual_pred_labels)\n",
        "        plt.xticks([])\n",
        "        plt.yticks([])\n",
        "        plt.imshow(n_predict_test_imgs[z])\n"
      ]
    },
    {
      "cell_type": "code",
      "execution_count": 28,
      "id": "3V6fxzz7UujW",
      "metadata": {
        "id": "3V6fxzz7UujW",
        "outputId": "e5a5c18c-9ac9-4662-a660-86b0bf18cef9"
      },
      "outputs": [
        {
          "name": "stderr",
          "output_type": "stream",
          "text": [
            "Clipping input data to the valid range for imshow with RGB data ([0..1] for floats or [0..255] for integers).\n",
            "Clipping input data to the valid range for imshow with RGB data ([0..1] for floats or [0..255] for integers).\n"
          ]
        },
        {
          "data": {
            "image/png": "[encoded data removed]",
            "text/plain": [
              "<Figure size 1440x216 with 9 Axes>"
            ]
          },
          "metadata": {},
          "output_type": "display_data"
        }
      ],
      "source": [
        "# Using the trained model to predict the test images.\n",
        "pred_chance = best_cnn_model.model2.predict(rotated_test_img, batch_size=128)\n",
        "pred_chance = np.argmax(pred_chance, axis=1)\n",
        "\n",
        "# Utilizing display_predictions function to display images.\n",
        "display_predictions(\n",
        "    rotated_test_img, pred_chance, Y_test, 'Predictions on test data')"
      ]
    }
  ],
  "metadata": {
    "colab": {
      "collapsed_sections": [],
      "name": "Copy of image_recognition_dataset.ipynb",
      "provenance": []
    },
    "kernelspec": {
      "display_name": "Python 3",
      "language": "python",
      "name": "python3"
    },
    "language_info": {
      "codemirror_mode": {
        "name": "ipython",
        "version": 3
      },
      "file_extension": ".py",
      "mimetype": "text/x-python",
      "name": "python",
      "nbconvert_exporter": "python",
      "pygments_lexer": "ipython3",
      "version": "3.9.7"
    }
  },
  "nbformat": 4,
  "nbformat_minor": 5
}
