{
  "cells": [
    {
      "cell_type": "markdown",
      "id": "da8dd0c8",
      "metadata": {
        "id": "da8dd0c8"
      },
      "source": [
        "# COP508 Machine Learning CW\n"
      ]
    },
    {
      "cell_type": "markdown",
      "id": "5207d0b3",
      "metadata": {
        "id": "5207d0b3"
      },
      "source": [
        "## Table of Contents\n",
        "1. [Data Ingestion](#data-ingestion)\n",
        "    1. [Importing the Libraries](#importing_libraries)\n",
        "    2. [Importing the Dataset](#importing_dataset)\n",
        "    3. [Splitting Dataset into Train & Test set](#dataset_split)\n",
        "    4. [Visualising Five Images from the Dataset](#visualize_images)\n",
        "\n",
        "2. [Data Preprocessing](#data_preprocessing)\n",
        "    1. [Grayscale Conversion](#grayscale)\n",
        "    2. [Normalization](#normalization)\n",
        "    3. [Gausian Blur](#blur)\n",
        "    4. [Image Rotation](#rotate)\n",
        "    5. [One Hot Encoding](#encoding)\n",
        "\n",
        "3. [Model Learning](#model_learning)\n",
        "    1. [Convolutional Neural Network (CNN) Models](#cnn_models)\n",
        "    2. [Base CNN Model](#base_cnn_model)\n",
        "    3. [VGG16 CNN Model](#vgg16_cnn_model)\n",
        "    4. [ResNet50 CNN Model](#resnet50_cnn_model)\n",
        "    5. [Best CNN Model](#best_cnn_model)\n",
        "\n",
        "4. [Model Evaluation](#model_evaluation)\n",
        "    1. [Visualization of Base CNN Model](#visualization_base_cnn_model)\n",
        "    2. [Visualization of VGG16 CNN Model](#visualization_vgg16_cnn_model)\n",
        "    3. [Visualization of ResNet50 CNN Model](#visualization_resnet50_cnn_model)\n",
        "    4. [Visualization of Best CNN Model](#visualization_best_cnn_model)\n",
        "\n",
        "5. [Model Prediction](#model_prediction)\n",
        "    1. [Prediction of Best CNN Model](#prediction_best_cnn_model)\n",
        "    \n",
        "    \n"
      ]
    },
    {
      "cell_type": "markdown",
      "id": "33316fd1",
      "metadata": {
        "id": "33316fd1"
      },
      "source": [
        "## <a name=\"data-ingestion\">Data Ingestion</a>\n"
      ]
    },
    {
      "cell_type": "markdown",
      "id": "7975f6d2",
      "metadata": {
        "id": "7975f6d2"
      },
      "source": [
        "### <a name=\"import_libraries\">Importing the Libraries</a>\n"
      ]
    },
    {
      "cell_type": "code",
      "execution_count": null,
      "id": "_f_StMjyUujE",
      "metadata": {
        "id": "_f_StMjyUujE"
      },
      "outputs": [],
      "source": [
        "import os\n",
        "import numpy as np\n",
        "import pickle\n",
        "import requests\n",
        "import matplotlib.pyplot as plt\n",
        "import cv2\n",
        "import wget\n",
        "import tensorflow as tf\n",
        "from tensorflow.keras.applications.resnet50 import ResNet50\n",
        "from sklearn.metrics import accuracy_score\n",
        "from matplotlib import image\n",
        "from scipy import ndimage\n",
        "from tensorflow import keras\n",
        "from tensorflow.keras import layers\n",
        "from tensorflow.keras.layers import Conv2D, MaxPool2D, Flatten, Dense, Dropout, Activation, BatchNormalization\n",
        "from keras.utils import np_utils\n",
        "from tensorflow.keras import optimizers\n",
        "from keras.models import Sequential\n"
      ]
    },
    {
      "cell_type": "markdown",
      "id": "fe6b960e",
      "metadata": {
        "id": "fe6b960e"
      },
      "source": [
        "### <a name=\"importing_dataset\">Importing the Dataset</a>\n"
      ]
    },
    {
      "cell_type": "code",
      "execution_count": null,
      "id": "sVoI7_X6UujG",
      "metadata": {
        "id": "sVoI7_X6UujG"
      },
      "outputs": [],
      "source": [
        "path_to_check = os.path.join('', 'image_recognition_dataset.pth')\n",
        "data_path = path_to_check\n",
        "\n",
        "\n",
        "def load_coursework_data():\n",
        "    if not os.path.exists(path_to_check):\n",
        "        print(\"Cannot find the dataset on local !\")\n",
        "        print(\"Downloading the dataset from cloud, it may take several mintues.\")\n",
        "        url = 'https://www.dropbox.com/s/j05hyf667ikzu4s/image_recognition_dataset.pth?dl=1'\n",
        "        filename = wget.download(url)\n",
        "        data_path = os.path.join('', filename)\n",
        "    else:\n",
        "        print(\"Data found on local {:s}\".format(path_to_check))\n",
        "        data_path = path_to_check\n",
        "\n",
        "    data = pickle.load(open(data_path, 'rb'))\n",
        "    train_imgs, train_labels, test_imgs, test_labels = data.values()\n",
        "    return train_imgs, train_labels, test_imgs, test_labels\n"
      ]
    },
    {
      "cell_type": "markdown",
      "id": "4334cbac",
      "metadata": {
        "id": "4334cbac"
      },
      "source": [
        "### <a name=\"dataset_split\">Splitting the Dataset into the Train & Test set</a>\n"
      ]
    },
    {
      "cell_type": "code",
      "execution_count": null,
      "id": "xOE0QVfQUujI",
      "metadata": {
        "colab": {
          "base_uri": "https://localhost:8080/"
        },
        "id": "xOE0QVfQUujI",
        "outputId": "dc335af8-02f1-4eb0-a869-e0ad09daf12a"
      },
      "outputs": [
        {
          "name": "stdout",
          "output_type": "stream",
          "text": [
            "Cannot find the dataset on local !\n",
            "Downloading the dataset from cloud, it may take several mintues.\n"
          ]
        }
      ],
      "source": [
        "train_imgs, train_labels, test_imgs, test_labels = load_coursework_data()\n"
      ]
    },
    {
      "cell_type": "markdown",
      "id": "329c6710",
      "metadata": {
        "id": "329c6710"
      },
      "source": [
        "### <a name=\"display_dataset\">Displaying Dataset Information</a>\n"
      ]
    },
    {
      "cell_type": "code",
      "execution_count": null,
      "id": "16Vd_aSQUujK",
      "metadata": {
        "colab": {
          "base_uri": "https://localhost:8080/"
        },
        "id": "16Vd_aSQUujK",
        "outputId": "9d8919c0-d19c-4531-904c-3ea7b4bfaa12"
      },
      "outputs": [
        {
          "name": "stdout",
          "output_type": "stream",
          "text": [
            "Total number of image classes : 8\n",
            "Shape of training set (40000, 32, 32, 3)\n",
            "Training image count:  40000\n",
            "Test image count:  8000\n"
          ]
        }
      ],
      "source": [
        "cls_train = len(np.unique(train_labels))\n",
        "print(\"Total number of image classes : {:d}\".format(cls_train))\n",
        "print(\"Shape of training set\", train_imgs.shape)\n",
        "print(\"Training image count: \", train_imgs.shape[0])\n",
        "print(\"Test image count: \", test_imgs.shape[0])\n"
      ]
    },
    {
      "cell_type": "markdown",
      "id": "a383e471",
      "metadata": {
        "id": "a383e471"
      },
      "source": [
        "### <a name=\"visualize_images\">Visualising Five Images from the Dataset</a>\n"
      ]
    },
    {
      "cell_type": "code",
      "execution_count": null,
      "id": "HDk6E9rvUujL",
      "metadata": {
        "colab": {
          "base_uri": "https://localhost:8080/",
          "height": 138
        },
        "id": "HDk6E9rvUujL",
        "outputId": "00bd2b11-52e5-4b7d-f196-5035aa8067ad"
      },
      "outputs": [
        {
          "name": "stderr",
          "output_type": "stream",
          "text": [
            "/usr/local/lib/python3.7/dist-packages/matplotlib/text.py:1165: FutureWarning: elementwise comparison failed; returning scalar instead, but in the future will perform elementwise comparison\n",
            "  if s != self._text:\n"
          ]
        },
        {
          "data": {
            "image/png": "[encoded data removed]",
            "text/plain": [
              "<Figure size 432x288 with 8 Axes>"
            ]
          },
          "metadata": {
            "needs_background": "light"
          },
          "output_type": "display_data"
        }
      ],
      "source": [
        "def plot_trained_images() -> None:\n",
        "    for i in range(8):\n",
        "        plt.subplot(1, 8, i+1)\n",
        "        imgData = np.array(train_imgs[i])\n",
        "        plt.title(train_labels[i])\n",
        "        plt.imshow(imgData)\n",
        "        plt.axis('off')\n",
        "\n",
        "\n",
        "plot_trained_images()\n"
      ]
    },
    {
      "cell_type": "code",
      "execution_count": null,
      "id": "5e0bfed7",
      "metadata": {
        "colab": {
          "base_uri": "https://localhost:8080/",
          "height": 138
        },
        "id": "5e0bfed7",
        "outputId": "932de0f3-868f-4ba5-dfe7-83119ffa0ff4"
      },
      "outputs": [
        {
          "name": "stderr",
          "output_type": "stream",
          "text": [
            "/usr/local/lib/python3.7/dist-packages/matplotlib/text.py:1165: FutureWarning: elementwise comparison failed; returning scalar instead, but in the future will perform elementwise comparison\n",
            "  if s != self._text:\n"
          ]
        },
        {
          "data": {
            "image/png": "[encoded data removed]",
            "text/plain": [
              "<Figure size 432x288 with 8 Axes>"
            ]
          },
          "metadata": {
            "needs_background": "light"
          },
          "output_type": "display_data"
        }
      ],
      "source": [
        "def plot_test_images() -> None:\n",
        "    for i in range(8):\n",
        "        plt.subplot(1, 8, i+1)\n",
        "        imgData = np.array(test_imgs[i])\n",
        "        plt.title(test_labels[i])\n",
        "        plt.imshow(imgData)\n",
        "        plt.axis('off')\n",
        "\n",
        "\n",
        "plot_test_images()\n"
      ]
    },
    {
      "cell_type": "markdown",
      "id": "e992911c",
      "metadata": {
        "id": "e992911c"
      },
      "source": [
        "## <a name=\"data_preprocessing\">Data Preprocessing</a>\n"
      ]
    },
    {
      "cell_type": "markdown",
      "id": "f7d56252",
      "metadata": {
        "id": "f7d56252"
      },
      "source": [
        "### <a name=\"grayscale\">Grayscale Conversion</a>\n"
      ]
    },
    {
      "cell_type": "code",
      "execution_count": null,
      "id": "e6a22e92",
      "metadata": {
        "colab": {
          "base_uri": "https://localhost:8080/",
          "height": 283
        },
        "id": "e6a22e92",
        "outputId": "598b6b4a-eb1e-414d-95e9-69329e47f58d"
      },
      "outputs": [
        {
          "data": {
            "text/plain": [
              "<matplotlib.image.AxesImage at 0x7f747c426990>"
            ]
          },
          "execution_count": 8,
          "metadata": {},
          "output_type": "execute_result"
        },
        {
          "data": {
            "image/png": "[encoded data removed]",
            "text/plain": [
              "<Figure size 432x288 with 1 Axes>"
            ]
          },
          "metadata": {
            "needs_background": "light"
          },
          "output_type": "display_data"
        }
      ],
      "source": [
        "# Conversion of colour image to grayscale. Code was tried and tested but not used for models due to poor performance.\n",
        "grayscale_train_img = [cv2.cvtColor(\n",
        "    one_img, cv2.COLOR_BGR2GRAY) for one_img in train_imgs]\n",
        "grayscale_test_img = [cv2.cvtColor(\n",
        "    one_img, cv2.COLOR_BGR2GRAY) for one_img in test_imgs]\n",
        "plt.imshow(grayscale_train_img[0], cmap='gray')\n"
      ]
    },
    {
      "cell_type": "markdown",
      "id": "8810e2d9",
      "metadata": {
        "id": "8810e2d9"
      },
      "source": [
        "### <a name=\"normalization\">Normalization</a>\n"
      ]
    },
    {
      "cell_type": "code",
      "execution_count": null,
      "id": "cd6ddd71",
      "metadata": {
        "colab": {
          "base_uri": "https://localhost:8080/",
          "height": 283
        },
        "id": "cd6ddd71",
        "outputId": "8d4e22b6-c05f-4155-b659-ca7440756ce1"
      },
      "outputs": [
        {
          "data": {
            "text/plain": [
              "<matplotlib.image.AxesImage at 0x7f747bff4390>"
            ]
          },
          "execution_count": 9,
          "metadata": {},
          "output_type": "execute_result"
        },
        {
          "data": {
            "image/png": "[encoded data removed]",
            "text/plain": [
              "<Figure size 432x288 with 1 Axes>"
            ]
          },
          "metadata": {
            "needs_background": "light"
          },
          "output_type": "display_data"
        }
      ],
      "source": [
        "# Normalizing all images in the dataset in the range of 0 and 1.\n",
        "normalized_train_img = [one_img/255.0 for one_img in train_imgs]\n",
        "normalized_test_img = [one_img/255.0 for one_img in test_imgs]\n",
        "plt.imshow(normalized_train_img[0])\n"
      ]
    },
    {
      "cell_type": "markdown",
      "id": "f0e1d41c",
      "metadata": {
        "id": "f0e1d41c"
      },
      "source": [
        "### <a name=\"blur\">Gaussian Blur</a>\n"
      ]
    },
    {
      "cell_type": "code",
      "execution_count": null,
      "id": "f33f73ba",
      "metadata": {
        "colab": {
          "base_uri": "https://localhost:8080/",
          "height": 283
        },
        "id": "f33f73ba",
        "outputId": "f4729122-0792-4850-c255-0bdd817c24ec"
      },
      "outputs": [
        {
          "data": {
            "text/plain": [
              "<matplotlib.image.AxesImage at 0x7f747bba5d90>"
            ]
          },
          "execution_count": 10,
          "metadata": {},
          "output_type": "execute_result"
        },
        {
          "data": {
            "image/png": "[encoded data removed]",
            "text/plain": [
              "<Figure size 432x288 with 1 Axes>"
            ]
          },
          "metadata": {
            "needs_background": "light"
          },
          "output_type": "display_data"
        }
      ],
      "source": [
        "# Blurring images of sigma 1. Code was tried and tested but not used for models due to poor performance.\n",
        "blurred_train_img = [ndimage.gaussian_filter(\n",
        "    train_blur_imgs, sigma=1) for train_blur_imgs in normalized_train_img]\n",
        "blurred_test_img = [ndimage.gaussian_filter(\n",
        "    test_blur_imgs, sigma=1) for test_blur_imgs in normalized_test_img]\n",
        "plt.imshow(blurred_train_img[0])\n"
      ]
    },
    {
      "cell_type": "markdown",
      "id": "272cd6ff",
      "metadata": {
        "id": "272cd6ff"
      },
      "source": [
        "### <a name=\"rotation\">Image Rotation</a>\n"
      ]
    },
    {
      "cell_type": "code",
      "execution_count": null,
      "id": "ae327bb7",
      "metadata": {
        "colab": {
          "base_uri": "https://localhost:8080/",
          "height": 301
        },
        "id": "ae327bb7",
        "outputId": "3d4d0ad9-a33c-4186-fbb2-384bff0f8b58"
      },
      "outputs": [
        {
          "name": "stderr",
          "output_type": "stream",
          "text": [
            "Clipping input data to the valid range for imshow with RGB data ([0..1] for floats or [0..255] for integers).\n"
          ]
        },
        {
          "data": {
            "text/plain": [
              "<matplotlib.image.AxesImage at 0x7f747bb91590>"
            ]
          },
          "execution_count": 11,
          "metadata": {},
          "output_type": "execute_result"
        },
        {
          "data": {
            "image/png": "[encoded data removed]",
            "text/plain": [
              "<Figure size 432x288 with 1 Axes>"
            ]
          },
          "metadata": {
            "needs_background": "light"
          },
          "output_type": "display_data"
        }
      ],
      "source": [
        "# Rotation of images to 180 degrees through the use of a list comprehension.\n",
        "rotated_train_img = np.array([ndimage.rotate(\n",
        "    train_rotate_imgs, angle=180) for train_rotate_imgs in normalized_train_img])\n",
        "rotated_test_img = np.array([ndimage.rotate(\n",
        "    test_rotate_imgs, angle=180) for test_rotate_imgs in normalized_test_img])\n",
        "plt.imshow(rotated_train_img[0])\n"
      ]
    },
    {
      "cell_type": "markdown",
      "id": "cQmiaD1FaE9o",
      "metadata": {
        "id": "cQmiaD1FaE9o"
      },
      "source": [
        "### <a name=\"encoding\">One-Hot Encoding</a>\n"
      ]
    },
    {
      "cell_type": "code",
      "execution_count": null,
      "id": "a84df959",
      "metadata": {
        "colab": {
          "base_uri": "https://localhost:8080/"
        },
        "id": "a84df959",
        "outputId": "4b34ab4b-0afe-4f2c-8274-6e1c1b4ebdbc"
      },
      "outputs": [
        {
          "name": "stdout",
          "output_type": "stream",
          "text": [
            "Shape of training split before one-hot encoded:  (40000, 1)\n",
            "Shape of training split after one-hot encoded:  (40000, 8)\n"
          ]
        }
      ],
      "source": [
        "# Reshaping of rotated_train_img and rotated_test_img which are numpy arrays.\n",
        "rotated_train_img = rotated_train_img.reshape(\n",
        "    rotated_train_img.shape[0], 32, 32, 3)\n",
        "rotated_test_img = rotated_test_img.reshape(\n",
        "    rotated_test_img.shape[0], 32, 32, 3)\n",
        "\n",
        "# rotated_train_img = rotated_train_img.astype('float32')\n",
        "# rotated_test_img = rotated_test_img.astype('float32')\n",
        "\n",
        "# one-hot encoding - Used to help in preprocessing categorical features of the images.\n",
        "no_of_classes = 8\n",
        "print(\"Shape of training split before one-hot encoded: \", train_labels.shape)\n",
        "Y_train = np_utils.to_categorical(train_labels, no_of_classes)\n",
        "Y_test = np_utils.to_categorical(test_labels, no_of_classes)\n",
        "print(\"Shape of training split after one-hot encoded: \", Y_train.shape)\n"
      ]
    },
    {
      "cell_type": "markdown",
      "id": "d877da98",
      "metadata": {
        "id": "d877da98"
      },
      "source": [
        "## <a name=\"model_learning\">Model Learning</a>\n"
      ]
    },
    {
      "cell_type": "markdown",
      "id": "b8abfeba",
      "metadata": {
        "id": "b8abfeba"
      },
      "source": [
        "### <a name=\"cnn_models\">Convolutional Neural Network (CNN) Models</a>\n"
      ]
    },
    {
      "cell_type": "markdown",
      "id": "7b7be011",
      "metadata": {
        "id": "7b7be011"
      },
      "source": [
        "#### <a name=\"base_cnn_model\">Base CNN Model</a>\n"
      ]
    },
    {
      "cell_type": "code",
      "execution_count": null,
      "id": "9b8a60d0",
      "metadata": {
        "id": "9b8a60d0"
      },
      "outputs": [],
      "source": [
        "# Reference: https://www.analyticsvidhya.com/blog/2020/02/learn-image-classification-cnn-convolutional-neural-networks-3-datasets/\n",
        "\n",
        "# To prevent any memory build up from old models or layers.\n",
        "keras.backend.clear_session()\n",
        "np.random.seed(15)\n",
        "tf.random.set_seed(15)\n",
        "\n",
        "# Creating an early stopping function to monitor loss while keeping the best results.\n",
        "early_callback = tf.keras.callbacks.EarlyStopping(\n",
        "    monitor='loss', restore_best_weights=True, patience=0)\n",
        "\n",
        "# Initializing Sequential model, creating linear stack of model layers.\n",
        "model = Sequential()\n",
        "\n",
        "# Adding 3 convolutional layers with max pooling and dropout functions.\n",
        "model.add(Conv2D(32, kernel_size=(3, 3), strides=(1, 1),\n",
        "                 padding='same', input_shape=(32, 32, 3), activation='relu'))\n",
        "\n",
        "model.add(Conv2D(64, kernel_size=(3, 3), strides=(\n",
        "    1, 1), padding='same', activation='relu'))\n",
        "model.add(MaxPool2D(pool_size=(2, 2)))\n",
        "model.add(Dropout(0.25))\n",
        "\n",
        "model.add(Conv2D(128, kernel_size=(3, 3), strides=(\n",
        "    1, 1), padding='same', activation='relu'))\n",
        "model.add(MaxPool2D(pool_size=(2, 2)))\n",
        "model.add(Dropout(0.25))\n",
        "\n",
        "# Flattening convolutional layer output.\n",
        "model.add(Flatten())\n",
        "\n",
        "# Adding 2 hidden layers.\n",
        "model.add(Dense(500, activation='relu'))\n",
        "model.add(Dropout(0.75))\n",
        "model.add(Dense(250, activation='relu'))\n",
        "model.add(Dropout(0.55))\n",
        "\n",
        "# Final output layer.\n",
        "model.add(Dense(8, activation='softmax'))\n",
        "\n",
        "# Compilation of sequential model with suitable parameters.\n",
        "model.compile(loss='categorical_crossentropy',\n",
        "              metrics=['accuracy', 'AUC'], optimizer='adam')\n",
        "\n",
        "# Training model for 20 epochs\n",
        "final_model = model.fit(np.array(rotated_train_img), np.array(Y_train), batch_size=128, epochs=20, callbacks=[\n",
        "                        early_callback], validation_data=(np.array(rotated_test_img), np.array(Y_test)))\n"
      ]
    },
    {
      "cell_type": "markdown",
      "id": "1eac484c",
      "metadata": {
        "id": "1eac484c"
      },
      "source": [
        "#### <a name=\"vgg16_cnn_model\">VGG16 CNN Model</a>\n"
      ]
    },
    {
      "cell_type": "code",
      "execution_count": null,
      "id": "b2fbb6bf",
      "metadata": {
        "id": "b2fbb6bf"
      },
      "outputs": [],
      "source": [
        "# Reference: https://towardsdatascience.com/step-by-step-vgg16-implementation-in-keras-for-beginners-a833c686ae6c\n",
        "\n",
        "# Creating an early stopping function to monitor validation accuracy while keeping the best results.\n",
        "early_callback = tf.keras.callbacks.EarlyStopping(\n",
        "    monitor='val_accuracy', min_delta=0, patience=20, verbose=1, mode='auto')\n",
        "\n",
        "# Initializing Sequential model, creating linear stack of model layers.\n",
        "model1 = Sequential()\n",
        "\n",
        "# Adding 10 convolutional layers with max pooling and dropout functions.\n",
        "model1.add(Conv2D(32, input_shape=(32, 32, 3), kernel_size=(\n",
        "    3, 3), strides=(1, 1), padding=\"same\", activation=\"relu\"))\n",
        "\n",
        "model1.add(Conv2D(64, kernel_size=(3, 3), strides=(\n",
        "    1, 1), padding=\"same\", activation=\"relu\"))\n",
        "model1.add(MaxPool2D(pool_size=(2, 2)))\n",
        "model1.add(Dropout(0.25))\n",
        "\n",
        "model1.add(Conv2D(128, kernel_size=(3, 3), strides=(\n",
        "    1, 1), padding=\"same\", activation=\"relu\"))\n",
        "model1.add(MaxPool2D(pool_size=(2, 2)))\n",
        "model1.add(Dropout(0.25))\n",
        "\n",
        "model1.add(Conv2D(256, kernel_size=(3, 3), strides=(\n",
        "    1, 1), padding=\"same\", activation=\"relu\"))\n",
        "model1.add(Conv2D(256, kernel_size=(3, 3), strides=(\n",
        "    1, 1), padding=\"same\", activation=\"relu\"))\n",
        "model1.add(Conv2D(256, kernel_size=(3, 3), strides=(\n",
        "    1, 1), padding=\"same\", activation=\"relu\"))\n",
        "model1.add(MaxPool2D(pool_size=(2, 2)))\n",
        "model1.add(Dropout(0.25))\n",
        "\n",
        "model1.add(Conv2D(512, kernel_size=(3, 3), strides=(\n",
        "    1, 1), padding=\"same\", activation=\"relu\"))\n",
        "model1.add(Conv2D(512, kernel_size=(3, 3), strides=(\n",
        "    1, 1), padding=\"same\", activation=\"relu\"))\n",
        "model1.add(MaxPool2D(pool_size=(2, 2)))\n",
        "model1.add(Dropout(0.25))\n",
        "\n",
        "model1.add(Conv2D(512, kernel_size=(3, 3), strides=(\n",
        "    1, 1), padding=\"same\", activation=\"relu\"))\n",
        "model1.add(Conv2D(512, kernel_size=(3, 3), strides=(\n",
        "    1, 1), padding=\"same\", activation=\"relu\"))\n",
        "model1.add(MaxPool2D(pool_size=(2, 2)))\n",
        "model1.add(Dropout(0.25))\n",
        "\n",
        "# Flattening convolutional layer output.\n",
        "model1.add(Flatten())\n",
        "\n",
        "# Adding 2 hidden layers.\n",
        "model1.add(Dense(4096, activation=\"relu\"))\n",
        "model1.add(Dropout(0.5))\n",
        "model1.add(Dense(4096, activation=\"relu\"))\n",
        "model1.add(Dropout(0.5))\n",
        "\n",
        "# Final output layer.\n",
        "model1.add(Dense(8, activation=\"softmax\"))\n",
        "\n",
        "# Compilation of sequential model with suitable parameters.\n",
        "model1.compile(optimizer='adam', loss='categorical_crossentropy',\n",
        "               metrics=['accuracy', 'AUC'])\n",
        "\n",
        "# Training model for 10 epochs.\n",
        "vgg_model = model1.fit(rotated_train_img, Y_train, batch_size=128, epochs=10,\n",
        "                       validation_data=(rotated_test_img, Y_test), callbacks=[early_callback])\n"
      ]
    },
    {
      "cell_type": "markdown",
      "id": "926d0beb",
      "metadata": {
        "id": "926d0beb"
      },
      "source": [
        "#### <a name=\"resnet50_cnn_model\">ResNet-50 CNN Model</a>\n"
      ]
    },
    {
      "cell_type": "code",
      "execution_count": null,
      "id": "14b7f218",
      "metadata": {
        "id": "14b7f218",
        "outputId": "d5b29c3c-0ecd-4ea0-f7d2-a8b26202e898"
      },
      "outputs": [
        {
          "name": "stdout",
          "output_type": "stream",
          "text": [
            "Model: \"model\"\n",
            "_________________________________________________________________\n",
            "Layer (type)                 Output Shape              Param #   \n",
            "=================================================================\n",
            "input_1 (InputLayer)         [(None, 32, 32, 3)]       0         \n",
            "_________________________________________________________________\n",
            "up_sampling2d (UpSampling2D) (None, 32, 32, 3)         0         \n",
            "_________________________________________________________________\n",
            "resnet50 (Functional)        (None, 1, 1, 2048)        23587712  \n",
            "_________________________________________________________________\n",
            "global_average_pooling2d (Gl (None, 2048)              0         \n",
            "_________________________________________________________________\n",
            "flatten_2 (Flatten)          (None, 2048)              0         \n",
            "_________________________________________________________________\n",
            "dense_6 (Dense)              (None, 1024)              2098176   \n",
            "_________________________________________________________________\n",
            "dense_7 (Dense)              (None, 512)               524800    \n",
            "_________________________________________________________________\n",
            "classification (Dense)       (None, 8)                 4104      \n",
            "=================================================================\n",
            "Total params: 26,214,792\n",
            "Trainable params: 26,161,672\n",
            "Non-trainable params: 53,120\n",
            "_________________________________________________________________\n"
          ]
        }
      ],
      "source": [
        "# Reference: https://github.com/y33-j3T/Coursera-Deep-Learning/blob/master/Advanced%20Computer%20Vision%20with%20TensorFlow/Week%201%20-%20Introduction%20to%20Computer%20Vision/Copy%20of%20C3_W1_Lab_2_Transfer_Learning_CIFAR_10.ipynb\n",
        "\n",
        "\"\"\"\n",
        "Pretrained model on imagenet weights with respective input shape.\n",
        "\"\"\"\n",
        "\n",
        "\n",
        "def feature_extractor(inputs):\n",
        "\n",
        "    feature_extractor = tf.keras.applications.resnet.ResNet50(input_shape=(32, 32, 3),\n",
        "                                                              include_top=False,\n",
        "                                                              weights='imagenet')(inputs)\n",
        "    return feature_extractor\n",
        "\n",
        "\n",
        "\"\"\"\n",
        "Initialize hidden layer and output layer with softmax activation function.\n",
        "\"\"\"\n",
        "\n",
        "\n",
        "def classifier(inputs):\n",
        "    x = tf.keras.layers.GlobalAveragePooling2D()(inputs)\n",
        "    x = tf.keras.layers.Flatten()(x)\n",
        "    x = tf.keras.layers.Dense(1024, activation=\"relu\")(x)\n",
        "    x = tf.keras.layers.Dense(512, activation=\"relu\")(x)\n",
        "    x = tf.keras.layers.Dense(8, activation=\"softmax\",\n",
        "                              name=\"classification\")(x)\n",
        "    return x\n",
        "\n",
        "\n",
        "\"\"\"\n",
        "Upsampling in order to transform the images with the input size as (224, 224).\n",
        "\"\"\"\n",
        "\n",
        "\n",
        "def final_model(inputs):\n",
        "\n",
        "    resize = tf.keras.layers.UpSampling2D(size=(1, 1))(inputs)\n",
        "\n",
        "    resnet_feature_extractor = feature_extractor(resize)\n",
        "    classification_output = classifier(resnet_feature_extractor)\n",
        "\n",
        "    return classification_output\n",
        "\n",
        "\n",
        "\"\"\"\n",
        "Define the ML model and start compilation.\n",
        "Stochastic Gradient Descent is the optimizer\n",
        "Categorical crossentropy for the loss function.\n",
        "\"\"\"\n",
        "\n",
        "\n",
        "def define_compile_model():\n",
        "    inputs = tf.keras.layers.Input(shape=(32, 32, 3))\n",
        "\n",
        "    classification_output = final_model(inputs)\n",
        "    model = tf.keras.Model(inputs=inputs, outputs=classification_output)\n",
        "\n",
        "    model.compile(optimizer='SGD',\n",
        "                  loss='categorical_crossentropy',\n",
        "                  metrics=['accuracy'])\n",
        "\n",
        "    return model\n",
        "\n",
        "\n",
        "model = define_compile_model()\n",
        "\n",
        "# Provide model summary.\n",
        "model.summary()\n"
      ]
    },
    {
      "cell_type": "code",
      "execution_count": null,
      "id": "a43fd993",
      "metadata": {
        "id": "a43fd993",
        "outputId": "18ec42dc-408f-436b-b842-d17f06b0e39d"
      },
      "outputs": [
        {
          "name": "stdout",
          "output_type": "stream",
          "text": [
            "Epoch 1/10\n",
            "1250/1250 [==============================] - 26s 19ms/step - loss: 1.4135 - accuracy: 0.4962 - val_loss: 0.8872 - val_accuracy: 0.6991\n",
            "Epoch 2/10\n",
            "1250/1250 [==============================] - 23s 19ms/step - loss: 0.7568 - accuracy: 0.7345 - val_loss: 0.6585 - val_accuracy: 0.7781\n",
            "Epoch 3/10\n",
            "1250/1250 [==============================] - 24s 19ms/step - loss: 0.5570 - accuracy: 0.8041 - val_loss: 0.7812 - val_accuracy: 0.7352\n",
            "Epoch 4/10\n",
            "1250/1250 [==============================] - 24s 19ms/step - loss: 0.4363 - accuracy: 0.8474 - val_loss: 0.6225 - val_accuracy: 0.7935\n",
            "Epoch 5/10\n",
            "1250/1250 [==============================] - 24s 19ms/step - loss: 0.3456 - accuracy: 0.8779 - val_loss: 0.7298 - val_accuracy: 0.7657\n",
            "Epoch 6/10\n",
            "1250/1250 [==============================] - 24s 19ms/step - loss: 0.2607 - accuracy: 0.9087 - val_loss: 0.7110 - val_accuracy: 0.7779\n",
            "Epoch 7/10\n",
            "1250/1250 [==============================] - 24s 19ms/step - loss: 0.2121 - accuracy: 0.9255 - val_loss: 0.7273 - val_accuracy: 0.7872\n",
            "Epoch 8/10\n",
            "1250/1250 [==============================] - 24s 19ms/step - loss: 0.1762 - accuracy: 0.9390 - val_loss: 0.7483 - val_accuracy: 0.7899\n",
            "Epoch 9/10\n",
            "1250/1250 [==============================] - 24s 19ms/step - loss: 0.1444 - accuracy: 0.9503 - val_loss: 0.7523 - val_accuracy: 0.8005\n",
            "Epoch 10/10\n",
            " 583/1250 [============>.................] - ETA: 11s - loss: 0.1137 - accuracy: 0.9634"
          ]
        },
        {
          "ename": "KeyboardInterrupt",
          "evalue": "",
          "output_type": "error",
          "traceback": [
            "\u001b[0;31m---------------------------------------------------------------------------\u001b[0m",
            "\u001b[0;31mKeyboardInterrupt\u001b[0m                         Traceback (most recent call last)",
            "\u001b[0;32m/tmp/ipykernel_7522/3920765779.py\u001b[0m in \u001b[0;36m<module>\u001b[0;34m\u001b[0m\n\u001b[0;32m----> 1\u001b[0;31m \u001b[0mmodel\u001b[0m\u001b[0;34m.\u001b[0m\u001b[0mfit\u001b[0m\u001b[0;34m(\u001b[0m\u001b[0mrotated_train_img\u001b[0m\u001b[0;34m,\u001b[0m \u001b[0mY_train\u001b[0m\u001b[0;34m,\u001b[0m \u001b[0mepochs\u001b[0m\u001b[0;34m=\u001b[0m\u001b[0;36m10\u001b[0m\u001b[0;34m,\u001b[0m \u001b[0mvalidation_data\u001b[0m\u001b[0;34m=\u001b[0m\u001b[0;34m(\u001b[0m\u001b[0mrotated_test_img\u001b[0m\u001b[0;34m,\u001b[0m \u001b[0mY_test\u001b[0m\u001b[0;34m)\u001b[0m\u001b[0;34m)\u001b[0m\u001b[0;34m\u001b[0m\u001b[0;34m\u001b[0m\u001b[0m\n\u001b[0m",
            "\u001b[0;32m~/.conda/envs/cop508/lib/python3.9/site-packages/tensorflow/python/keras/engine/training.py\u001b[0m in \u001b[0;36mfit\u001b[0;34m(self, x, y, batch_size, epochs, verbose, callbacks, validation_split, validation_data, shuffle, class_weight, sample_weight, initial_epoch, steps_per_epoch, validation_steps, validation_batch_size, validation_freq, max_queue_size, workers, use_multiprocessing)\u001b[0m\n\u001b[1;32m   1098\u001b[0m                 _r=1):\n\u001b[1;32m   1099\u001b[0m               \u001b[0mcallbacks\u001b[0m\u001b[0;34m.\u001b[0m\u001b[0mon_train_batch_begin\u001b[0m\u001b[0;34m(\u001b[0m\u001b[0mstep\u001b[0m\u001b[0;34m)\u001b[0m\u001b[0;34m\u001b[0m\u001b[0;34m\u001b[0m\u001b[0m\n\u001b[0;32m-> 1100\u001b[0;31m               \u001b[0mtmp_logs\u001b[0m \u001b[0;34m=\u001b[0m \u001b[0mself\u001b[0m\u001b[0;34m.\u001b[0m\u001b[0mtrain_function\u001b[0m\u001b[0;34m(\u001b[0m\u001b[0miterator\u001b[0m\u001b[0;34m)\u001b[0m\u001b[0;34m\u001b[0m\u001b[0;34m\u001b[0m\u001b[0m\n\u001b[0m\u001b[1;32m   1101\u001b[0m               \u001b[0;32mif\u001b[0m \u001b[0mdata_handler\u001b[0m\u001b[0;34m.\u001b[0m\u001b[0mshould_sync\u001b[0m\u001b[0;34m:\u001b[0m\u001b[0;34m\u001b[0m\u001b[0;34m\u001b[0m\u001b[0m\n\u001b[1;32m   1102\u001b[0m                 \u001b[0mcontext\u001b[0m\u001b[0;34m.\u001b[0m\u001b[0masync_wait\u001b[0m\u001b[0;34m(\u001b[0m\u001b[0;34m)\u001b[0m\u001b[0;34m\u001b[0m\u001b[0;34m\u001b[0m\u001b[0m\n",
            "\u001b[0;32m~/.conda/envs/cop508/lib/python3.9/site-packages/tensorflow/python/eager/def_function.py\u001b[0m in \u001b[0;36m__call__\u001b[0;34m(self, *args, **kwds)\u001b[0m\n\u001b[1;32m    826\u001b[0m     \u001b[0mtracing_count\u001b[0m \u001b[0;34m=\u001b[0m \u001b[0mself\u001b[0m\u001b[0;34m.\u001b[0m\u001b[0mexperimental_get_tracing_count\u001b[0m\u001b[0;34m(\u001b[0m\u001b[0;34m)\u001b[0m\u001b[0;34m\u001b[0m\u001b[0;34m\u001b[0m\u001b[0m\n\u001b[1;32m    827\u001b[0m     \u001b[0;32mwith\u001b[0m \u001b[0mtrace\u001b[0m\u001b[0;34m.\u001b[0m\u001b[0mTrace\u001b[0m\u001b[0;34m(\u001b[0m\u001b[0mself\u001b[0m\u001b[0;34m.\u001b[0m\u001b[0m_name\u001b[0m\u001b[0;34m)\u001b[0m \u001b[0;32mas\u001b[0m \u001b[0mtm\u001b[0m\u001b[0;34m:\u001b[0m\u001b[0;34m\u001b[0m\u001b[0;34m\u001b[0m\u001b[0m\n\u001b[0;32m--> 828\u001b[0;31m       \u001b[0mresult\u001b[0m \u001b[0;34m=\u001b[0m \u001b[0mself\u001b[0m\u001b[0;34m.\u001b[0m\u001b[0m_call\u001b[0m\u001b[0;34m(\u001b[0m\u001b[0;34m*\u001b[0m\u001b[0margs\u001b[0m\u001b[0;34m,\u001b[0m \u001b[0;34m**\u001b[0m\u001b[0mkwds\u001b[0m\u001b[0;34m)\u001b[0m\u001b[0;34m\u001b[0m\u001b[0;34m\u001b[0m\u001b[0m\n\u001b[0m\u001b[1;32m    829\u001b[0m       \u001b[0mcompiler\u001b[0m \u001b[0;34m=\u001b[0m \u001b[0;34m\"xla\"\u001b[0m \u001b[0;32mif\u001b[0m \u001b[0mself\u001b[0m\u001b[0;34m.\u001b[0m\u001b[0m_experimental_compile\u001b[0m \u001b[0;32melse\u001b[0m \u001b[0;34m\"nonXla\"\u001b[0m\u001b[0;34m\u001b[0m\u001b[0;34m\u001b[0m\u001b[0m\n\u001b[1;32m    830\u001b[0m       \u001b[0mnew_tracing_count\u001b[0m \u001b[0;34m=\u001b[0m \u001b[0mself\u001b[0m\u001b[0;34m.\u001b[0m\u001b[0mexperimental_get_tracing_count\u001b[0m\u001b[0;34m(\u001b[0m\u001b[0;34m)\u001b[0m\u001b[0;34m\u001b[0m\u001b[0;34m\u001b[0m\u001b[0m\n",
            "\u001b[0;32m~/.conda/envs/cop508/lib/python3.9/site-packages/tensorflow/python/eager/def_function.py\u001b[0m in \u001b[0;36m_call\u001b[0;34m(self, *args, **kwds)\u001b[0m\n\u001b[1;32m    853\u001b[0m       \u001b[0;31m# In this case we have created variables on the first call, so we run the\u001b[0m\u001b[0;34m\u001b[0m\u001b[0;34m\u001b[0m\u001b[0m\n\u001b[1;32m    854\u001b[0m       \u001b[0;31m# defunned version which is guaranteed to never create variables.\u001b[0m\u001b[0;34m\u001b[0m\u001b[0;34m\u001b[0m\u001b[0m\n\u001b[0;32m--> 855\u001b[0;31m       \u001b[0;32mreturn\u001b[0m \u001b[0mself\u001b[0m\u001b[0;34m.\u001b[0m\u001b[0m_stateless_fn\u001b[0m\u001b[0;34m(\u001b[0m\u001b[0;34m*\u001b[0m\u001b[0margs\u001b[0m\u001b[0;34m,\u001b[0m \u001b[0;34m**\u001b[0m\u001b[0mkwds\u001b[0m\u001b[0;34m)\u001b[0m  \u001b[0;31m# pylint: disable=not-callable\u001b[0m\u001b[0;34m\u001b[0m\u001b[0;34m\u001b[0m\u001b[0m\n\u001b[0m\u001b[1;32m    856\u001b[0m     \u001b[0;32melif\u001b[0m \u001b[0mself\u001b[0m\u001b[0;34m.\u001b[0m\u001b[0m_stateful_fn\u001b[0m \u001b[0;32mis\u001b[0m \u001b[0;32mnot\u001b[0m \u001b[0;32mNone\u001b[0m\u001b[0;34m:\u001b[0m\u001b[0;34m\u001b[0m\u001b[0;34m\u001b[0m\u001b[0m\n\u001b[1;32m    857\u001b[0m       \u001b[0;31m# Release the lock early so that multiple threads can perform the call\u001b[0m\u001b[0;34m\u001b[0m\u001b[0;34m\u001b[0m\u001b[0m\n",
            "\u001b[0;32m~/.conda/envs/cop508/lib/python3.9/site-packages/tensorflow/python/eager/function.py\u001b[0m in \u001b[0;36m__call__\u001b[0;34m(self, *args, **kwargs)\u001b[0m\n\u001b[1;32m   2940\u001b[0m       (graph_function,\n\u001b[1;32m   2941\u001b[0m        filtered_flat_args) = self._maybe_define_function(args, kwargs)\n\u001b[0;32m-> 2942\u001b[0;31m     return graph_function._call_flat(\n\u001b[0m\u001b[1;32m   2943\u001b[0m         filtered_flat_args, captured_inputs=graph_function.captured_inputs)  # pylint: disable=protected-access\n\u001b[1;32m   2944\u001b[0m \u001b[0;34m\u001b[0m\u001b[0m\n",
            "\u001b[0;32m~/.conda/envs/cop508/lib/python3.9/site-packages/tensorflow/python/eager/function.py\u001b[0m in \u001b[0;36m_call_flat\u001b[0;34m(self, args, captured_inputs, cancellation_manager)\u001b[0m\n\u001b[1;32m   1916\u001b[0m         and executing_eagerly):\n\u001b[1;32m   1917\u001b[0m       \u001b[0;31m# No tape is watching; skip to running the function.\u001b[0m\u001b[0;34m\u001b[0m\u001b[0;34m\u001b[0m\u001b[0m\n\u001b[0;32m-> 1918\u001b[0;31m       return self._build_call_outputs(self._inference_function.call(\n\u001b[0m\u001b[1;32m   1919\u001b[0m           ctx, args, cancellation_manager=cancellation_manager))\n\u001b[1;32m   1920\u001b[0m     forward_backward = self._select_forward_and_backward_functions(\n",
            "\u001b[0;32m~/.conda/envs/cop508/lib/python3.9/site-packages/tensorflow/python/eager/function.py\u001b[0m in \u001b[0;36mcall\u001b[0;34m(self, ctx, args, cancellation_manager)\u001b[0m\n\u001b[1;32m    553\u001b[0m       \u001b[0;32mwith\u001b[0m \u001b[0m_InterpolateFunctionError\u001b[0m\u001b[0;34m(\u001b[0m\u001b[0mself\u001b[0m\u001b[0;34m)\u001b[0m\u001b[0;34m:\u001b[0m\u001b[0;34m\u001b[0m\u001b[0;34m\u001b[0m\u001b[0m\n\u001b[1;32m    554\u001b[0m         \u001b[0;32mif\u001b[0m \u001b[0mcancellation_manager\u001b[0m \u001b[0;32mis\u001b[0m \u001b[0;32mNone\u001b[0m\u001b[0;34m:\u001b[0m\u001b[0;34m\u001b[0m\u001b[0;34m\u001b[0m\u001b[0m\n\u001b[0;32m--> 555\u001b[0;31m           outputs = execute.execute(\n\u001b[0m\u001b[1;32m    556\u001b[0m               \u001b[0mstr\u001b[0m\u001b[0;34m(\u001b[0m\u001b[0mself\u001b[0m\u001b[0;34m.\u001b[0m\u001b[0msignature\u001b[0m\u001b[0;34m.\u001b[0m\u001b[0mname\u001b[0m\u001b[0;34m)\u001b[0m\u001b[0;34m,\u001b[0m\u001b[0;34m\u001b[0m\u001b[0;34m\u001b[0m\u001b[0m\n\u001b[1;32m    557\u001b[0m               \u001b[0mnum_outputs\u001b[0m\u001b[0;34m=\u001b[0m\u001b[0mself\u001b[0m\u001b[0;34m.\u001b[0m\u001b[0m_num_outputs\u001b[0m\u001b[0;34m,\u001b[0m\u001b[0;34m\u001b[0m\u001b[0;34m\u001b[0m\u001b[0m\n",
            "\u001b[0;32m~/.conda/envs/cop508/lib/python3.9/site-packages/tensorflow/python/eager/execute.py\u001b[0m in \u001b[0;36mquick_execute\u001b[0;34m(op_name, num_outputs, inputs, attrs, ctx, name)\u001b[0m\n\u001b[1;32m     57\u001b[0m   \u001b[0;32mtry\u001b[0m\u001b[0;34m:\u001b[0m\u001b[0;34m\u001b[0m\u001b[0;34m\u001b[0m\u001b[0m\n\u001b[1;32m     58\u001b[0m     \u001b[0mctx\u001b[0m\u001b[0;34m.\u001b[0m\u001b[0mensure_initialized\u001b[0m\u001b[0;34m(\u001b[0m\u001b[0;34m)\u001b[0m\u001b[0;34m\u001b[0m\u001b[0;34m\u001b[0m\u001b[0m\n\u001b[0;32m---> 59\u001b[0;31m     tensors = pywrap_tfe.TFE_Py_Execute(ctx._handle, device_name, op_name,\n\u001b[0m\u001b[1;32m     60\u001b[0m                                         inputs, attrs, num_outputs)\n\u001b[1;32m     61\u001b[0m   \u001b[0;32mexcept\u001b[0m \u001b[0mcore\u001b[0m\u001b[0;34m.\u001b[0m\u001b[0m_NotOkStatusException\u001b[0m \u001b[0;32mas\u001b[0m \u001b[0me\u001b[0m\u001b[0;34m:\u001b[0m\u001b[0;34m\u001b[0m\u001b[0;34m\u001b[0m\u001b[0m\n",
            "\u001b[0;31mKeyboardInterrupt\u001b[0m: "
          ]
        }
      ],
      "source": [
        "# Training model for 10 epochs\n",
        "model.fit(rotated_train_img, Y_train, epochs=10,\n",
        "          validation_data=(rotated_test_img, Y_test))\n"
      ]
    },
    {
      "cell_type": "markdown",
      "id": "944356ab",
      "metadata": {
        "id": "944356ab"
      },
      "source": [
        "#### <a name=\"best_cnn_model\">Best CNN Model</a>\n"
      ]
    },
    {
      "cell_type": "code",
      "execution_count": null,
      "id": "cd6e24b8",
      "metadata": {
        "id": "cd6e24b8",
        "outputId": "e3183da7-c4ac-4ef2-8fea-c9013b8e112e"
      },
      "outputs": [
        {
          "name": "stdout",
          "output_type": "stream",
          "text": [
            "Epoch 1/25\n",
            "313/313 [==============================] - 4s 13ms/step - loss: 1.9911 - accuracy: 0.1835 - val_loss: 1.5644 - val_accuracy: 0.3902\n",
            "Epoch 2/25\n",
            "313/313 [==============================] - 4s 13ms/step - loss: 1.5009 - accuracy: 0.4309 - val_loss: 1.2025 - val_accuracy: 0.5587\n",
            "Epoch 3/25\n",
            "313/313 [==============================] - 4s 13ms/step - loss: 1.2365 - accuracy: 0.5468 - val_loss: 1.0702 - val_accuracy: 0.6166\n",
            "Epoch 4/25\n",
            "313/313 [==============================] - 4s 14ms/step - loss: 1.0817 - accuracy: 0.6071 - val_loss: 0.9983 - val_accuracy: 0.6415\n",
            "Epoch 5/25\n",
            "313/313 [==============================] - 4s 13ms/step - loss: 1.0032 - accuracy: 0.6379 - val_loss: 0.8751 - val_accuracy: 0.6898\n",
            "Epoch 6/25\n",
            "313/313 [==============================] - 4s 14ms/step - loss: 0.9168 - accuracy: 0.6754 - val_loss: 0.8914 - val_accuracy: 0.6877\n",
            "Epoch 7/25\n",
            "313/313 [==============================] - 4s 13ms/step - loss: 0.8817 - accuracy: 0.6905 - val_loss: 0.8361 - val_accuracy: 0.7111\n",
            "Epoch 8/25\n",
            "313/313 [==============================] - 4s 13ms/step - loss: 0.8327 - accuracy: 0.7065 - val_loss: 0.7739 - val_accuracy: 0.7283\n",
            "Epoch 9/25\n",
            "313/313 [==============================] - 4s 13ms/step - loss: 0.7903 - accuracy: 0.7243 - val_loss: 0.7029 - val_accuracy: 0.7570\n",
            "Epoch 10/25\n",
            "313/313 [==============================] - 4s 13ms/step - loss: 0.7433 - accuracy: 0.7414 - val_loss: 0.6789 - val_accuracy: 0.7685\n",
            "Epoch 11/25\n",
            "313/313 [==============================] - 4s 13ms/step - loss: 0.7241 - accuracy: 0.7519 - val_loss: 0.6729 - val_accuracy: 0.7681\n",
            "Epoch 12/25\n",
            "313/313 [==============================] - 4s 14ms/step - loss: 0.7097 - accuracy: 0.7570 - val_loss: 0.6628 - val_accuracy: 0.7711\n",
            "Epoch 13/25\n",
            "313/313 [==============================] - 4s 13ms/step - loss: 0.7060 - accuracy: 0.7546 - val_loss: 0.6643 - val_accuracy: 0.7694\n",
            "Epoch 14/25\n",
            "313/313 [==============================] - 4s 14ms/step - loss: 0.6629 - accuracy: 0.7708 - val_loss: 0.6466 - val_accuracy: 0.7750\n",
            "Epoch 15/25\n",
            "313/313 [==============================] - 4s 14ms/step - loss: 0.6470 - accuracy: 0.7764 - val_loss: 0.6551 - val_accuracy: 0.7732\n",
            "Epoch 16/25\n",
            "313/313 [==============================] - 4s 13ms/step - loss: 0.6425 - accuracy: 0.7801 - val_loss: 0.6449 - val_accuracy: 0.7755\n",
            "Epoch 17/25\n",
            "313/313 [==============================] - 4s 14ms/step - loss: 0.6094 - accuracy: 0.7901 - val_loss: 0.6403 - val_accuracy: 0.7728\n",
            "Epoch 18/25\n",
            "313/313 [==============================] - 4s 14ms/step - loss: 0.6068 - accuracy: 0.7882 - val_loss: 0.6281 - val_accuracy: 0.7887\n",
            "Epoch 19/25\n",
            "313/313 [==============================] - 4s 13ms/step - loss: 0.6010 - accuracy: 0.7955 - val_loss: 0.5936 - val_accuracy: 0.7979\n",
            "Epoch 20/25\n",
            "313/313 [==============================] - 4s 14ms/step - loss: 0.5782 - accuracy: 0.8015 - val_loss: 0.5907 - val_accuracy: 0.7970\n",
            "Epoch 21/25\n",
            "313/313 [==============================] - 4s 13ms/step - loss: 0.5680 - accuracy: 0.8051 - val_loss: 0.6521 - val_accuracy: 0.7726\n",
            "Epoch 22/25\n",
            "313/313 [==============================] - 4s 12ms/step - loss: 0.5629 - accuracy: 0.8067 - val_loss: 0.6442 - val_accuracy: 0.7861\n",
            "Epoch 23/25\n",
            "313/313 [==============================] - 4s 14ms/step - loss: 0.5633 - accuracy: 0.8090 - val_loss: 0.5787 - val_accuracy: 0.7979\n",
            "Epoch 24/25\n",
            "313/313 [==============================] - 4s 14ms/step - loss: 0.5440 - accuracy: 0.8153 - val_loss: 0.6018 - val_accuracy: 0.8023\n",
            "Epoch 25/25\n",
            "313/313 [==============================] - 4s 14ms/step - loss: 0.5475 - accuracy: 0.8144 - val_loss: 0.5775 - val_accuracy: 0.8023\n"
          ]
        }
      ],
      "source": [
        "# To prevent any memory build up from old models or layers.\n",
        "keras.backend.clear_session()\n",
        "np.random.seed(15)\n",
        "tf.random.set_seed(15)\n",
        "\n",
        "# Creating an early stopping function to monitor loss while keeping the best results.\n",
        "early_callback = tf.keras.callbacks.EarlyStopping(\n",
        "    monitor='loss', restore_best_weights=True, patience=10)\n",
        "\n",
        "# Initializing Sequential model, creating linear stack of model layers.\n",
        "model2 = Sequential()\n",
        "\n",
        "# Adding 6 convolutional layers with max pooling and dropout functions.\n",
        "model2.add(Conv2D(32, input_shape=(32, 32, 3), kernel_size=(\n",
        "    3, 3), strides=(1, 1), padding=\"same\", activation=\"relu\"))\n",
        "\n",
        "model2.add(Conv2D(64, kernel_size=(3, 3), strides=(\n",
        "    1, 1), padding=\"same\", activation=\"relu\"))\n",
        "model2.add(MaxPool2D(pool_size=(2, 2)))\n",
        "model2.add(Dropout(0.25))\n",
        "\n",
        "model2.add(Conv2D(128, kernel_size=(3, 3), strides=(\n",
        "    1, 1), padding=\"same\", activation=\"relu\"))\n",
        "model2.add(MaxPool2D(pool_size=(2, 2)))\n",
        "model2.add(Dropout(0.25))\n",
        "\n",
        "model2.add(Conv2D(256, kernel_size=(3, 3), strides=(\n",
        "    1, 1), padding=\"same\", activation=\"relu\"))\n",
        "model2.add(MaxPool2D(pool_size=(2, 2)))\n",
        "model2.add(Dropout(0.25))\n",
        "\n",
        "model2.add(Conv2D(512, kernel_size=(3, 3), strides=(\n",
        "    1, 1), padding=\"same\", activation=\"relu\"))\n",
        "model2.add(MaxPool2D(pool_size=(2, 2)))\n",
        "model2.add(Dropout(0.25))\n",
        "\n",
        "model2.add(Conv2D(512, kernel_size=(3, 3), strides=(\n",
        "    1, 1), padding=\"same\", activation=\"relu\"))\n",
        "model2.add(MaxPool2D(pool_size=(2, 2)))\n",
        "model2.add(Dropout(0.25))\n",
        "\n",
        "# Flattening convolutional layer output.\n",
        "model2.add(Flatten())\n",
        "\n",
        "# Adding 2 hidden layers.\n",
        "model2.add(Dense(500, activation=\"relu\"))\n",
        "model2.add(Dropout(0.75))\n",
        "model2.add(Dense(200, activation=\"relu\"))\n",
        "model2.add(Dropout(0.3))\n",
        "\n",
        "# Final output layer.\n",
        "model2.add(Dense(8, activation=\"softmax\"))\n",
        "\n",
        "# Compilation of sequential model with suitable parameters.\n",
        "model2.compile(optimizer='adam', loss='categorical_crossentropy',\n",
        "               metrics=['accuracy'])\n",
        "\n",
        "# Training model for 25 epochs\n",
        "hist = model2.fit(rotated_train_img, Y_train, batch_size=128, callbacks=[\n",
        "                  early_callback], epochs=25, validation_data=(rotated_test_img, Y_test))\n"
      ]
    },
    {
      "cell_type": "markdown",
      "id": "75e92936",
      "metadata": {
        "id": "75e92936"
      },
      "source": [
        "## <a name=\"model_evaluation\">Model Evaluation</a>\n"
      ]
    },
    {
      "cell_type": "markdown",
      "id": "494300df",
      "metadata": {
        "id": "494300df"
      },
      "source": [
        "### <a name=\"visualization_base_cnn_model\">Visualization of Base CNN Model</a>\n"
      ]
    },
    {
      "cell_type": "code",
      "execution_count": null,
      "id": "384c5987",
      "metadata": {
        "id": "384c5987",
        "outputId": "f014e519-29c6-48fb-90e0-fdbaf372b83c"
      },
      "outputs": [
        {
          "name": "stdout",
          "output_type": "stream",
          "text": [
            "250/250 - 0s - loss: 0.6661 - accuracy: 0.7664\n",
            "Test accuracy on test data split: 0.7663750052452087\n"
          ]
        },
        {
          "data": {
            "image/png": "[encoded data removed]",
            "text/plain": [
              "<Figure size 432x288 with 1 Axes>"
            ]
          },
          "metadata": {
            "needs_background": "light"
          },
          "output_type": "display_data"
        }
      ],
      "source": [
        "# Create line graph for displaying test and train accuracy.\n",
        "plt.plot(final_model.history['accuracy'], label='Train Accuracy')\n",
        "plt.plot(final_model.history['val_accuracy'], label='Test Accuracy')\n",
        "plt.xlabel('Epoch')\n",
        "plt.ylabel('Accuracy')\n",
        "plt.ylim([0.5, 1])\n",
        "plt.legend(loc='best')\n",
        "\n",
        "# Calculate the test accuracy.\n",
        "test_loss1, test_acc1, *_ = model.evaluate(rotated_test_img, Y_test, verbose=2)\n",
        "print('Test accuracy on test data split:', test_acc1)\n"
      ]
    },
    {
      "cell_type": "markdown",
      "id": "fdcbd306",
      "metadata": {
        "id": "fdcbd306"
      },
      "source": [
        "### <a name=\"viaulization_vgg16_cnn_model\">Visualization of VGG16 CNN Model</a>\n"
      ]
    },
    {
      "cell_type": "code",
      "execution_count": null,
      "id": "9f107e27",
      "metadata": {
        "id": "9f107e27"
      },
      "outputs": [],
      "source": [
        "# Create line graph for displaying test and train accuracy.\n",
        "plt.plot(vgg_model.history['accuracy'], label='Train Accuracy')\n",
        "plt.plot(vgg_model.history['val_accuracy'], label='Test Accuracy')\n",
        "plt.xlabel('Epoch')\n",
        "plt.ylabel('Accuracy')\n",
        "plt.ylim([0.1, 1])\n",
        "plt.legend(loc='best')\n",
        "\n",
        "# Calculate the test accuracy.\n",
        "test_loss2, test_acc2, *_ = model.evaluate(rotated_test_img, Y_test)\n",
        "print('Test accuracy on test data split:', test_acc2)\n"
      ]
    },
    {
      "cell_type": "markdown",
      "id": "f3f54aff",
      "metadata": {
        "id": "f3f54aff"
      },
      "source": [
        "### <a name=\"visualization_best_cnn_model\">Visualization of Best Model</a>\n"
      ]
    },
    {
      "cell_type": "code",
      "execution_count": null,
      "id": "32c00bc1",
      "metadata": {
        "id": "32c00bc1",
        "outputId": "d11f284b-54c9-4325-e4ca-009fe65d5c97"
      },
      "outputs": [
        {
          "name": "stdout",
          "output_type": "stream",
          "text": [
            "250/250 [==============================] - 1s 3ms/step - loss: 0.6553 - accuracy: 0.7715\n",
            "Test accuracy on test data split: 0.7714999914169312\n"
          ]
        },
        {
          "data": {
            "image/png": "[encoded data removed]",
            "text/plain": [
              "<Figure size 432x288 with 1 Axes>"
            ]
          },
          "metadata": {
            "needs_background": "light"
          },
          "output_type": "display_data"
        }
      ],
      "source": [
        "# Create line graph for displaying test and train accuracy.\n",
        "plt.plot(hist.history['accuracy'], label='Train Accuracy')\n",
        "plt.plot(hist.history['val_accuracy'], label='Test Accuracy')\n",
        "plt.xlabel('Epoch')\n",
        "plt.ylabel('Accuracy')\n",
        "plt.ylim([0.5, 1])\n",
        "plt.legend(loc='best')\n",
        "\n",
        "# Calculate the test accuracy.\n",
        "test_loss3, test_acc3, *_ = model.evaluate(rotated_test_img, Y_test)\n",
        "print('Test accuracy on test data split:', test_acc3)\n"
      ]
    },
    {
      "cell_type": "markdown",
      "id": "8c80f460",
      "metadata": {
        "id": "8c80f460"
      },
      "source": [
        "## <a name=\"model_prediction\">Model Prediction</a>\n"
      ]
    },
    {
      "cell_type": "markdown",
      "id": "7bcf022f",
      "metadata": {
        "id": "7bcf022f"
      },
      "source": [
        "### <a name=\"prediction_best_cnn_model\">Prediction of Best CNN Model</a>\n"
      ]
    },
    {
      "cell_type": "code",
      "execution_count": null,
      "id": "4e464158",
      "metadata": {
        "id": "4e464158"
      },
      "outputs": [],
      "source": [
        "# Refernce: https://github.com/y33-j3T/Coursera-Deep-Learning/blob/master/Advanced%20Computer%20Vision%20with%20TensorFlow/Week%201%20-%20Introduction%20to%20Computer%20Vision/Copy%20of%20C3_W1_Lab_2_Transfer_Learning_CIFAR_10.ipynb\n",
        "\n",
        "# Define classes/objects.\n",
        "classes = ['airplane', 'automobile', 'bird',\n",
        "           'cat', 'deer', 'dog', 'frog', 'horse']\n",
        "\n",
        "\"\"\"\n",
        "Define function to plot images.\n",
        "Displays images with actual and predicted labels.\n",
        "\"\"\"\n",
        "\n",
        "\n",
        "def display_predictions(predict_test_imgs, preds, labels, title):\n",
        "    n_of_classes = 8\n",
        "\n",
        "    indexes = np.random.choice(len(preds), size=n_of_classes)\n",
        "    n_predict_test_imgs = predict_test_imgs[indexes]\n",
        "    n_preds = preds[indexes]\n",
        "    n_preds = n_preds.reshape((n_of_classes,))\n",
        "    n_labels = labels[indexes]\n",
        "\n",
        "    fig = plt.figure(figsize=(20, 4))\n",
        "    plt.title(title)\n",
        "    plt.yticks([])\n",
        "    plt.xticks([])\n",
        "\n",
        "# Display 8 random test images along with their actual and predicted labels.\n",
        "    for z in range(8):\n",
        "        ax = fig.add_subplot(1, 10, i+1)\n",
        "        class_index = n_preds[z]\n",
        "        pred_actual_labels = 'Predicted class:' + \\\n",
        "            classes[class_index] + '\\n' + \\\n",
        "            'Actual class:' + classes[n_labels[z]]\n",
        "        plt.xlabel(pred_actual_labels)\n",
        "        plt.xticks([])\n",
        "        plt.yticks([])\n",
        "        plt.imshow(n_predict_test_imgs[z])\n"
      ]
    },
    {
      "cell_type": "code",
      "execution_count": null,
      "id": "3V6fxzz7UujW",
      "metadata": {
        "id": "3V6fxzz7UujW",
        "outputId": "e5a5c18c-9ac9-4662-a660-86b0bf18cef9"
      },
      "outputs": [
        {
          "ename": "TypeError",
          "evalue": "only integer scalar arrays can be converted to a scalar index",
          "output_type": "error",
          "traceback": [
            "\u001b[0;31m---------------------------------------------------------------------------\u001b[0m",
            "\u001b[0;31mTypeError\u001b[0m                                 Traceback (most recent call last)",
            "\u001b[0;32m/tmp/ipykernel_24519/2144460913.py\u001b[0m in \u001b[0;36m<module>\u001b[0;34m\u001b[0m\n\u001b[1;32m      2\u001b[0m \u001b[0mprobabilities\u001b[0m \u001b[0;34m=\u001b[0m \u001b[0mnp\u001b[0m\u001b[0;34m.\u001b[0m\u001b[0margmax\u001b[0m\u001b[0;34m(\u001b[0m\u001b[0mprobabilities\u001b[0m\u001b[0;34m,\u001b[0m \u001b[0maxis\u001b[0m \u001b[0;34m=\u001b[0m \u001b[0;36m1\u001b[0m\u001b[0;34m)\u001b[0m\u001b[0;34m\u001b[0m\u001b[0;34m\u001b[0m\u001b[0m\n\u001b[1;32m      3\u001b[0m \u001b[0;34m\u001b[0m\u001b[0m\n\u001b[0;32m----> 4\u001b[0;31m \u001b[0mdisplay_images_prediction\u001b[0m\u001b[0;34m(\u001b[0m\u001b[0mrotated_test_img\u001b[0m\u001b[0;34m,\u001b[0m \u001b[0mprobabilities\u001b[0m\u001b[0;34m,\u001b[0m \u001b[0mY_test\u001b[0m\u001b[0;34m,\u001b[0m \u001b[0;34m'Predictions'\u001b[0m\u001b[0;34m)\u001b[0m\u001b[0;34m\u001b[0m\u001b[0;34m\u001b[0m\u001b[0m\n\u001b[0m",
            "\u001b[0;32m/tmp/ipykernel_24519/3877820117.py\u001b[0m in \u001b[0;36mdisplay_images_prediction\u001b[0;34m(digits, predictions, labels, title)\u001b[0m\n\u001b[1;32m     17\u001b[0m     \u001b[0max\u001b[0m \u001b[0;34m=\u001b[0m \u001b[0mfig\u001b[0m\u001b[0;34m.\u001b[0m\u001b[0madd_subplot\u001b[0m\u001b[0;34m(\u001b[0m\u001b[0;36m1\u001b[0m\u001b[0;34m,\u001b[0m \u001b[0;36m10\u001b[0m\u001b[0;34m,\u001b[0m \u001b[0mi\u001b[0m\u001b[0;34m+\u001b[0m\u001b[0;36m1\u001b[0m\u001b[0;34m)\u001b[0m\u001b[0;34m\u001b[0m\u001b[0;34m\u001b[0m\u001b[0m\n\u001b[1;32m     18\u001b[0m     \u001b[0mclass_index\u001b[0m \u001b[0;34m=\u001b[0m \u001b[0mn_predictions\u001b[0m\u001b[0;34m[\u001b[0m\u001b[0mi\u001b[0m\u001b[0;34m]\u001b[0m\u001b[0;34m\u001b[0m\u001b[0;34m\u001b[0m\u001b[0m\n\u001b[0;32m---> 19\u001b[0;31m     \u001b[0mxlabel\u001b[0m \u001b[0;34m=\u001b[0m \u001b[0;34m'Predicted:'\u001b[0m\u001b[0;34m+\u001b[0m \u001b[0mclasses\u001b[0m\u001b[0;34m[\u001b[0m\u001b[0mclass_index\u001b[0m\u001b[0;34m]\u001b[0m \u001b[0;34m+\u001b[0m \u001b[0;34m'\\n'\u001b[0m \u001b[0;34m+\u001b[0m \u001b[0;34m'Actual:'\u001b[0m \u001b[0;34m+\u001b[0m \u001b[0mclasses\u001b[0m\u001b[0;34m[\u001b[0m\u001b[0mn_labels\u001b[0m\u001b[0;34m[\u001b[0m\u001b[0mi\u001b[0m\u001b[0;34m]\u001b[0m\u001b[0;34m]\u001b[0m\u001b[0;34m\u001b[0m\u001b[0;34m\u001b[0m\u001b[0m\n\u001b[0m\u001b[1;32m     20\u001b[0m     \u001b[0mplt\u001b[0m\u001b[0;34m.\u001b[0m\u001b[0mxlabel\u001b[0m\u001b[0;34m(\u001b[0m\u001b[0mxlabel\u001b[0m\u001b[0;34m)\u001b[0m\u001b[0;34m\u001b[0m\u001b[0;34m\u001b[0m\u001b[0m\n\u001b[1;32m     21\u001b[0m     \u001b[0mplt\u001b[0m\u001b[0;34m.\u001b[0m\u001b[0mxticks\u001b[0m\u001b[0;34m(\u001b[0m\u001b[0;34m[\u001b[0m\u001b[0;34m]\u001b[0m\u001b[0;34m)\u001b[0m\u001b[0;34m\u001b[0m\u001b[0;34m\u001b[0m\u001b[0m\n",
            "\u001b[0;31mTypeError\u001b[0m: only integer scalar arrays can be converted to a scalar index"
          ]
        },
        {
          "data": {
            "image/png": "[encoded data removed]",
            "text/plain": [
              "<Figure size 1440x288 with 2 Axes>"
            ]
          },
          "metadata": {
            "needs_background": "light"
          },
          "output_type": "display_data"
        }
      ],
      "source": [
        "# Using the trained model to predict the test images.\n",
        "pred_chance = model.predict(rotated_test_img, batch_size=128)\n",
        "pred_chance = np.argmax(pred_chance, axis=1)\n",
        "\n",
        "# Utilizing display_predictions function to display images.\n",
        "display_predictions(\n",
        "    rotated_test_img, pred_chance, Y_test, 'Predictions')"
      ]
    },
    {
      "cell_type": "code",
      "execution_count": null,
      "id": "QaQZrwN9UujX",
      "metadata": {
        "id": "QaQZrwN9UujX"
      },
      "outputs": [],
      "source": []
    }
  ],
  "metadata": {
    "colab": {
      "collapsed_sections": [],
      "name": "Copy of image_recognition_dataset.ipynb",
      "provenance": []
    },
    "kernelspec": {
      "display_name": "Python 3",
      "language": "python",
      "name": "python3"
    },
    "language_info": {
      "codemirror_mode": {
        "name": "ipython",
        "version": 3
      },
      "file_extension": ".py",
      "mimetype": "text/x-python",
      "name": "python",
      "nbconvert_exporter": "python",
      "pygments_lexer": "ipython3",
      "version": "3.9.7"
    }
  },
  "nbformat": 4,
  "nbformat_minor": 5
}
