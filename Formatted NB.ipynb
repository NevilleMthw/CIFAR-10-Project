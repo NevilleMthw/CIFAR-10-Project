{
  "cells": [
    {
      "cell_type": "markdown",
      "id": "da8dd0c8",
      "metadata": {
        "id": "da8dd0c8"
      },
      "source": [
        "# COP508 Machine Learning CW\n"
      ]
    },
    {
      "cell_type": "markdown",
      "id": "f2984791",
      "metadata": {},
      "source": [
        "<b>Name -> Neville Mathew</b>\n",
        "<br>\n",
        "<b>Student No. -> F120315</b>"
      ]
    },
    {
      "cell_type": "markdown",
      "id": "5207d0b3",
      "metadata": {
        "id": "5207d0b3"
      },
      "source": [
        "## Table of Contents\n",
        "1. [Data Ingestion](#data-ingestion)\n",
        "    1. [Importing the Libraries](#import_libraries)\n",
        "    2. [Importing the Dataset](#importing_dataset)\n",
        "    3. [Splitting Dataset into Train & Test set](#dataset_split)\n",
        "    4. [Visualising Five Images from the Dataset](#visualize_images)\n",
        "\n",
        "2. [Data Preprocessing](#data_preprocessing)\n",
        "    1. [Grayscale Conversion](#grayscale)\n",
        "    2. [Normalization](#normalization)\n",
        "    3. [Gaussian Blur](#blur)\n",
        "    4. [Image Rotation](#rotate)\n",
        "    5. [One-Hot Encoding](#encoding)\n",
        "\n",
        "3. [Model Learning](#model_learning)\n",
        "    1. [Convolutional Neural Network (CNN) Models](#cnn_models)\n",
        "        1. [Base CNN Model](#base_cnn_model)\n",
        "        2. [ResNet50 CNN Model](#resnet50_cnn_model)\n",
        "        3. [Best CNN Model](#best_cnn_model)\n",
        "\n",
        "4. [Model Evaluation](#model_evaluation)\n",
        "    1. [Visualization of Base CNN Model](#visualization_base_cnn_model)\n",
        "    3. [Visualization of ResNet50 CNN Model](#visualization_resnet50_cnn_model)\n",
        "    4. [Visualization of Best CNN Model](#visualization_best_cnn_model)\n",
        "\n",
        "5. [Model Prediction](#model_prediction)\n",
        "    1. [Prediction of Best CNN Model](#prediction_best_cnn_model)\n",
        "    \n",
        "    \n"
      ]
    },
    {
      "cell_type": "markdown",
      "id": "33316fd1",
      "metadata": {
        "id": "33316fd1"
      },
      "source": [
        "## <a name=\"data-ingestion\">Data Ingestion</a>\n"
      ]
    },
    {
      "cell_type": "markdown",
      "id": "7975f6d2",
      "metadata": {
        "id": "7975f6d2"
      },
      "source": [
        "### <a name=\"import_libraries\">Importing the Libraries</a>\n"
      ]
    },
    {
      "cell_type": "code",
      "execution_count": 39,
      "id": "_f_StMjyUujE",
      "metadata": {
        "id": "_f_StMjyUujE"
      },
      "outputs": [],
      "source": [
        "import os\n",
        "import numpy as np\n",
        "import pickle\n",
        "import requests\n",
        "import matplotlib.pyplot as plt\n",
        "import cv2\n",
        "import wget\n",
        "import tensorflow as tf\n",
        "from tensorflow.keras.applications.resnet50 import ResNet50\n",
        "from sklearn.metrics import accuracy_score\n",
        "from matplotlib import image\n",
        "from scipy import ndimage\n",
        "from tensorflow import keras\n",
        "from tensorflow.keras import layers\n",
        "from tensorflow.keras.layers import Conv2D, MaxPool2D, Flatten, Dense, Dropout, Activation, BatchNormalization\n",
        "from keras.utils import np_utils\n",
        "from tensorflow.keras import optimizers\n",
        "from keras.models import Sequential\n"
      ]
    },
    {
      "cell_type": "markdown",
      "id": "fe6b960e",
      "metadata": {
        "id": "fe6b960e"
      },
      "source": [
        "### <a name=\"importing_dataset\">Importing the Dataset</a>\n"
      ]
    },
    {
      "cell_type": "code",
      "execution_count": 5,
      "id": "sVoI7_X6UujG",
      "metadata": {
        "id": "sVoI7_X6UujG"
      },
      "outputs": [],
      "source": [
        "path_to_check = os.path.join('', 'image_recognition_dataset.pth')\n",
        "data_path = path_to_check\n",
        "\n",
        "\n",
        "def load_dataset():\n",
        "    if not os.path.exists(path_to_check):\n",
        "        url = 'https://www.dropbox.com/s/j05hyf667ikzu4s/image_recognition_dataset.pth?dl=1'\n",
        "        filename = wget.download(url)\n",
        "        data_path = os.path.join('', filename)\n",
        "    else:\n",
        "        print(\"Data found on local {:s}\".format(path_to_check))\n",
        "        data_path = path_to_check\n",
        "\n",
        "    data = pickle.load(open(data_path, 'rb'))\n",
        "    train_imgs, train_labels, test_imgs, test_labels = data.values()\n",
        "    return train_imgs, train_labels, test_imgs, test_labels\n"
      ]
    },
    {
      "cell_type": "markdown",
      "id": "4334cbac",
      "metadata": {
        "id": "4334cbac"
      },
      "source": [
        "### <a name=\"dataset_split\">Splitting the Dataset into the Train & Test set</a>\n"
      ]
    },
    {
      "cell_type": "code",
      "execution_count": 6,
      "id": "xOE0QVfQUujI",
      "metadata": {
        "colab": {
          "base_uri": "https://localhost:8080/"
        },
        "id": "xOE0QVfQUujI",
        "outputId": "dc335af8-02f1-4eb0-a869-e0ad09daf12a"
      },
      "outputs": [
        {
          "name": "stdout",
          "output_type": "stream",
          "text": [
            "Data found on local image_recognition_dataset.pth\n"
          ]
        }
      ],
      "source": [
        "train_imgs, train_labels, test_imgs, test_labels = load_dataset()\n"
      ]
    },
    {
      "cell_type": "markdown",
      "id": "329c6710",
      "metadata": {
        "id": "329c6710"
      },
      "source": [
        "### <a name=\"display_dataset\">Displaying Dataset Information</a>\n"
      ]
    },
    {
      "cell_type": "code",
      "execution_count": 7,
      "id": "16Vd_aSQUujK",
      "metadata": {
        "colab": {
          "base_uri": "https://localhost:8080/"
        },
        "id": "16Vd_aSQUujK",
        "outputId": "9d8919c0-d19c-4531-904c-3ea7b4bfaa12"
      },
      "outputs": [
        {
          "name": "stdout",
          "output_type": "stream",
          "text": [
            "Total number of classes in dataset -> 8\n",
            "Shape of image training set ->  (40000, 32, 32, 3)\n",
            "Number of training images in dataset ->  40000\n",
            "Number of testing images in dataset ->  8000\n"
          ]
        }
      ],
      "source": [
        "dataset_classes = len(np.unique(train_labels))\n",
        "print(\"Total number of classes in dataset -> {:d}\".format(dataset_classes))\n",
        "print(\"Shape of image training set -> \", train_imgs.shape)\n",
        "print(\"Number of training images in dataset -> \", train_imgs.shape[0])\n",
        "print(\"Number of testing images in dataset -> \", test_imgs.shape[0])\n"
      ]
    },
    {
      "cell_type": "markdown",
      "id": "a383e471",
      "metadata": {
        "id": "a383e471"
      },
      "source": [
        "### <a name=\"visualize_images\">Visualising Five Images from the Dataset</a>\n"
      ]
    },
    {
      "cell_type": "code",
      "execution_count": 8,
      "id": "HDk6E9rvUujL",
      "metadata": {
        "colab": {
          "base_uri": "https://localhost:8080/",
          "height": 138
        },
        "id": "HDk6E9rvUujL",
        "outputId": "00bd2b11-52e5-4b7d-f196-5035aa8067ad"
      },
      "outputs": [
        {
          "name": "stderr",
          "output_type": "stream",
          "text": [
            "/home/lunet/conm/.conda/envs/cop508/lib/python3.9/site-packages/matplotlib/text.py:1223: FutureWarning: elementwise comparison failed; returning scalar instead, but in the future will perform elementwise comparison\n",
            "  if s != self._text:\n"
          ]
        },
        {
          "data": {
            "image/png": "[encoded data removed]",
            "text/plain": [
              "<Figure size 432x288 with 8 Axes>"
            ]
          },
          "metadata": {
            "needs_background": "light"
          },
          "output_type": "display_data"
        }
      ],
      "source": [
        "def plot_trained_images() -> None:\n",
        "    for i in range(8):\n",
        "        plt.subplot(1, 8, i+1)\n",
        "        imgData = np.array(train_imgs[i])\n",
        "        plt.title(train_labels[i])\n",
        "        plt.imshow(imgData)\n",
        "        plt.axis('off')\n",
        "\n",
        "\n",
        "plot_trained_images()\n"
      ]
    },
    {
      "cell_type": "code",
      "execution_count": 9,
      "id": "5e0bfed7",
      "metadata": {
        "colab": {
          "base_uri": "https://localhost:8080/",
          "height": 138
        },
        "id": "5e0bfed7",
        "outputId": "932de0f3-868f-4ba5-dfe7-83119ffa0ff4"
      },
      "outputs": [
        {
          "data": {
            "image/png": "[encoded data removed]",
            "text/plain": [
              "<Figure size 432x288 with 8 Axes>"
            ]
          },
          "metadata": {
            "needs_background": "light"
          },
          "output_type": "display_data"
        }
      ],
      "source": [
        "def plot_test_images() -> None:\n",
        "    for i in range(8):\n",
        "        plt.subplot(1, 8, i+1)\n",
        "        imgData = np.array(test_imgs[i])\n",
        "        plt.title(test_labels[i])\n",
        "        plt.imshow(imgData)\n",
        "        plt.axis('off')\n",
        "\n",
        "\n",
        "plot_test_images()\n"
      ]
    },
    {
      "cell_type": "markdown",
      "id": "e992911c",
      "metadata": {
        "id": "e992911c"
      },
      "source": [
        "## <a name=\"data_preprocessing\">Data Preprocessing</a>\n"
      ]
    },
    {
      "cell_type": "markdown",
      "id": "f7d56252",
      "metadata": {
        "id": "f7d56252"
      },
      "source": [
        "### <a name=\"grayscale\">Grayscale Conversion</a>\n"
      ]
    },
    {
      "cell_type": "code",
      "execution_count": 10,
      "id": "e6a22e92",
      "metadata": {
        "colab": {
          "base_uri": "https://localhost:8080/",
          "height": 283
        },
        "id": "e6a22e92",
        "outputId": "598b6b4a-eb1e-414d-95e9-69329e47f58d"
      },
      "outputs": [
        {
          "data": {
            "text/plain": [
              "<matplotlib.image.AxesImage at 0x7f90242b03a0>"
            ]
          },
          "execution_count": 10,
          "metadata": {},
          "output_type": "execute_result"
        },
        {
          "data": {
            "image/png": "[encoded data removed]",
            "text/plain": [
              "<Figure size 432x288 with 1 Axes>"
            ]
          },
          "metadata": {
            "needs_background": "light"
          },
          "output_type": "display_data"
        }
      ],
      "source": [
        "# Conversion of colour image to grayscale.\n",
        "grayscale_train_img = [cv2.cvtColor(\n",
        "    one_img, cv2.COLOR_BGR2GRAY) for one_img in train_imgs]\n",
        "grayscale_test_img = [cv2.cvtColor(\n",
        "    one_img, cv2.COLOR_BGR2GRAY) for one_img in test_imgs]\n",
        "plt.imshow(grayscale_train_img[0], cmap='gray')\n"
      ]
    },
    {
      "cell_type": "markdown",
      "id": "8810e2d9",
      "metadata": {
        "id": "8810e2d9"
      },
      "source": [
        "### <a name=\"normalization\">Normalization</a>\n"
      ]
    },
    {
      "cell_type": "code",
      "execution_count": 11,
      "id": "cd6ddd71",
      "metadata": {
        "colab": {
          "base_uri": "https://localhost:8080/",
          "height": 283
        },
        "id": "cd6ddd71",
        "outputId": "8d4e22b6-c05f-4155-b659-ca7440756ce1"
      },
      "outputs": [
        {
          "data": {
            "text/plain": [
              "<matplotlib.image.AxesImage at 0x7f9023da16d0>"
            ]
          },
          "execution_count": 11,
          "metadata": {},
          "output_type": "execute_result"
        },
        {
          "data": {
            "image/png": "[encoded data removed]",
            "text/plain": [
              "<Figure size 432x288 with 1 Axes>"
            ]
          },
          "metadata": {
            "needs_background": "light"
          },
          "output_type": "display_data"
        }
      ],
      "source": [
        "# Normalizing all images in the dataset in the range of 0 and 1.\n",
        "normalized_train_img = [one_img/255.0 for one_img in train_imgs]\n",
        "normalized_test_img = [one_img/255.0 for one_img in test_imgs]\n",
        "plt.imshow(normalized_train_img[0])\n"
      ]
    },
    {
      "cell_type": "markdown",
      "id": "f0e1d41c",
      "metadata": {
        "id": "f0e1d41c"
      },
      "source": [
        "### <a name=\"blur\">Gaussian Blur</a>\n"
      ]
    },
    {
      "cell_type": "code",
      "execution_count": 12,
      "id": "f33f73ba",
      "metadata": {
        "colab": {
          "base_uri": "https://localhost:8080/",
          "height": 283
        },
        "id": "f33f73ba",
        "outputId": "f4729122-0792-4850-c255-0bdd817c24ec"
      },
      "outputs": [
        {
          "data": {
            "text/plain": [
              "<matplotlib.image.AxesImage at 0x7f9023896670>"
            ]
          },
          "execution_count": 12,
          "metadata": {},
          "output_type": "execute_result"
        },
        {
          "data": {
            "image/png": "[encoded data removed]",
            "text/plain": [
              "<Figure size 432x288 with 1 Axes>"
            ]
          },
          "metadata": {
            "needs_background": "light"
          },
          "output_type": "display_data"
        }
      ],
      "source": [
        "# Blurring images of sigma 1.\n",
        "blurred_train_img = [ndimage.gaussian_filter(\n",
        "    train_blur_imgs, sigma=0.5) for train_blur_imgs in normalized_train_img]\n",
        "blurred_test_img = [ndimage.gaussian_filter(\n",
        "    test_blur_imgs, sigma=0.5) for test_blur_imgs in normalized_test_img]\n",
        "plt.imshow(blurred_train_img[0])\n"
      ]
    },
    {
      "cell_type": "markdown",
      "id": "272cd6ff",
      "metadata": {
        "id": "272cd6ff"
      },
      "source": [
        "### <a name=\"rotation\">Image Rotation</a>\n"
      ]
    },
    {
      "cell_type": "code",
      "execution_count": 13,
      "id": "ae327bb7",
      "metadata": {
        "colab": {
          "base_uri": "https://localhost:8080/",
          "height": 301
        },
        "id": "ae327bb7",
        "outputId": "3d4d0ad9-a33c-4186-fbb2-384bff0f8b58"
      },
      "outputs": [
        {
          "name": "stderr",
          "output_type": "stream",
          "text": [
            "Clipping input data to the valid range for imshow with RGB data ([0..1] for floats or [0..255] for integers).\n"
          ]
        },
        {
          "data": {
            "text/plain": [
              "<matplotlib.image.AxesImage at 0x7f90234853d0>"
            ]
          },
          "execution_count": 13,
          "metadata": {},
          "output_type": "execute_result"
        },
        {
          "data": {
            "image/png": "[encoded data removed]",
            "text/plain": [
              "<Figure size 432x288 with 1 Axes>"
            ]
          },
          "metadata": {
            "needs_background": "light"
          },
          "output_type": "display_data"
        }
      ],
      "source": [
        "# Rotation of images to 180 degrees through the use of a list comprehension.\n",
        "rotated_train_img = np.array([ndimage.rotate(\n",
        "    train_rotate_imgs, angle=180) for train_rotate_imgs in normalized_train_img])\n",
        "rotated_test_img = np.array([ndimage.rotate(\n",
        "    test_rotate_imgs, angle=180) for test_rotate_imgs in normalized_test_img])\n",
        "plt.imshow(rotated_train_img[0])\n"
      ]
    },
    {
      "cell_type": "markdown",
      "id": "cQmiaD1FaE9o",
      "metadata": {
        "id": "cQmiaD1FaE9o"
      },
      "source": [
        "### <a name=\"encoding\">One-Hot Encoding</a>\n"
      ]
    },
    {
      "cell_type": "code",
      "execution_count": 20,
      "id": "a84df959",
      "metadata": {
        "colab": {
          "base_uri": "https://localhost:8080/"
        },
        "id": "a84df959",
        "outputId": "4b34ab4b-0afe-4f2c-8274-6e1c1b4ebdbc"
      },
      "outputs": [],
      "source": [
        "# Reshaping of rotated_train_img and rotated_test_img which are numpy arrays.\n",
        "rotated_train_img = rotated_train_img.reshape(\n",
        "    rotated_train_img.shape[0], 32, 32, 3)\n",
        "rotated_test_img = rotated_test_img.reshape(\n",
        "    rotated_test_img.shape[0], 32, 32, 3)\n",
        "\n",
        "# rotated_train_img = rotated_train_img.astype('int')\n",
        "# rotated_test_img = rotated_test_img.astype('int')\n",
        "\n",
        "# one-hot encoding - Used to help in preprocessing categorical features of the images.\n",
        "no_of_classes = 8\n",
        "print(\"Shape of training split before one-hot encoding -> \", train_labels.shape)\n",
        "Y_train = np_utils.to_categorical(train_labels, no_of_classes)\n",
        "Y_test = np_utils.to_categorical(test_labels, no_of_classes)\n",
        "print(\"Shape of training split after one-hot encoding -> \", Y_train.shape)\n",
        "\n"
      ]
    },
    {
      "cell_type": "markdown",
      "id": "d877da98",
      "metadata": {
        "id": "d877da98"
      },
      "source": [
        "## <a name=\"model_learning\">Model Learning</a>\n"
      ]
    },
    {
      "cell_type": "markdown",
      "id": "b8abfeba",
      "metadata": {
        "id": "b8abfeba"
      },
      "source": [
        "### <a name=\"cnn_models\">Convolutional Neural Network (CNN) Models</a>\n"
      ]
    },
    {
      "cell_type": "markdown",
      "id": "7b7be011",
      "metadata": {
        "id": "7b7be011"
      },
      "source": [
        "#### <a name=\"base_cnn_model\">Base CNN Model</a>\n"
      ]
    },
    {
      "cell_type": "code",
      "execution_count": 12,
      "id": "9b8a60d0",
      "metadata": {
        "id": "9b8a60d0"
      },
      "outputs": [
        {
          "name": "stderr",
          "output_type": "stream",
          "text": [
            "2022-01-12 21:29:13.831023: I tensorflow/compiler/jit/xla_cpu_device.cc:41] Not creating XLA devices, tf_xla_enable_xla_devices not set\n",
            "2022-01-12 21:29:13.832479: I tensorflow/stream_executor/platform/default/dso_loader.cc:49] Successfully opened dynamic library libcuda.so.1\n",
            "2022-01-12 21:29:13.883664: I tensorflow/stream_executor/cuda/cuda_gpu_executor.cc:941] successful NUMA node read from SysFS had negative value (-1), but there must be at least one NUMA node, so returning NUMA node zero\n",
            "2022-01-12 21:29:13.884187: I tensorflow/core/common_runtime/gpu/gpu_device.cc:1720] Found device 0 with properties: \n",
            "pciBusID: 0000:01:00.0 name: NVIDIA GeForce RTX 2080 Ti computeCapability: 7.5\n",
            "coreClock: 1.545GHz coreCount: 68 deviceMemorySize: 10.76GiB deviceMemoryBandwidth: 573.69GiB/s\n",
            "2022-01-12 21:29:13.884214: I tensorflow/stream_executor/platform/default/dso_loader.cc:49] Successfully opened dynamic library libcudart.so.10.1\n",
            "2022-01-12 21:29:13.885707: I tensorflow/stream_executor/platform/default/dso_loader.cc:49] Successfully opened dynamic library libcublas.so.10\n",
            "2022-01-12 21:29:13.885755: I tensorflow/stream_executor/platform/default/dso_loader.cc:49] Successfully opened dynamic library libcublasLt.so.10\n",
            "2022-01-12 21:29:13.887086: I tensorflow/stream_executor/platform/default/dso_loader.cc:49] Successfully opened dynamic library libcufft.so.10\n",
            "2022-01-12 21:29:13.887314: I tensorflow/stream_executor/platform/default/dso_loader.cc:49] Successfully opened dynamic library libcurand.so.10\n",
            "2022-01-12 21:29:13.888513: I tensorflow/stream_executor/platform/default/dso_loader.cc:49] Successfully opened dynamic library libcusolver.so.10\n",
            "2022-01-12 21:29:13.889140: I tensorflow/stream_executor/platform/default/dso_loader.cc:49] Successfully opened dynamic library libcusparse.so.10\n",
            "2022-01-12 21:29:13.891690: I tensorflow/stream_executor/platform/default/dso_loader.cc:49] Successfully opened dynamic library libcudnn.so.7\n",
            "2022-01-12 21:29:13.891791: I tensorflow/stream_executor/cuda/cuda_gpu_executor.cc:941] successful NUMA node read from SysFS had negative value (-1), but there must be at least one NUMA node, so returning NUMA node zero\n",
            "2022-01-12 21:29:13.892270: I tensorflow/stream_executor/cuda/cuda_gpu_executor.cc:941] successful NUMA node read from SysFS had negative value (-1), but there must be at least one NUMA node, so returning NUMA node zero\n",
            "2022-01-12 21:29:13.892630: I tensorflow/core/common_runtime/gpu/gpu_device.cc:1862] Adding visible gpu devices: 0\n",
            "2022-01-12 21:29:13.892886: I tensorflow/core/platform/cpu_feature_guard.cc:142] This TensorFlow binary is optimized with oneAPI Deep Neural Network Library (oneDNN) to use the following CPU instructions in performance-critical operations:  SSE4.1 SSE4.2 AVX AVX2 FMA\n",
            "To enable them in other operations, rebuild TensorFlow with the appropriate compiler flags.\n",
            "2022-01-12 21:29:13.893153: I tensorflow/stream_executor/cuda/cuda_gpu_executor.cc:941] successful NUMA node read from SysFS had negative value (-1), but there must be at least one NUMA node, so returning NUMA node zero\n",
            "2022-01-12 21:29:13.893526: I tensorflow/core/common_runtime/gpu/gpu_device.cc:1720] Found device 0 with properties: \n",
            "pciBusID: 0000:01:00.0 name: NVIDIA GeForce RTX 2080 Ti computeCapability: 7.5\n",
            "coreClock: 1.545GHz coreCount: 68 deviceMemorySize: 10.76GiB deviceMemoryBandwidth: 573.69GiB/s\n",
            "2022-01-12 21:29:13.893546: I tensorflow/stream_executor/platform/default/dso_loader.cc:49] Successfully opened dynamic library libcudart.so.10.1\n",
            "2022-01-12 21:29:13.893564: I tensorflow/stream_executor/platform/default/dso_loader.cc:49] Successfully opened dynamic library libcublas.so.10\n",
            "2022-01-12 21:29:13.893582: I tensorflow/stream_executor/platform/default/dso_loader.cc:49] Successfully opened dynamic library libcublasLt.so.10\n",
            "2022-01-12 21:29:13.893599: I tensorflow/stream_executor/platform/default/dso_loader.cc:49] Successfully opened dynamic library libcufft.so.10\n",
            "2022-01-12 21:29:13.893617: I tensorflow/stream_executor/platform/default/dso_loader.cc:49] Successfully opened dynamic library libcurand.so.10\n",
            "2022-01-12 21:29:13.893634: I tensorflow/stream_executor/platform/default/dso_loader.cc:49] Successfully opened dynamic library libcusolver.so.10\n",
            "2022-01-12 21:29:13.893653: I tensorflow/stream_executor/platform/default/dso_loader.cc:49] Successfully opened dynamic library libcusparse.so.10\n",
            "2022-01-12 21:29:13.893670: I tensorflow/stream_executor/platform/default/dso_loader.cc:49] Successfully opened dynamic library libcudnn.so.7\n",
            "2022-01-12 21:29:13.893722: I tensorflow/stream_executor/cuda/cuda_gpu_executor.cc:941] successful NUMA node read from SysFS had negative value (-1), but there must be at least one NUMA node, so returning NUMA node zero\n",
            "2022-01-12 21:29:13.894123: I tensorflow/stream_executor/cuda/cuda_gpu_executor.cc:941] successful NUMA node read from SysFS had negative value (-1), but there must be at least one NUMA node, so returning NUMA node zero\n",
            "2022-01-12 21:29:13.894479: I tensorflow/core/common_runtime/gpu/gpu_device.cc:1862] Adding visible gpu devices: 0\n",
            "2022-01-12 21:29:13.894506: I tensorflow/stream_executor/platform/default/dso_loader.cc:49] Successfully opened dynamic library libcudart.so.10.1\n",
            "2022-01-12 21:29:14.173622: I tensorflow/core/common_runtime/gpu/gpu_device.cc:1261] Device interconnect StreamExecutor with strength 1 edge matrix:\n",
            "2022-01-12 21:29:14.173643: I tensorflow/core/common_runtime/gpu/gpu_device.cc:1267]      0 \n",
            "2022-01-12 21:29:14.173647: I tensorflow/core/common_runtime/gpu/gpu_device.cc:1280] 0:   N \n",
            "2022-01-12 21:29:14.173818: I tensorflow/stream_executor/cuda/cuda_gpu_executor.cc:941] successful NUMA node read from SysFS had negative value (-1), but there must be at least one NUMA node, so returning NUMA node zero\n",
            "2022-01-12 21:29:14.174125: I tensorflow/stream_executor/cuda/cuda_gpu_executor.cc:941] successful NUMA node read from SysFS had negative value (-1), but there must be at least one NUMA node, so returning NUMA node zero\n",
            "2022-01-12 21:29:14.174401: I tensorflow/stream_executor/cuda/cuda_gpu_executor.cc:941] successful NUMA node read from SysFS had negative value (-1), but there must be at least one NUMA node, so returning NUMA node zero\n",
            "2022-01-12 21:29:14.174657: I tensorflow/core/common_runtime/gpu/gpu_device.cc:1406] Created TensorFlow device (/job:localhost/replica:0/task:0/device:GPU:0 with 10010 MB memory) -> physical GPU (device: 0, name: NVIDIA GeForce RTX 2080 Ti, pci bus id: 0000:01:00.0, compute capability: 7.5)\n",
            "2022-01-12 21:29:14.174825: I tensorflow/compiler/jit/xla_gpu_device.cc:99] Not creating XLA devices, tf_xla_enable_xla_devices not set\n",
            "2022-01-12 21:29:14.458701: I tensorflow/compiler/mlir/mlir_graph_optimization_pass.cc:116] None of the MLIR optimization passes are enabled (registered 2)\n",
            "2022-01-12 21:29:14.459134: I tensorflow/core/platform/profile_utils/cpu_utils.cc:112] CPU Frequency: 3000000000 Hz\n"
          ]
        },
        {
          "name": "stdout",
          "output_type": "stream",
          "text": [
            "Epoch 1/2\n"
          ]
        },
        {
          "name": "stderr",
          "output_type": "stream",
          "text": [
            "2022-01-12 21:29:14.999632: I tensorflow/stream_executor/platform/default/dso_loader.cc:49] Successfully opened dynamic library libcublas.so.10\n",
            "2022-01-12 21:29:15.128054: I tensorflow/stream_executor/platform/default/dso_loader.cc:49] Successfully opened dynamic library libcudnn.so.7\n"
          ]
        },
        {
          "name": "stdout",
          "output_type": "stream",
          "text": [
            "313/313 [==============================] - 5s 13ms/step - loss: 1.9160 - accuracy: 0.2321 - auc: 0.6461 - val_loss: 1.3650 - val_accuracy: 0.4981 - val_auc: 0.8686\n",
            "Epoch 2/2\n",
            "313/313 [==============================] - 4s 12ms/step - loss: 1.3717 - accuracy: 0.4944 - auc: 0.8602 - val_loss: 1.0969 - val_accuracy: 0.6037 - val_auc: 0.9187\n"
          ]
        },
        {
          "data": {
            "text/plain": [
              "(<tensorflow.python.keras.engine.sequential.Sequential at 0x7f3d5e590c40>,\n",
              " <tensorflow.python.keras.callbacks.History at 0x7f3d5c0fc880>)"
            ]
          },
          "execution_count": 12,
          "metadata": {},
          "output_type": "execute_result"
        }
      ],
      "source": [
        "# Reference: https://www.analyticsvidhya.com/blog/2020/02/learn-image-classification-cnn-convolutional-neural-networks-3-datasets/\n",
        "\n",
        "# To prevent any memory build up from old models or layers.\n",
        "keras.backend.clear_session()\n",
        "np.random.seed(15)\n",
        "tf.random.set_seed(15)\n",
        "\n",
        "\n",
        "def base_cnn_model() -> Sequential:\n",
        "    \"\"\"\n",
        "    Function which returns the base model.\n",
        "    :rtype: Sequential\n",
        "    \"\"\"\n",
        "    # Creating an early stopping function to monitor loss while keeping the best results.\n",
        "    early_callback = tf.keras.callbacks.EarlyStopping(\n",
        "        monitor='loss', restore_best_weights=True, patience=0)\n",
        "\n",
        "    # Initializing Sequential model, creating linear stack of model layers.\n",
        "    base_cnn_model.model = Sequential()\n",
        "\n",
        "    # Adding 3 convolutional layers with max pooling and dropout functions.\n",
        "    base_cnn_model.model.add(Conv2D(32, kernel_size=(3, 3), strides=(1, 1),\n",
        "                    padding='same', input_shape=(32, 32, 3), activation='relu'))\n",
        "\n",
        "    base_cnn_model.model.add(Conv2D(64, kernel_size=(3, 3), strides=(\n",
        "        1, 1), padding='same', activation='relu'))\n",
        "    base_cnn_model.model.add(MaxPool2D(pool_size=(2, 2)))\n",
        "    base_cnn_model.model.add(Dropout(0.25))\n",
        "\n",
        "    base_cnn_model.model.add(Conv2D(128, kernel_size=(3, 3), strides=(\n",
        "        1, 1), padding='same', activation='relu'))\n",
        "    base_cnn_model.model.add(MaxPool2D(pool_size=(2, 2)))\n",
        "    base_cnn_model.model.add(Dropout(0.25))\n",
        "\n",
        "    # Flattening convolutional layer output.\n",
        "    base_cnn_model.model.add(Flatten())\n",
        "\n",
        "    # Adding 2 hidden layers.\n",
        "    base_cnn_model.model.add(Dense(500, activation='relu'))\n",
        "    base_cnn_model.model.add(Dropout(0.75))\n",
        "    base_cnn_model.model.add(Dense(250, activation='relu'))\n",
        "    base_cnn_model.model.add(Dropout(0.55))\n",
        "\n",
        "    # Final output layer with 8 classes.\n",
        "    base_cnn_model.model.add(Dense(8, activation='softmax'))\n",
        "\n",
        "    # Compilation of sequential model with suitable parameters.\n",
        "    base_cnn_model.model.compile(loss='categorical_crossentropy',\n",
        "                metrics=['accuracy', 'AUC'], optimizer='adam')\n",
        "\n",
        "    # Training model for 20 epochs\n",
        "    base_cnn_model.base_final_model = base_cnn_model.model.fit(rotated_train_img, Y_train, batch_size=128, epochs=20, callbacks=[\n",
        "                            early_callback], validation_data=(rotated_test_img, Y_test))\n",
        "    \n",
        "    return base_cnn_model.model, base_cnn_model.base_final_model\n",
        "\n",
        "base_cnn_model()"
      ]
    },
    {
      "cell_type": "markdown",
      "id": "926d0beb",
      "metadata": {
        "id": "926d0beb"
      },
      "source": [
        "#### <a name=\"resnet50_cnn_model\">ResNet-50 CNN Model</a>\n"
      ]
    },
    {
      "cell_type": "code",
      "execution_count": 53,
      "id": "a778b88f",
      "metadata": {},
      "outputs": [],
      "source": [
        "def preprocess_image_resnet50(data_images: None) -> None:\n",
        "  \"\"\"\n",
        "  Function to preprocess the images for ResNet50 model.\n",
        "  :param data_images: Images to be preprocessed.\n",
        "  :return: Preprocessed images.\n",
        "  :rtype: None\n",
        "  \"\"\"\n",
        "  data_images = data_images.astype('float32')\n",
        "  output_images = tf.keras.applications.resnet50.preprocess_input(data_images)\n",
        "  return output_images\n",
        "\n",
        "# Using function to preprocess the images.\n",
        "train_X = preprocess_image_resnet50(train_imgs)\n",
        "valid_X = preprocess_image_resnet50(test_imgs)"
      ]
    },
    {
      "cell_type": "code",
      "execution_count": 63,
      "id": "14b7f218",
      "metadata": {
        "id": "14b7f218",
        "outputId": "d5b29c3c-0ecd-4ea0-f7d2-a8b26202e898"
      },
      "outputs": [],
      "source": [
        "# Reference: https://github.com/y33-j3T/Coursera-Deep-Learning/blob/master/Advanced%20Computer%20Vision%20with%20TensorFlow/Week%201%20-%20Introduction%20to%20Computer%20Vision/Copy%20of%20C3_W1_Lab_2_Transfer_Learning_CIFAR_10.ipynb\n",
        "\n",
        "keras.backend.clear_session()\n",
        "np.random.seed(15)\n",
        "tf.random.set_seed(15)\n",
        "\n",
        "\n",
        "def resnet50_model(image_inputs: None) -> None:\n",
        "    \"\"\"\n",
        "    Pretrained model on imagenet weights with respective input shape.\n",
        "    :param inputs: Inputs to the model.\n",
        "    :return: Outputs of the model.\n",
        "    :rtype: None\n",
        "    \"\"\"\n",
        "    resnet50_model_features = tf.keras.applications.ResNet50(input_shape=(224, 224, 3),\n",
        "                                                             include_top=False,\n",
        "                                                             weights='imagenet')(image_inputs)\n",
        "\n",
        "    return resnet50_model_features\n",
        "\n",
        "\n",
        "def resnet50_classifier(image_inputs: None) -> None:\n",
        "    \"\"\"\n",
        "    Initialize hidden layer and output layer with softmax activation function.\n",
        "    :param image_inputs: Image inputs to the model.\n",
        "    :return: Outputs of the model.\n",
        "    :rtype: None\n",
        "    \"\"\"\n",
        "    classify = tf.keras.layers.GlobalAveragePooling2D()(image_inputs)\n",
        "    classify = tf.keras.layers.Flatten()(classify)\n",
        "    classify = tf.keras.layers.Dense(1024, activation=\"relu\")(classify)\n",
        "    classify = tf.keras.layers.Dense(512, activation=\"relu\")(classify)\n",
        "    classify = tf.keras.layers.Dense(8, activation=\"softmax\",\n",
        "                                     name=\"classification\")(classify)\n",
        "\n",
        "    return classify\n",
        "\n",
        "\n",
        "def complete_resnet50_model(image_inputs: None) -> None:\n",
        "    \"\"\"\n",
        "    Upsampling in order to transform the images with the input size as (224, 224).\n",
        "    :param image_inputs: Image inputs to the model.\n",
        "    :return: Classification layer of the model.\n",
        "    :rtype: None\n",
        "    \"\"\"\n",
        "\n",
        "    upsample = tf.keras.layers.UpSampling2D(size=(7, 7))(image_inputs)\n",
        "\n",
        "    resnet_extractor = resnet50_model(upsample)\n",
        "    final_classification = classifier(resnet_extractor)\n",
        "\n",
        "    return final_classification\n",
        "\n",
        "\n",
        "def compile_resnet50_model() -> None:\n",
        "    \"\"\"\n",
        "    Compile the model with the optimizer, loss function and metrics.\n",
        "    :param model: Model to be compiled.\n",
        "    :return: Compiled model.\n",
        "    :rtype: None\n",
        "    \"\"\"\n",
        "    image_inputs = tf.keras.layers.Input(shape=(32, 32, 3))\n",
        "\n",
        "    final_classification = complete_resnet50_model(image_inputs)\n",
        "    model = tf.keras.Model(inputs=image_inputs, outputs=final_classification)\n",
        "\n",
        "    model.compile(optimizer='SGD',\n",
        "                  loss='sparse_categorical_crossentropy',\n",
        "                  metrics=['accuracy'])\n",
        "\n",
        "    return model\n",
        "\n",
        "\n",
        "model = compile_resnet50_model()\n"
      ]
    },
    {
      "cell_type": "code",
      "execution_count": 29,
      "id": "a43fd993",
      "metadata": {
        "id": "a43fd993",
        "outputId": "18ec42dc-408f-436b-b842-d17f06b0e39d"
      },
      "outputs": [
        {
          "name": "stdout",
          "output_type": "stream",
          "text": [
            "Epoch 1/4\n",
            "625/625 [==============================] - 158s 252ms/step - loss: 0.0180 - accuracy: 0.9955 - val_loss: 0.1572 - val_accuracy: 0.9548\n",
            "Epoch 2/4\n",
            "625/625 [==============================] - 159s 254ms/step - loss: 0.0045 - accuracy: 0.9997 - val_loss: 0.1619 - val_accuracy: 0.9594\n",
            "Epoch 3/4\n",
            "625/625 [==============================] - 159s 254ms/step - loss: 0.0038 - accuracy: 0.9995 - val_loss: 0.1711 - val_accuracy: 0.9570\n",
            "Epoch 4/4\n",
            "625/625 [==============================] - 159s 254ms/step - loss: 0.0054 - accuracy: 0.9991 - val_loss: 0.1752 - val_accuracy: 0.9565\n"
          ]
        }
      ],
      "source": [
        "# Training ResNet50 model for 4 epochs.\n",
        "resnet_model = model.fit(train_X, train_labels, epochs=4,\n",
        "          validation_data=(valid_X, test_labels), batch_size=64)\n"
      ]
    },
    {
      "cell_type": "markdown",
      "id": "944356ab",
      "metadata": {
        "id": "944356ab"
      },
      "source": [
        "#### <a name=\"best_cnn_model\">Best CNN Model</a>\n"
      ]
    },
    {
      "cell_type": "code",
      "execution_count": 15,
      "id": "cd6e24b8",
      "metadata": {
        "id": "cd6e24b8",
        "outputId": "e3183da7-c4ac-4ef2-8fea-c9013b8e112e"
      },
      "outputs": [
        {
          "name": "stdout",
          "output_type": "stream",
          "text": [
            "Epoch 1/25\n",
            "313/313 [==============================] - 5s 15ms/step - loss: 1.9689 - accuracy: 0.1878 - val_loss: 1.5500 - val_accuracy: 0.4056\n",
            "Epoch 2/25\n",
            "313/313 [==============================] - 4s 14ms/step - loss: 1.4748 - accuracy: 0.4424 - val_loss: 1.1694 - val_accuracy: 0.5673\n",
            "Epoch 3/25\n",
            "313/313 [==============================] - 5s 15ms/step - loss: 1.2130 - accuracy: 0.5502 - val_loss: 1.0540 - val_accuracy: 0.6124\n",
            "Epoch 4/25\n",
            "313/313 [==============================] - 5s 15ms/step - loss: 1.0764 - accuracy: 0.6045 - val_loss: 0.9577 - val_accuracy: 0.6566\n",
            "Epoch 5/25\n",
            "313/313 [==============================] - 5s 15ms/step - loss: 0.9934 - accuracy: 0.6450 - val_loss: 0.8469 - val_accuracy: 0.6960\n",
            "Epoch 6/25\n",
            "313/313 [==============================] - 5s 15ms/step - loss: 0.9022 - accuracy: 0.6822 - val_loss: 0.8136 - val_accuracy: 0.7099\n",
            "Epoch 7/25\n",
            "313/313 [==============================] - 5s 15ms/step - loss: 0.8680 - accuracy: 0.6961 - val_loss: 0.7475 - val_accuracy: 0.7350\n",
            "Epoch 8/25\n",
            "313/313 [==============================] - 5s 15ms/step - loss: 0.8150 - accuracy: 0.7156 - val_loss: 0.8025 - val_accuracy: 0.7212\n",
            "Epoch 9/25\n",
            "313/313 [==============================] - 5s 15ms/step - loss: 0.7676 - accuracy: 0.7329 - val_loss: 0.7375 - val_accuracy: 0.7405\n",
            "Epoch 10/25\n",
            "313/313 [==============================] - 5s 15ms/step - loss: 0.7291 - accuracy: 0.7448 - val_loss: 0.6887 - val_accuracy: 0.7569\n",
            "Epoch 11/25\n",
            "313/313 [==============================] - 5s 15ms/step - loss: 0.7077 - accuracy: 0.7570 - val_loss: 0.7019 - val_accuracy: 0.7520\n",
            "Epoch 12/25\n",
            "313/313 [==============================] - 5s 15ms/step - loss: 0.6960 - accuracy: 0.7612 - val_loss: 0.6412 - val_accuracy: 0.7755\n",
            "Epoch 13/25\n",
            "313/313 [==============================] - 5s 15ms/step - loss: 0.6836 - accuracy: 0.7671 - val_loss: 0.6270 - val_accuracy: 0.7821\n",
            "Epoch 14/25\n",
            "313/313 [==============================] - 4s 14ms/step - loss: 0.6540 - accuracy: 0.7782 - val_loss: 0.6237 - val_accuracy: 0.7875\n",
            "Epoch 15/25\n",
            "313/313 [==============================] - 5s 15ms/step - loss: 0.6390 - accuracy: 0.7804 - val_loss: 0.6672 - val_accuracy: 0.7736\n",
            "Epoch 16/25\n",
            "313/313 [==============================] - 5s 15ms/step - loss: 0.6111 - accuracy: 0.7914 - val_loss: 0.6167 - val_accuracy: 0.7869\n",
            "Epoch 17/25\n",
            "313/313 [==============================] - 5s 15ms/step - loss: 0.6071 - accuracy: 0.7923 - val_loss: 0.6398 - val_accuracy: 0.7810\n",
            "Epoch 18/25\n",
            "313/313 [==============================] - 5s 15ms/step - loss: 0.5910 - accuracy: 0.7969 - val_loss: 0.6124 - val_accuracy: 0.7906\n",
            "Epoch 19/25\n",
            "313/313 [==============================] - 5s 15ms/step - loss: 0.5851 - accuracy: 0.8022 - val_loss: 0.6039 - val_accuracy: 0.7926\n",
            "Epoch 20/25\n",
            "313/313 [==============================] - 4s 14ms/step - loss: 0.5785 - accuracy: 0.8047 - val_loss: 0.6008 - val_accuracy: 0.7958\n",
            "Epoch 21/25\n",
            "313/313 [==============================] - 5s 14ms/step - loss: 0.5563 - accuracy: 0.8145 - val_loss: 0.6144 - val_accuracy: 0.7928\n",
            "Epoch 22/25\n",
            "313/313 [==============================] - 5s 15ms/step - loss: 0.5492 - accuracy: 0.8145 - val_loss: 0.5735 - val_accuracy: 0.7962\n",
            "Epoch 23/25\n",
            "313/313 [==============================] - 4s 14ms/step - loss: 0.5257 - accuracy: 0.8206 - val_loss: 0.5724 - val_accuracy: 0.8037\n",
            "Epoch 24/25\n",
            "313/313 [==============================] - 5s 15ms/step - loss: 0.5327 - accuracy: 0.8213 - val_loss: 0.5565 - val_accuracy: 0.8094\n",
            "Epoch 25/25\n",
            "313/313 [==============================] - 4s 14ms/step - loss: 0.5111 - accuracy: 0.8289 - val_loss: 0.5356 - val_accuracy: 0.8198\n"
          ]
        },
        {
          "data": {
            "text/plain": [
              "(<tensorflow.python.keras.engine.sequential.Sequential at 0x7f3d5f6f0640>,\n",
              " <tensorflow.python.keras.callbacks.History at 0x7f3d5fa3c670>)"
            ]
          },
          "execution_count": 15,
          "metadata": {},
          "output_type": "execute_result"
        }
      ],
      "source": [
        "# To prevent any memory build up from old models or layers.\n",
        "keras.backend.clear_session()\n",
        "np.random.seed(15)\n",
        "tf.random.set_seed(15)\n",
        "\n",
        "def best_cnn_model() -> Sequential:\n",
        "    \"\"\"\n",
        "    Function which returns the best model.\n",
        "    :rtype: Sequential\n",
        "    \"\"\"\n",
        "    # Creating an early stopping function to monitor loss while keeping the best results.\n",
        "    early_callback = tf.keras.callbacks.EarlyStopping(\n",
        "        monitor='loss', restore_best_weights=True, patience=10)\n",
        "\n",
        "    # Initializing Sequential model, creating linear stack of model layers.\n",
        "    best_cnn_model.model2 = Sequential()\n",
        "\n",
        "    # Adding 6 convolutional layers with max pooling and dropout functions.\n",
        "    best_cnn_model.model2.add(Conv2D(32, input_shape=(32, 32, 3), kernel_size=(\n",
        "        3, 3), strides=(1, 1), padding=\"same\", activation=\"relu\"))\n",
        "\n",
        "    best_cnn_model.model2.add(Conv2D(64, kernel_size=(3, 3), strides=(\n",
        "        1, 1), padding=\"same\", activation=\"relu\"))\n",
        "    best_cnn_model.model2.add(MaxPool2D(pool_size=(2, 2)))\n",
        "    best_cnn_model.model2.add(Dropout(0.25))\n",
        "\n",
        "    best_cnn_model.model2.add(Conv2D(128, kernel_size=(3, 3), strides=(\n",
        "        1, 1), padding=\"same\", activation=\"relu\"))\n",
        "    best_cnn_model.model2.add(MaxPool2D(pool_size=(2, 2)))\n",
        "    best_cnn_model.model2.add(Dropout(0.25))\n",
        "\n",
        "    best_cnn_model.model2.add(Conv2D(256, kernel_size=(3, 3), strides=(\n",
        "        1, 1), padding=\"same\", activation=\"relu\"))\n",
        "    best_cnn_model.model2.add(MaxPool2D(pool_size=(2, 2)))\n",
        "    best_cnn_model.model2.add(Dropout(0.25))\n",
        "\n",
        "    best_cnn_model.model2.add(Conv2D(512, kernel_size=(3, 3), strides=(\n",
        "        1, 1), padding=\"same\", activation=\"relu\"))\n",
        "    best_cnn_model.model2.add(MaxPool2D(pool_size=(2, 2)))\n",
        "    best_cnn_model.model2.add(Dropout(0.25))\n",
        "\n",
        "    best_cnn_model.model2.add(Conv2D(512, kernel_size=(3, 3), strides=(\n",
        "        1, 1), padding=\"same\", activation=\"relu\"))\n",
        "    best_cnn_model.model2.add(MaxPool2D(pool_size=(2, 2)))\n",
        "    best_cnn_model.model2.add(Dropout(0.25))\n",
        "\n",
        "    # Flattening convolutional layer output.\n",
        "    best_cnn_model.model2.add(Flatten())\n",
        "\n",
        "    # Adding 2 hidden layers.\n",
        "    best_cnn_model.model2.add(Dense(500, activation=\"relu\"))\n",
        "    best_cnn_model.model2.add(Dropout(0.75))\n",
        "    best_cnn_model.model2.add(Dense(200, activation=\"relu\"))\n",
        "    best_cnn_model.model2.add(Dropout(0.3))\n",
        "\n",
        "    # Final output layer with 8 classes.\n",
        "    best_cnn_model.model2.add(Dense(8, activation=\"softmax\"))\n",
        "\n",
        "    # Compilation of sequential model with suitable parameters.\n",
        "    best_cnn_model.model2.compile(optimizer='adam', loss='categorical_crossentropy',\n",
        "                metrics=['accuracy'])\n",
        "\n",
        "    # Training model for 25 epochs\n",
        "    best_cnn_model.best_model = best_cnn_model.model2.fit(rotated_train_img, Y_train, batch_size=128, callbacks=[\n",
        "                    early_callback], epochs=25, validation_data=(rotated_test_img, Y_test))\n",
        "    \n",
        "    return best_cnn_model.model2, best_cnn_model.best_model\n",
        "\n",
        "best_cnn_model()"
      ]
    },
    {
      "cell_type": "markdown",
      "id": "75e92936",
      "metadata": {
        "id": "75e92936"
      },
      "source": [
        "## <a name=\"model_evaluation\">Model Evaluation</a>\n"
      ]
    },
    {
      "cell_type": "markdown",
      "id": "494300df",
      "metadata": {
        "id": "494300df"
      },
      "source": [
        "### <a name=\"visualization_base_cnn_model\">Visualization of Base CNN Model</a>\n"
      ]
    },
    {
      "cell_type": "code",
      "execution_count": 13,
      "id": "384c5987",
      "metadata": {
        "id": "384c5987",
        "outputId": "f014e519-29c6-48fb-90e0-fdbaf372b83c"
      },
      "outputs": [
        {
          "name": "stderr",
          "output_type": "stream",
          "text": [
            "No artists with labels found to put in legend.  Note that artists whose label start with an underscore are ignored when legend() is called with no argument.\n"
          ]
        },
        {
          "name": "stdout",
          "output_type": "stream",
          "text": [
            "250/250 - 1s - loss: 1.0969 - accuracy: 0.6037 - auc: 0.9187\n",
            "Test accuracy on test data split: 0.6037499904632568\n"
          ]
        },
        {
          "data": {
            "image/png": "[encoded data removed]",
            "text/plain": [
              "<Figure size 432x288 with 1 Axes>"
            ]
          },
          "metadata": {
            "needs_background": "light"
          },
          "output_type": "display_data"
        }
      ],
      "source": [
        "# Create line graph for displaying test and train accuracy.\n",
        "plt.plot(base_cnn_model.base_final_model.history['accuracy'], label='Train Accuracy')\n",
        "plt.plot(base_cnn_model.base_final_model.history['val_accuracy'], label='Test Accuracy')\n",
        "plt.xlabel('Epochs')\n",
        "plt.ylabel('Accuracy')\n",
        "plt.ylim([0.5, 1])\n",
        "plt.legend(loc='best')\n",
        "\n",
        "# Calculate the test accuracy.\n",
        "test_acc, test_loss, *_= base_cnn_model.model.evaluate(rotated_test_img, Y_test, verbose=2)\n",
        "print('Test accuracy on test data split -> ', test_acc)\n"
      ]
    },
    {
      "cell_type": "markdown",
      "id": "ef1617cc",
      "metadata": {},
      "source": [
        "###  <a name=\"visualization_resnet50_cnn_model\">Visualization of ResNet50 CNN Model</a>"
      ]
    },
    {
      "cell_type": "code",
      "execution_count": 30,
      "id": "6d908fed",
      "metadata": {},
      "outputs": [
        {
          "name": "stdout",
          "output_type": "stream",
          "text": [
            "250/250 [==============================] - 10s 35ms/step - loss: 0.7845 - accuracy: 0.8121\n",
            "Test accuracy on test data split ->  0.7845383286476135\n"
          ]
        },
        {
          "data": {
            "image/png": "[encoded data removed]",
            "text/plain": [
              "<Figure size 432x288 with 1 Axes>"
            ]
          },
          "metadata": {
            "needs_background": "light"
          },
          "output_type": "display_data"
        }
      ],
      "source": [
        "# Create line graph for displaying test and train accuracy.\n",
        "plt.plot(resnet_model.history['accuracy'], label='Train Accuracy')\n",
        "plt.plot(resnet_model.history['val_accuracy'], label='Test Accuracy')\n",
        "plt.xlabel('Epochs')\n",
        "plt.ylabel('Accuracy')\n",
        "plt.ylim([0.5, 1])\n",
        "plt.legend(loc='best')\n",
        "\n",
        "test_acc, test_loss, *_ = model.evaluate(test_imgs, test_labels)\n",
        "print('Test accuracy on test data split -> ', test_acc)"
      ]
    },
    {
      "cell_type": "markdown",
      "id": "f3f54aff",
      "metadata": {
        "id": "f3f54aff"
      },
      "source": [
        "### <a name=\"visualization_best_cnn_model\">Visualization of Best Model</a>\n"
      ]
    },
    {
      "cell_type": "code",
      "execution_count": 16,
      "id": "32c00bc1",
      "metadata": {
        "id": "32c00bc1",
        "outputId": "d11f284b-54c9-4325-e4ca-009fe65d5c97"
      },
      "outputs": [
        {
          "name": "stdout",
          "output_type": "stream",
          "text": [
            "250/250 [==============================] - 1s 5ms/step - loss: 0.5356 - accuracy: 0.8198\n",
            "Test accuracy on test data split: 0.8197500109672546\n"
          ]
        },
        {
          "data": {
            "image/png": "[encoded data removed]",
            "text/plain": [
              "<Figure size 432x288 with 1 Axes>"
            ]
          },
          "metadata": {
            "needs_background": "light"
          },
          "output_type": "display_data"
        }
      ],
      "source": [
        "# Create line graph for displaying test and train accuracy.\n",
        "plt.plot(best_cnn_model.best_model.history['accuracy'], label='Train Accuracy')\n",
        "plt.plot(best_cnn_model.best_model.history['val_accuracy'], label='Test Accuracy')\n",
        "plt.xlabel('Epoch')\n",
        "plt.ylabel('Accuracy')\n",
        "plt.ylim([0.5, 1])\n",
        "plt.legend(loc='best')\n",
        "\n",
        "# Calculate the test accuracy.\n",
        "test_acc, test_loss, *_ = best_cnn_model.model2.evaluate(rotated_test_img, Y_test)\n",
        "print('Test accuracy on test data split -> ', test_acc)\n"
      ]
    },
    {
      "cell_type": "markdown",
      "id": "8c80f460",
      "metadata": {
        "id": "8c80f460"
      },
      "source": [
        "## <a name=\"model_prediction\">Model Prediction</a>\n"
      ]
    },
    {
      "cell_type": "markdown",
      "id": "7bcf022f",
      "metadata": {
        "id": "7bcf022f"
      },
      "source": [
        "### <a name=\"prediction_best_cnn_model\">Prediction of Best CNN Model</a>\n"
      ]
    },
    {
      "cell_type": "code",
      "execution_count": 114,
      "id": "4e464158",
      "metadata": {
        "id": "4e464158"
      },
      "outputs": [],
      "source": [
        "# Refernce: https://github.com/y33-j3T/Coursera-Deep-Learning/blob/master/Advanced%20Computer%20Vision%20with%20TensorFlow/Week%201%20-%20Introduction%20to%20Computer%20Vision/Copy%20of%20C3_W1_Lab_2_Transfer_Learning_CIFAR_10.ipynb\n",
        "\n",
        "# Define classes/objects.\n",
        "classes = ['airplane', 'automobile', 'bird',\n",
        "           'cat', 'deer', 'dog', 'frog', 'horse']\n",
        "\n",
        "\n",
        "\n",
        "\n",
        "def display_predictions(predict_test_imgs: None, preds: str, labels: str, title: str) -> str:\n",
        "    \"\"\"\n",
        "    Define function to plot images.\n",
        "    Displays images with actual and predicted labels.\n",
        "    :param None predict_test_imgs: Image to be displayed.\n",
        "    :param str preds: Predicted labels.\n",
        "    :param str labels: Actual labels.\n",
        "    :param str title: Title of figure.\n",
        "    :rtype: str\n",
        "    \"\"\"\n",
        "\n",
        "    n_of_classes = 8\n",
        "\n",
        "    indexes = np.random.choice(len(preds), size=n_of_classes)\n",
        "    n_predict_test_imgs = predict_test_imgs[indexes]\n",
        "    n_preds = preds[indexes]\n",
        "    n_preds = n_preds.reshape((n_of_classes))\n",
        "    n_labels = labels[indexes]\n",
        "\n",
        "    fig = plt.figure(figsize=(20, 3))\n",
        "    plt.title(title)\n",
        "    plt.yticks([])\n",
        "    plt.xticks([])\n",
        "\n",
        "# Display 8 random test images along with their actual and predicted labels.\n",
        "    for z in range(8):\n",
        "        ax = fig.add_subplot(1, 8, z+1)\n",
        "        class_index = n_preds[z]\n",
        "        actual_pred_labels = 'Predicted' + classes[class_index] + '\\n' + 'Actual' + classes[n_labels[0]]\n",
        "        plt.xlabel(actual_pred_labels)\n",
        "        plt.xticks([])\n",
        "        plt.yticks([])\n",
        "        plt.imshow(n_predict_test_imgs[z])\n"
      ]
    },
    {
      "cell_type": "code",
      "execution_count": 115,
      "id": "3V6fxzz7UujW",
      "metadata": {
        "id": "3V6fxzz7UujW",
        "outputId": "e5a5c18c-9ac9-4662-a660-86b0bf18cef9"
      },
      "outputs": [
        {
          "ename": "TypeError",
          "evalue": "only integer scalar arrays can be converted to a scalar index",
          "output_type": "error",
          "traceback": [
            "\u001b[0;31m---------------------------------------------------------------------------\u001b[0m",
            "\u001b[0;31mTypeError\u001b[0m                                 Traceback (most recent call last)",
            "\u001b[0;32m/tmp/ipykernel_30569/541309939.py\u001b[0m in \u001b[0;36m<module>\u001b[0;34m\u001b[0m\n\u001b[1;32m      4\u001b[0m \u001b[0;34m\u001b[0m\u001b[0m\n\u001b[1;32m      5\u001b[0m \u001b[0;31m# Utilizing display_predictions function to display images.\u001b[0m\u001b[0;34m\u001b[0m\u001b[0;34m\u001b[0m\u001b[0m\n\u001b[0;32m----> 6\u001b[0;31m display_predictions(\n\u001b[0m\u001b[1;32m      7\u001b[0m     rotated_test_img, pred_chance, Y_test, 'Predictions')\n",
            "\u001b[0;32m/tmp/ipykernel_30569/272475268.py\u001b[0m in \u001b[0;36mdisplay_predictions\u001b[0;34m(predict_test_imgs, preds, labels, title)\u001b[0m\n\u001b[1;32m     29\u001b[0m         \u001b[0max\u001b[0m \u001b[0;34m=\u001b[0m \u001b[0mfig\u001b[0m\u001b[0;34m.\u001b[0m\u001b[0madd_subplot\u001b[0m\u001b[0;34m(\u001b[0m\u001b[0;36m1\u001b[0m\u001b[0;34m,\u001b[0m \u001b[0;36m8\u001b[0m\u001b[0;34m,\u001b[0m \u001b[0mz\u001b[0m\u001b[0;34m+\u001b[0m\u001b[0;36m1\u001b[0m\u001b[0;34m)\u001b[0m\u001b[0;34m\u001b[0m\u001b[0;34m\u001b[0m\u001b[0m\n\u001b[1;32m     30\u001b[0m         \u001b[0mclass_index\u001b[0m \u001b[0;34m=\u001b[0m \u001b[0mn_preds\u001b[0m\u001b[0;34m[\u001b[0m\u001b[0mz\u001b[0m\u001b[0;34m]\u001b[0m\u001b[0;34m\u001b[0m\u001b[0;34m\u001b[0m\u001b[0m\n\u001b[0;32m---> 31\u001b[0;31m         \u001b[0mactual_pred_labels\u001b[0m \u001b[0;34m=\u001b[0m \u001b[0;34m'Predicted'\u001b[0m \u001b[0;34m+\u001b[0m \u001b[0mclasses\u001b[0m\u001b[0;34m[\u001b[0m\u001b[0mclass_index\u001b[0m\u001b[0;34m]\u001b[0m \u001b[0;34m+\u001b[0m \u001b[0;34m'\\n'\u001b[0m \u001b[0;34m+\u001b[0m \u001b[0;34m'Actual'\u001b[0m \u001b[0;34m+\u001b[0m \u001b[0mclasses\u001b[0m\u001b[0;34m[\u001b[0m\u001b[0mn_labels\u001b[0m\u001b[0;34m[\u001b[0m\u001b[0;36m0\u001b[0m\u001b[0;34m]\u001b[0m\u001b[0;34m]\u001b[0m\u001b[0;34m\u001b[0m\u001b[0;34m\u001b[0m\u001b[0m\n\u001b[0m\u001b[1;32m     32\u001b[0m         \u001b[0mplt\u001b[0m\u001b[0;34m.\u001b[0m\u001b[0mxlabel\u001b[0m\u001b[0;34m(\u001b[0m\u001b[0mactual_pred_labels\u001b[0m\u001b[0;34m)\u001b[0m\u001b[0;34m\u001b[0m\u001b[0;34m\u001b[0m\u001b[0m\n\u001b[1;32m     33\u001b[0m         \u001b[0mplt\u001b[0m\u001b[0;34m.\u001b[0m\u001b[0mxticks\u001b[0m\u001b[0;34m(\u001b[0m\u001b[0;34m[\u001b[0m\u001b[0;34m]\u001b[0m\u001b[0;34m)\u001b[0m\u001b[0;34m\u001b[0m\u001b[0;34m\u001b[0m\u001b[0m\n",
            "\u001b[0;31mTypeError\u001b[0m: only integer scalar arrays can be converted to a scalar index"
          ]
        },
        {
          "data": {
            "image/png": "[encoded data removed]",
            "text/plain": [
              "<Figure size 1440x216 with 2 Axes>"
            ]
          },
          "metadata": {
            "needs_background": "light"
          },
          "output_type": "display_data"
        }
      ],
      "source": [
        "# Using the trained model to predict the test images.\n",
        "pred_chance = model.predict(rotated_test_img, batch_size=128)\n",
        "pred_chance = np.argmax(pred_chance, axis=1)\n",
        "\n",
        "# Utilizing display_predictions function to display images.\n",
        "display_predictions(\n",
        "    rotated_test_img, pred_chance, Y_test, 'Predictions on test data')"
      ]
    }
  ],
  "metadata": {
    "colab": {
      "collapsed_sections": [],
      "name": "Copy of image_recognition_dataset.ipynb",
      "provenance": []
    },
    "kernelspec": {
      "display_name": "Python 3",
      "language": "python",
      "name": "python3"
    },
    "language_info": {
      "codemirror_mode": {
        "name": "ipython",
        "version": 3
      },
      "file_extension": ".py",
      "mimetype": "text/x-python",
      "name": "python",
      "nbconvert_exporter": "python",
      "pygments_lexer": "ipython3",
      "version": "3.9.7"
    }
  },
  "nbformat": 4,
  "nbformat_minor": 5
}
